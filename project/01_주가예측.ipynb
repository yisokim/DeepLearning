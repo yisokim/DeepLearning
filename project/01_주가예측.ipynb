{
 "cells": [
  {
   "cell_type": "markdown",
   "metadata": {},
   "source": [
    "# 주가 예측"
   ]
  },
  {
   "cell_type": "code",
   "execution_count": 1,
   "metadata": {},
   "outputs": [],
   "source": [
    "import numpy as np\r\n",
    "import pandas as pd\r\n",
    "import matplotlib as mpl\r\n",
    "import matplotlib.pyplot as plt\r\n",
    "%matplotlib inline\r\n",
    "mpl.rcParams['axes.unicode_minus'] = False \r\n",
    "plt.rcParams[\"font.family\"] = \"Malgun Gothic\"\r\n",
    "import warnings\r\n",
    "warnings.filterwarnings(\"ignore\")"
   ]
  },
  {
   "cell_type": "code",
   "execution_count": 2,
   "metadata": {},
   "outputs": [],
   "source": [
    "from datetime import datetime\r\n",
    "from fbprophet import Prophet\r\n",
    "import pandas_datareader as pdr\r\n",
    "import yfinance as yf"
   ]
  },
  {
   "cell_type": "markdown",
   "metadata": {},
   "source": [
    "## 주가 데이터 가져오기\r\n",
    "- Kakao Corp. (035720.KS)"
   ]
  },
  {
   "cell_type": "code",
   "execution_count": 17,
   "metadata": {},
   "outputs": [
    {
     "name": "stdout",
     "output_type": "stream",
     "text": [
      "[*********************100%***********************]  1 of 1 completed\n"
     ]
    }
   ],
   "source": [
    "start = datetime(2020, 9, 1)\r\n",
    "end = datetime(2021,6,30)\r\n",
    "kakao = yf.download('035720.KS', start=start, end=end)\r\n",
    "kakao.tail()\r\n",
    "\r\n",
    "kakao.to_csv('kakao.csv', encoding='utf8')"
   ]
  },
  {
   "cell_type": "code",
   "execution_count": 18,
   "metadata": {},
   "outputs": [
    {
     "name": "stdout",
     "output_type": "stream",
     "text": [
      "[*********************100%***********************]  1 of 1 completed\n"
     ]
    }
   ],
   "source": [
    "start = datetime(2020, 9, 1)\r\n",
    "end = datetime(2021,6,30)\r\n",
    "naver = yf.download('035420.KS', start=start, end=end) \r\n",
    "naver.tail()\r\n",
    "\r\n",
    "naver.to_csv('naver.csv', encoding='utf8')"
   ]
  },
  {
   "cell_type": "code",
   "execution_count": 19,
   "metadata": {},
   "outputs": [
    {
     "name": "stdout",
     "output_type": "stream",
     "text": [
      "[*********************100%***********************]  1 of 1 completed\n"
     ]
    }
   ],
   "source": [
    "start = datetime(2020, 9, 1)\r\n",
    "end = datetime(2021,6,30)\r\n",
    "shinsegae = yf.download('004170.KS', start=start, end=end) \r\n",
    "shinsegae.tail()\r\n",
    "\r\n",
    "shinsegae.to_csv('shinsegae.csv', encoding='utf8')"
   ]
  }
 ],
 "metadata": {
  "interpreter": {
   "hash": "8c1eae21719a0790335dcb83aad72b63b602cfe5cdb2bda0f60bc11d4f154e4b"
  },
  "kernelspec": {
   "display_name": "Python 3.8.5 64-bit ('base': conda)",
   "name": "python3"
  },
  "language_info": {
   "codemirror_mode": {
    "name": "ipython",
    "version": 3
   },
   "file_extension": ".py",
   "mimetype": "text/x-python",
   "name": "python",
   "nbconvert_exporter": "python",
   "pygments_lexer": "ipython3",
   "version": "3.8.5"
  },
  "orig_nbformat": 4
 },
 "nbformat": 4,
 "nbformat_minor": 2
}