{
 "cells": [
  {
   "cell_type": "markdown",
   "metadata": {},
   "source": [
    "# 주가 예측"
   ]
  },
  {
   "cell_type": "code",
   "execution_count": 1,
   "metadata": {},
   "outputs": [],
   "source": [
    "import numpy as np\r\n",
    "import pandas as pd\r\n",
    "import matplotlib as mpl\r\n",
    "import matplotlib.pyplot as plt\r\n",
    "%matplotlib inline\r\n",
    "mpl.rcParams['axes.unicode_minus'] = False \r\n",
    "plt.rcParams[\"font.family\"] = \"Malgun Gothic\"\r\n",
    "import warnings\r\n",
    "warnings.filterwarnings(\"ignore\")"
   ]
  },
  {
   "cell_type": "code",
   "execution_count": 2,
   "metadata": {},
   "outputs": [],
   "source": [
    "from datetime import datetime\r\n",
    "from fbprophet import Prophet\r\n",
    "import pandas_datareader as pdr\r\n",
    "import yfinance as yf"
   ]
  },
  {
   "cell_type": "markdown",
   "metadata": {},
   "source": [
    "## 주가 데이터 가져오기\r\n",
    "- Nasdaq 'QQQ'"
   ]
  },
  {
   "cell_type": "code",
   "execution_count": 3,
   "metadata": {},
   "outputs": [
    {
     "name": "stdout",
     "output_type": "stream",
     "text": [
      "[*********************100%***********************]  1 of 1 completed\n"
     ]
    },
    {
     "data": {
      "text/html": [
       "<div>\n",
       "<style scoped>\n",
       "    .dataframe tbody tr th:only-of-type {\n",
       "        vertical-align: middle;\n",
       "    }\n",
       "\n",
       "    .dataframe tbody tr th {\n",
       "        vertical-align: top;\n",
       "    }\n",
       "\n",
       "    .dataframe thead th {\n",
       "        text-align: right;\n",
       "    }\n",
       "</style>\n",
       "<table border=\"1\" class=\"dataframe\">\n",
       "  <thead>\n",
       "    <tr style=\"text-align: right;\">\n",
       "      <th></th>\n",
       "      <th>Open</th>\n",
       "      <th>High</th>\n",
       "      <th>Low</th>\n",
       "      <th>Close</th>\n",
       "      <th>Adj Close</th>\n",
       "      <th>Volume</th>\n",
       "    </tr>\n",
       "    <tr>\n",
       "      <th>Date</th>\n",
       "      <th></th>\n",
       "      <th></th>\n",
       "      <th></th>\n",
       "      <th></th>\n",
       "      <th></th>\n",
       "      <th></th>\n",
       "    </tr>\n",
       "  </thead>\n",
       "  <tbody>\n",
       "    <tr>\n",
       "      <th>2021-06-23</th>\n",
       "      <td>347.510010</td>\n",
       "      <td>348.920013</td>\n",
       "      <td>346.880005</td>\n",
       "      <td>347.739990</td>\n",
       "      <td>347.739990</td>\n",
       "      <td>27188500</td>\n",
       "    </tr>\n",
       "    <tr>\n",
       "      <th>2021-06-24</th>\n",
       "      <td>349.730011</td>\n",
       "      <td>351.459991</td>\n",
       "      <td>349.170013</td>\n",
       "      <td>349.890015</td>\n",
       "      <td>349.890015</td>\n",
       "      <td>32581600</td>\n",
       "    </tr>\n",
       "    <tr>\n",
       "      <th>2021-06-25</th>\n",
       "      <td>350.470001</td>\n",
       "      <td>350.720001</td>\n",
       "      <td>348.839996</td>\n",
       "      <td>349.459991</td>\n",
       "      <td>349.459991</td>\n",
       "      <td>28682800</td>\n",
       "    </tr>\n",
       "    <tr>\n",
       "      <th>2021-06-28</th>\n",
       "      <td>350.779999</td>\n",
       "      <td>353.850006</td>\n",
       "      <td>350.720001</td>\n",
       "      <td>353.709991</td>\n",
       "      <td>353.709991</td>\n",
       "      <td>39130300</td>\n",
       "    </tr>\n",
       "    <tr>\n",
       "      <th>2021-06-29</th>\n",
       "      <td>353.529999</td>\n",
       "      <td>355.019989</td>\n",
       "      <td>352.670013</td>\n",
       "      <td>354.989990</td>\n",
       "      <td>354.989990</td>\n",
       "      <td>29426000</td>\n",
       "    </tr>\n",
       "  </tbody>\n",
       "</table>\n",
       "</div>"
      ],
      "text/plain": [
       "                  Open        High         Low       Close   Adj Close  \\\n",
       "Date                                                                     \n",
       "2021-06-23  347.510010  348.920013  346.880005  347.739990  347.739990   \n",
       "2021-06-24  349.730011  351.459991  349.170013  349.890015  349.890015   \n",
       "2021-06-25  350.470001  350.720001  348.839996  349.459991  349.459991   \n",
       "2021-06-28  350.779999  353.850006  350.720001  353.709991  353.709991   \n",
       "2021-06-29  353.529999  355.019989  352.670013  354.989990  354.989990   \n",
       "\n",
       "              Volume  \n",
       "Date                  \n",
       "2021-06-23  27188500  \n",
       "2021-06-24  32581600  \n",
       "2021-06-25  28682800  \n",
       "2021-06-28  39130300  \n",
       "2021-06-29  29426000  "
      ]
     },
     "execution_count": 3,
     "metadata": {},
     "output_type": "execute_result"
    }
   ],
   "source": [
    "start = datetime(2015, 1, 1)\r\n",
    "end = datetime(2021,6,30)\r\n",
    "qqq = yf.download('QQQ', start=start, end=end)\r\n",
    "qqq.tail()"
   ]
  },
  {
   "cell_type": "code",
   "execution_count": 4,
   "metadata": {},
   "outputs": [
    {
     "name": "stdout",
     "output_type": "stream",
     "text": [
      "[*********************100%***********************]  1 of 1 completed\n"
     ]
    },
    {
     "data": {
      "text/html": [
       "<div>\n",
       "<style scoped>\n",
       "    .dataframe tbody tr th:only-of-type {\n",
       "        vertical-align: middle;\n",
       "    }\n",
       "\n",
       "    .dataframe tbody tr th {\n",
       "        vertical-align: top;\n",
       "    }\n",
       "\n",
       "    .dataframe thead th {\n",
       "        text-align: right;\n",
       "    }\n",
       "</style>\n",
       "<table border=\"1\" class=\"dataframe\">\n",
       "  <thead>\n",
       "    <tr style=\"text-align: right;\">\n",
       "      <th></th>\n",
       "      <th>Open</th>\n",
       "      <th>High</th>\n",
       "      <th>Low</th>\n",
       "      <th>Close</th>\n",
       "      <th>Adj Close</th>\n",
       "      <th>Volume</th>\n",
       "    </tr>\n",
       "    <tr>\n",
       "      <th>Date</th>\n",
       "      <th></th>\n",
       "      <th></th>\n",
       "      <th></th>\n",
       "      <th></th>\n",
       "      <th></th>\n",
       "      <th></th>\n",
       "    </tr>\n",
       "  </thead>\n",
       "  <tbody>\n",
       "    <tr>\n",
       "      <th>2021-06-28</th>\n",
       "      <td>81700.0</td>\n",
       "      <td>82000.0</td>\n",
       "      <td>81600.0</td>\n",
       "      <td>81900.0</td>\n",
       "      <td>81900.0</td>\n",
       "      <td>11578529</td>\n",
       "    </tr>\n",
       "    <tr>\n",
       "      <th>2021-06-29</th>\n",
       "      <td>81900.0</td>\n",
       "      <td>82100.0</td>\n",
       "      <td>80800.0</td>\n",
       "      <td>81000.0</td>\n",
       "      <td>81000.0</td>\n",
       "      <td>15744317</td>\n",
       "    </tr>\n",
       "    <tr>\n",
       "      <th>2021-06-30</th>\n",
       "      <td>81100.0</td>\n",
       "      <td>81400.0</td>\n",
       "      <td>80700.0</td>\n",
       "      <td>80700.0</td>\n",
       "      <td>80700.0</td>\n",
       "      <td>13288643</td>\n",
       "    </tr>\n",
       "    <tr>\n",
       "      <th>2021-07-01</th>\n",
       "      <td>80500.0</td>\n",
       "      <td>80600.0</td>\n",
       "      <td>80000.0</td>\n",
       "      <td>80100.0</td>\n",
       "      <td>80100.0</td>\n",
       "      <td>13382882</td>\n",
       "    </tr>\n",
       "    <tr>\n",
       "      <th>2021-07-02</th>\n",
       "      <td>80000.0</td>\n",
       "      <td>80400.0</td>\n",
       "      <td>79900.0</td>\n",
       "      <td>80200.0</td>\n",
       "      <td>80200.0</td>\n",
       "      <td>4178924</td>\n",
       "    </tr>\n",
       "  </tbody>\n",
       "</table>\n",
       "</div>"
      ],
      "text/plain": [
       "               Open     High      Low    Close  Adj Close    Volume\n",
       "Date                                                               \n",
       "2021-06-28  81700.0  82000.0  81600.0  81900.0    81900.0  11578529\n",
       "2021-06-29  81900.0  82100.0  80800.0  81000.0    81000.0  15744317\n",
       "2021-06-30  81100.0  81400.0  80700.0  80700.0    80700.0  13288643\n",
       "2021-07-01  80500.0  80600.0  80000.0  80100.0    80100.0  13382882\n",
       "2021-07-02  80000.0  80400.0  79900.0  80200.0    80200.0   4178924"
      ]
     },
     "execution_count": 4,
     "metadata": {},
     "output_type": "execute_result"
    }
   ],
   "source": [
    "sse = yf.download('005930.KS', start=start) \r\n",
    "sse.tail()"
   ]
  },
  {
   "cell_type": "code",
   "execution_count": 5,
   "metadata": {},
   "outputs": [
    {
     "data": {
      "image/png": "[encoded data removed]",
      "text/plain": [
       "<Figure size 864x432 with 1 Axes>"
      ]
     },
     "metadata": {
      "needs_background": "light"
     },
     "output_type": "display_data"
    }
   ],
   "source": [
    "qqq.Close.plot(figsize=(12,6), grid=True)\r\n",
    "plt.show()"
   ]
  },
  {
   "cell_type": "markdown",
   "metadata": {},
   "source": [
    "## Prophet 사용"
   ]
  },
  {
   "cell_type": "code",
   "execution_count": 6,
   "metadata": {},
   "outputs": [
    {
     "name": "stdout",
     "output_type": "stream",
     "text": [
      "[*********************100%***********************]  1 of 1 completed\n"
     ]
    },
    {
     "data": {
      "text/html": [
       "<div>\n",
       "<style scoped>\n",
       "    .dataframe tbody tr th:only-of-type {\n",
       "        vertical-align: middle;\n",
       "    }\n",
       "\n",
       "    .dataframe tbody tr th {\n",
       "        vertical-align: top;\n",
       "    }\n",
       "\n",
       "    .dataframe thead th {\n",
       "        text-align: right;\n",
       "    }\n",
       "</style>\n",
       "<table border=\"1\" class=\"dataframe\">\n",
       "  <thead>\n",
       "    <tr style=\"text-align: right;\">\n",
       "      <th></th>\n",
       "      <th>Open</th>\n",
       "      <th>High</th>\n",
       "      <th>Low</th>\n",
       "      <th>Close</th>\n",
       "      <th>Adj Close</th>\n",
       "      <th>Volume</th>\n",
       "    </tr>\n",
       "    <tr>\n",
       "      <th>Date</th>\n",
       "      <th></th>\n",
       "      <th></th>\n",
       "      <th></th>\n",
       "      <th></th>\n",
       "      <th></th>\n",
       "      <th></th>\n",
       "    </tr>\n",
       "  </thead>\n",
       "  <tbody>\n",
       "    <tr>\n",
       "      <th>2021-06-23</th>\n",
       "      <td>347.510010</td>\n",
       "      <td>348.920013</td>\n",
       "      <td>346.880005</td>\n",
       "      <td>347.739990</td>\n",
       "      <td>347.739990</td>\n",
       "      <td>27188500</td>\n",
       "    </tr>\n",
       "    <tr>\n",
       "      <th>2021-06-24</th>\n",
       "      <td>349.730011</td>\n",
       "      <td>351.459991</td>\n",
       "      <td>349.170013</td>\n",
       "      <td>349.890015</td>\n",
       "      <td>349.890015</td>\n",
       "      <td>32581600</td>\n",
       "    </tr>\n",
       "    <tr>\n",
       "      <th>2021-06-25</th>\n",
       "      <td>350.470001</td>\n",
       "      <td>350.720001</td>\n",
       "      <td>348.839996</td>\n",
       "      <td>349.459991</td>\n",
       "      <td>349.459991</td>\n",
       "      <td>28682800</td>\n",
       "    </tr>\n",
       "    <tr>\n",
       "      <th>2021-06-28</th>\n",
       "      <td>350.779999</td>\n",
       "      <td>353.850006</td>\n",
       "      <td>350.720001</td>\n",
       "      <td>353.709991</td>\n",
       "      <td>353.709991</td>\n",
       "      <td>39130300</td>\n",
       "    </tr>\n",
       "    <tr>\n",
       "      <th>2021-06-29</th>\n",
       "      <td>353.529999</td>\n",
       "      <td>355.019989</td>\n",
       "      <td>352.670013</td>\n",
       "      <td>354.989990</td>\n",
       "      <td>354.989990</td>\n",
       "      <td>29426000</td>\n",
       "    </tr>\n",
       "  </tbody>\n",
       "</table>\n",
       "</div>"
      ],
      "text/plain": [
       "                  Open        High         Low       Close   Adj Close  \\\n",
       "Date                                                                     \n",
       "2021-06-23  347.510010  348.920013  346.880005  347.739990  347.739990   \n",
       "2021-06-24  349.730011  351.459991  349.170013  349.890015  349.890015   \n",
       "2021-06-25  350.470001  350.720001  348.839996  349.459991  349.459991   \n",
       "2021-06-28  350.779999  353.850006  350.720001  353.709991  353.709991   \n",
       "2021-06-29  353.529999  355.019989  352.670013  354.989990  354.989990   \n",
       "\n",
       "              Volume  \n",
       "Date                  \n",
       "2021-06-23  27188500  \n",
       "2021-06-24  32581600  \n",
       "2021-06-25  28682800  \n",
       "2021-06-28  39130300  \n",
       "2021-06-29  29426000  "
      ]
     },
     "execution_count": 6,
     "metadata": {},
     "output_type": "execute_result"
    }
   ],
   "source": [
    "start = datetime(2015,1,1)\r\n",
    "end = datetime(2021, 6, 30)\r\n",
    "qqq = yf.download('QQQ',start=start, end=end)\r\n",
    "qqq.tail()"
   ]
  },
  {
   "cell_type": "code",
   "execution_count": 7,
   "metadata": {},
   "outputs": [
    {
     "data": {
      "text/html": [
       "<div>\n",
       "<style scoped>\n",
       "    .dataframe tbody tr th:only-of-type {\n",
       "        vertical-align: middle;\n",
       "    }\n",
       "\n",
       "    .dataframe tbody tr th {\n",
       "        vertical-align: top;\n",
       "    }\n",
       "\n",
       "    .dataframe thead th {\n",
       "        text-align: right;\n",
       "    }\n",
       "</style>\n",
       "<table border=\"1\" class=\"dataframe\">\n",
       "  <thead>\n",
       "    <tr style=\"text-align: right;\">\n",
       "      <th></th>\n",
       "      <th>ds</th>\n",
       "      <th>y</th>\n",
       "    </tr>\n",
       "    <tr>\n",
       "      <th>Date</th>\n",
       "      <th></th>\n",
       "      <th></th>\n",
       "    </tr>\n",
       "  </thead>\n",
       "  <tbody>\n",
       "    <tr>\n",
       "      <th>2014-12-31</th>\n",
       "      <td>2014-12-31</td>\n",
       "      <td>103.250000</td>\n",
       "    </tr>\n",
       "    <tr>\n",
       "      <th>2015-01-02</th>\n",
       "      <td>2015-01-02</td>\n",
       "      <td>102.940002</td>\n",
       "    </tr>\n",
       "    <tr>\n",
       "      <th>2015-01-05</th>\n",
       "      <td>2015-01-05</td>\n",
       "      <td>101.430000</td>\n",
       "    </tr>\n",
       "    <tr>\n",
       "      <th>2015-01-06</th>\n",
       "      <td>2015-01-06</td>\n",
       "      <td>100.070000</td>\n",
       "    </tr>\n",
       "    <tr>\n",
       "      <th>2015-01-07</th>\n",
       "      <td>2015-01-07</td>\n",
       "      <td>101.360001</td>\n",
       "    </tr>\n",
       "  </tbody>\n",
       "</table>\n",
       "</div>"
      ],
      "text/plain": [
       "                   ds           y\n",
       "Date                             \n",
       "2014-12-31 2014-12-31  103.250000\n",
       "2015-01-02 2015-01-02  102.940002\n",
       "2015-01-05 2015-01-05  101.430000\n",
       "2015-01-06 2015-01-06  100.070000\n",
       "2015-01-07 2015-01-07  101.360001"
      ]
     },
     "execution_count": 7,
     "metadata": {},
     "output_type": "execute_result"
    }
   ],
   "source": [
    "df = pd.DataFrame({\r\n",
    "    'ds' : qqq.index, 'y': qqq.Close\r\n",
    "})\r\n",
    "df.head()"
   ]
  },
  {
   "cell_type": "code",
   "execution_count": 11,
   "metadata": {},
   "outputs": [
    {
     "data": {
      "text/html": [
       "<div>\n",
       "<style scoped>\n",
       "    .dataframe tbody tr th:only-of-type {\n",
       "        vertical-align: middle;\n",
       "    }\n",
       "\n",
       "    .dataframe tbody tr th {\n",
       "        vertical-align: top;\n",
       "    }\n",
       "\n",
       "    .dataframe thead th {\n",
       "        text-align: right;\n",
       "    }\n",
       "</style>\n",
       "<table border=\"1\" class=\"dataframe\">\n",
       "  <thead>\n",
       "    <tr style=\"text-align: right;\">\n",
       "      <th></th>\n",
       "      <th>ds</th>\n",
       "      <th>y</th>\n",
       "    </tr>\n",
       "  </thead>\n",
       "  <tbody>\n",
       "    <tr>\n",
       "      <th>1630</th>\n",
       "      <td>2021-06-23</td>\n",
       "      <td>347.739990</td>\n",
       "    </tr>\n",
       "    <tr>\n",
       "      <th>1631</th>\n",
       "      <td>2021-06-24</td>\n",
       "      <td>349.890015</td>\n",
       "    </tr>\n",
       "    <tr>\n",
       "      <th>1632</th>\n",
       "      <td>2021-06-25</td>\n",
       "      <td>349.459991</td>\n",
       "    </tr>\n",
       "    <tr>\n",
       "      <th>1633</th>\n",
       "      <td>2021-06-28</td>\n",
       "      <td>353.709991</td>\n",
       "    </tr>\n",
       "    <tr>\n",
       "      <th>1634</th>\n",
       "      <td>2021-06-29</td>\n",
       "      <td>354.989990</td>\n",
       "    </tr>\n",
       "  </tbody>\n",
       "</table>\n",
       "</div>"
      ],
      "text/plain": [
       "             ds           y\n",
       "1630 2021-06-23  347.739990\n",
       "1631 2021-06-24  349.890015\n",
       "1632 2021-06-25  349.459991\n",
       "1633 2021-06-28  353.709991\n",
       "1634 2021-06-29  354.989990"
      ]
     },
     "execution_count": 11,
     "metadata": {},
     "output_type": "execute_result"
    }
   ],
   "source": [
    "df.reset_index(inplace=True)\r\n",
    "del df['Date']\r\n",
    "df.tail()"
   ]
  },
  {
   "cell_type": "code",
   "execution_count": 9,
   "metadata": {},
   "outputs": [
    {
     "name": "stderr",
     "output_type": "stream",
     "text": [
      "INFO:pystan:COMPILING THE C++ CODE FOR MODEL anon_model_5944b02c79788fa0db5b3a93728ca2bf NOW.\n"
     ]
    },
    {
     "data": {
      "text/plain": [
       "0.03820753950011869"
      ]
     },
     "execution_count": 9,
     "metadata": {},
     "output_type": "execute_result"
    }
   ],
   "source": [
    "import pystan\r\n",
    "model_code = 'parameters {real y;} model {y ~ normal(0,1);}'\r\n",
    "model = pystan.StanModel(model_code=model_code)  # this will take a minute\r\n",
    "y = model.sampling(n_jobs=1).extract()['y']\r\n",
    "y.mean()  # should be close to 0"
   ]
  },
  {
   "cell_type": "code",
   "execution_count": 10,
   "metadata": {},
   "outputs": [
    {
     "data": {
      "text/plain": [
       "<fbprophet.forecaster.Prophet at 0x179e26a38e0>"
      ]
     },
     "execution_count": 10,
     "metadata": {},
     "output_type": "execute_result"
    }
   ],
   "source": [
    "model = Prophet(daily_seasonality=True)\r\n",
    "model.fit(df)"
   ]
  },
  {
   "cell_type": "code",
   "execution_count": 12,
   "metadata": {},
   "outputs": [
    {
     "data": {
      "text/html": [
       "<div>\n",
       "<style scoped>\n",
       "    .dataframe tbody tr th:only-of-type {\n",
       "        vertical-align: middle;\n",
       "    }\n",
       "\n",
       "    .dataframe tbody tr th {\n",
       "        vertical-align: top;\n",
       "    }\n",
       "\n",
       "    .dataframe thead th {\n",
       "        text-align: right;\n",
       "    }\n",
       "</style>\n",
       "<table border=\"1\" class=\"dataframe\">\n",
       "  <thead>\n",
       "    <tr style=\"text-align: right;\">\n",
       "      <th></th>\n",
       "      <th>ds</th>\n",
       "    </tr>\n",
       "  </thead>\n",
       "  <tbody>\n",
       "    <tr>\n",
       "      <th>1814</th>\n",
       "      <td>2021-12-26</td>\n",
       "    </tr>\n",
       "    <tr>\n",
       "      <th>1815</th>\n",
       "      <td>2021-12-27</td>\n",
       "    </tr>\n",
       "    <tr>\n",
       "      <th>1816</th>\n",
       "      <td>2021-12-28</td>\n",
       "    </tr>\n",
       "    <tr>\n",
       "      <th>1817</th>\n",
       "      <td>2021-12-29</td>\n",
       "    </tr>\n",
       "    <tr>\n",
       "      <th>1818</th>\n",
       "      <td>2021-12-30</td>\n",
       "    </tr>\n",
       "  </tbody>\n",
       "</table>\n",
       "</div>"
      ],
      "text/plain": [
       "             ds\n",
       "1814 2021-12-26\n",
       "1815 2021-12-27\n",
       "1816 2021-12-28\n",
       "1817 2021-12-29\n",
       "1818 2021-12-30"
      ]
     },
     "execution_count": 12,
     "metadata": {},
     "output_type": "execute_result"
    }
   ],
   "source": [
    "future = model.make_future_dataframe(184)\r\n",
    "future.tail()"
   ]
  },
  {
   "cell_type": "code",
   "execution_count": 13,
   "metadata": {},
   "outputs": [
    {
     "data": {
      "image/png": "[encoded data removed]",
      "text/plain": [
       "<Figure size 720x432 with 1 Axes>"
      ]
     },
     "metadata": {},
     "output_type": "display_data"
    }
   ],
   "source": [
    "forecast = model.predict(future)\r\n",
    "model.plot(forecast);"
   ]
  },
  {
   "cell_type": "code",
   "execution_count": 14,
   "metadata": {},
   "outputs": [
    {
     "data": {
      "text/html": [
       "<div>\n",
       "<style scoped>\n",
       "    .dataframe tbody tr th:only-of-type {\n",
       "        vertical-align: middle;\n",
       "    }\n",
       "\n",
       "    .dataframe tbody tr th {\n",
       "        vertical-align: top;\n",
       "    }\n",
       "\n",
       "    .dataframe thead th {\n",
       "        text-align: right;\n",
       "    }\n",
       "</style>\n",
       "<table border=\"1\" class=\"dataframe\">\n",
       "  <thead>\n",
       "    <tr style=\"text-align: right;\">\n",
       "      <th></th>\n",
       "      <th>ds</th>\n",
       "      <th>trend</th>\n",
       "      <th>yhat_lower</th>\n",
       "      <th>yhat_upper</th>\n",
       "      <th>trend_lower</th>\n",
       "      <th>trend_upper</th>\n",
       "      <th>additive_terms</th>\n",
       "      <th>additive_terms_lower</th>\n",
       "      <th>additive_terms_upper</th>\n",
       "      <th>daily</th>\n",
       "      <th>...</th>\n",
       "      <th>weekly</th>\n",
       "      <th>weekly_lower</th>\n",
       "      <th>weekly_upper</th>\n",
       "      <th>yearly</th>\n",
       "      <th>yearly_lower</th>\n",
       "      <th>yearly_upper</th>\n",
       "      <th>multiplicative_terms</th>\n",
       "      <th>multiplicative_terms_lower</th>\n",
       "      <th>multiplicative_terms_upper</th>\n",
       "      <th>yhat</th>\n",
       "    </tr>\n",
       "  </thead>\n",
       "  <tbody>\n",
       "    <tr>\n",
       "      <th>0</th>\n",
       "      <td>2014-12-31</td>\n",
       "      <td>103.036491</td>\n",
       "      <td>94.670184</td>\n",
       "      <td>113.082364</td>\n",
       "      <td>103.036491</td>\n",
       "      <td>103.036491</td>\n",
       "      <td>1.307976</td>\n",
       "      <td>1.307976</td>\n",
       "      <td>1.307976</td>\n",
       "      <td>0.597463</td>\n",
       "      <td>...</td>\n",
       "      <td>0.096827</td>\n",
       "      <td>0.096827</td>\n",
       "      <td>0.096827</td>\n",
       "      <td>0.613686</td>\n",
       "      <td>0.613686</td>\n",
       "      <td>0.613686</td>\n",
       "      <td>0.0</td>\n",
       "      <td>0.0</td>\n",
       "      <td>0.0</td>\n",
       "      <td>104.344466</td>\n",
       "    </tr>\n",
       "    <tr>\n",
       "      <th>1</th>\n",
       "      <td>2015-01-02</td>\n",
       "      <td>103.146934</td>\n",
       "      <td>95.224190</td>\n",
       "      <td>113.822762</td>\n",
       "      <td>103.146934</td>\n",
       "      <td>103.146934</td>\n",
       "      <td>1.132629</td>\n",
       "      <td>1.132629</td>\n",
       "      <td>1.132629</td>\n",
       "      <td>0.597463</td>\n",
       "      <td>...</td>\n",
       "      <td>-0.086355</td>\n",
       "      <td>-0.086355</td>\n",
       "      <td>-0.086355</td>\n",
       "      <td>0.621521</td>\n",
       "      <td>0.621521</td>\n",
       "      <td>0.621521</td>\n",
       "      <td>0.0</td>\n",
       "      <td>0.0</td>\n",
       "      <td>0.0</td>\n",
       "      <td>104.279563</td>\n",
       "    </tr>\n",
       "    <tr>\n",
       "      <th>2</th>\n",
       "      <td>2015-01-05</td>\n",
       "      <td>103.312600</td>\n",
       "      <td>95.226342</td>\n",
       "      <td>113.463579</td>\n",
       "      <td>103.312600</td>\n",
       "      <td>103.312600</td>\n",
       "      <td>1.220316</td>\n",
       "      <td>1.220316</td>\n",
       "      <td>1.220316</td>\n",
       "      <td>0.597463</td>\n",
       "      <td>...</td>\n",
       "      <td>-0.099416</td>\n",
       "      <td>-0.099416</td>\n",
       "      <td>-0.099416</td>\n",
       "      <td>0.722269</td>\n",
       "      <td>0.722269</td>\n",
       "      <td>0.722269</td>\n",
       "      <td>0.0</td>\n",
       "      <td>0.0</td>\n",
       "      <td>0.0</td>\n",
       "      <td>104.532916</td>\n",
       "    </tr>\n",
       "    <tr>\n",
       "      <th>3</th>\n",
       "      <td>2015-01-06</td>\n",
       "      <td>103.367822</td>\n",
       "      <td>95.781917</td>\n",
       "      <td>114.193494</td>\n",
       "      <td>103.367822</td>\n",
       "      <td>103.367822</td>\n",
       "      <td>1.516414</td>\n",
       "      <td>1.516414</td>\n",
       "      <td>1.516414</td>\n",
       "      <td>0.597463</td>\n",
       "      <td>...</td>\n",
       "      <td>0.140584</td>\n",
       "      <td>0.140584</td>\n",
       "      <td>0.140584</td>\n",
       "      <td>0.778368</td>\n",
       "      <td>0.778368</td>\n",
       "      <td>0.778368</td>\n",
       "      <td>0.0</td>\n",
       "      <td>0.0</td>\n",
       "      <td>0.0</td>\n",
       "      <td>104.884236</td>\n",
       "    </tr>\n",
       "    <tr>\n",
       "      <th>4</th>\n",
       "      <td>2015-01-07</td>\n",
       "      <td>103.423044</td>\n",
       "      <td>96.426748</td>\n",
       "      <td>114.016387</td>\n",
       "      <td>103.423044</td>\n",
       "      <td>103.423044</td>\n",
       "      <td>1.538990</td>\n",
       "      <td>1.538990</td>\n",
       "      <td>1.538990</td>\n",
       "      <td>0.597463</td>\n",
       "      <td>...</td>\n",
       "      <td>0.096827</td>\n",
       "      <td>0.096827</td>\n",
       "      <td>0.096827</td>\n",
       "      <td>0.844701</td>\n",
       "      <td>0.844701</td>\n",
       "      <td>0.844701</td>\n",
       "      <td>0.0</td>\n",
       "      <td>0.0</td>\n",
       "      <td>0.0</td>\n",
       "      <td>104.962034</td>\n",
       "    </tr>\n",
       "  </tbody>\n",
       "</table>\n",
       "<p>5 rows × 22 columns</p>\n",
       "</div>"
      ],
      "text/plain": [
       "          ds       trend  yhat_lower  yhat_upper  trend_lower  trend_upper  \\\n",
       "0 2014-12-31  103.036491   94.670184  113.082364   103.036491   103.036491   \n",
       "1 2015-01-02  103.146934   95.224190  113.822762   103.146934   103.146934   \n",
       "2 2015-01-05  103.312600   95.226342  113.463579   103.312600   103.312600   \n",
       "3 2015-01-06  103.367822   95.781917  114.193494   103.367822   103.367822   \n",
       "4 2015-01-07  103.423044   96.426748  114.016387   103.423044   103.423044   \n",
       "\n",
       "   additive_terms  additive_terms_lower  additive_terms_upper     daily  ...  \\\n",
       "0        1.307976              1.307976              1.307976  0.597463  ...   \n",
       "1        1.132629              1.132629              1.132629  0.597463  ...   \n",
       "2        1.220316              1.220316              1.220316  0.597463  ...   \n",
       "3        1.516414              1.516414              1.516414  0.597463  ...   \n",
       "4        1.538990              1.538990              1.538990  0.597463  ...   \n",
       "\n",
       "     weekly  weekly_lower  weekly_upper    yearly  yearly_lower  yearly_upper  \\\n",
       "0  0.096827      0.096827      0.096827  0.613686      0.613686      0.613686   \n",
       "1 -0.086355     -0.086355     -0.086355  0.621521      0.621521      0.621521   \n",
       "2 -0.099416     -0.099416     -0.099416  0.722269      0.722269      0.722269   \n",
       "3  0.140584      0.140584      0.140584  0.778368      0.778368      0.778368   \n",
       "4  0.096827      0.096827      0.096827  0.844701      0.844701      0.844701   \n",
       "\n",
       "   multiplicative_terms  multiplicative_terms_lower  \\\n",
       "0                   0.0                         0.0   \n",
       "1                   0.0                         0.0   \n",
       "2                   0.0                         0.0   \n",
       "3                   0.0                         0.0   \n",
       "4                   0.0                         0.0   \n",
       "\n",
       "   multiplicative_terms_upper        yhat  \n",
       "0                         0.0  104.344466  \n",
       "1                         0.0  104.279563  \n",
       "2                         0.0  104.532916  \n",
       "3                         0.0  104.884236  \n",
       "4                         0.0  104.962034  \n",
       "\n",
       "[5 rows x 22 columns]"
      ]
     },
     "execution_count": 14,
     "metadata": {},
     "output_type": "execute_result"
    }
   ],
   "source": [
    "forecast.head()"
   ]
  },
  {
   "cell_type": "code",
   "execution_count": 15,
   "metadata": {},
   "outputs": [
    {
     "data": {
      "image/png": "[encoded data removed]",
      "text/plain": [
       "<Figure size 1152x576 with 1 Axes>"
      ]
     },
     "metadata": {
      "needs_background": "light"
     },
     "output_type": "display_data"
    }
   ],
   "source": [
    "plt.figure(figsize=(16,8))\r\n",
    "plt.plot(qqq.index, qqq.Close, label='QQQ real')\r\n",
    "plt.plot(forecast.ds, forecast.yhat, label='forecast')\r\n",
    "plt.grid()\r\n",
    "plt.legend()\r\n",
    "plt.show()"
   ]
  }
 ],
 "metadata": {
  "interpreter": {
   "hash": "8c1eae21719a0790335dcb83aad72b63b602cfe5cdb2bda0f60bc11d4f154e4b"
  },
  "kernelspec": {
   "display_name": "Python 3.8.5 64-bit ('base': conda)",
   "name": "python3"
  },
  "language_info": {
   "codemirror_mode": {
    "name": "ipython",
    "version": 3
   },
   "file_extension": ".py",
   "mimetype": "text/x-python",
   "name": "python",
   "nbconvert_exporter": "python",
   "pygments_lexer": "ipython3",
   "version": "3.8.5"
  },
  "orig_nbformat": 4
 },
 "nbformat": 4,
 "nbformat_minor": 2
}