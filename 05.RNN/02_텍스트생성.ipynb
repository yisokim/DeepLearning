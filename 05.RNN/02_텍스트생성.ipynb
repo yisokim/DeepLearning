{
 "cells": [
  {
   "cell_type": "code",
   "execution_count": null,
   "metadata": {},
   "outputs": [],
   "source": []
  },
  {
   "cell_type": "markdown",
   "metadata": {},
   "source": [
    "# RNN을 이용한 텍스트 생성(One-to-many 구조)\r\n",
    "'경마장에 있는 말이 뛰고 있다‘\r\n",
    "\r\n",
    "'그의 말이 법이다‘\r\n",
    "\r\n",
    "'가는 말이 고와야 오는 말이 곱다'"
   ]
  },
  {
   "cell_type": "code",
   "execution_count": 2,
   "metadata": {},
   "outputs": [],
   "source": [
    "import numpy as np\r\n",
    "import tensorflow as tf\r\n",
    "seed = 2021\r\n",
    "np.random.seed(seed)\r\n",
    "tf.random.set_seed(seed)"
   ]
  },
  {
   "cell_type": "code",
   "execution_count": 1,
   "metadata": {},
   "outputs": [],
   "source": [
    "text = '''\r\n",
    "경마장에 있는 말이 뛰고 있다\\n\r\n",
    "그의 말이 법이다\\n\r\n",
    "가는 말이 고와야 오는 말이 곱다\\n\r\n",
    "'''"
   ]
  },
  {
   "cell_type": "markdown",
   "metadata": {},
   "source": [
    "## 텍스트 전처리"
   ]
  },
  {
   "cell_type": "code",
   "execution_count": 3,
   "metadata": {},
   "outputs": [],
   "source": [
    "from tensorflow.keras.preprocessing.text import Tokenizer\r\n",
    "from tensorflow.keras.preprocessing.sequence import pad_sequences\r\n",
    "from tensorflow.keras.utils import to_categorical"
   ]
  },
  {
   "cell_type": "code",
   "execution_count": 4,
   "metadata": {},
   "outputs": [],
   "source": [
    "# 단어 집합 생성\r\n",
    "t = Tokenizer()\r\n",
    "t.fit_on_texts([text])\r\n",
    "# 케라스 Tokenizer은 1부터 시작"
   ]
  },
  {
   "cell_type": "code",
   "execution_count": 5,
   "metadata": {},
   "outputs": [
    {
     "data": {
      "text/plain": [
       "{'말이': 1,\n",
       " '경마장에': 2,\n",
       " '있는': 3,\n",
       " '뛰고': 4,\n",
       " '있다': 5,\n",
       " '그의': 6,\n",
       " '법이다': 7,\n",
       " '가는': 8,\n",
       " '고와야': 9,\n",
       " '오는': 10,\n",
       " '곱다': 11}"
      ]
     },
     "execution_count": 5,
     "metadata": {},
     "output_type": "execute_result"
    }
   ],
   "source": [
    "t.word_index"
   ]
  },
  {
   "cell_type": "code",
   "execution_count": 32,
   "metadata": {},
   "outputs": [
    {
     "name": "stdout",
     "output_type": "stream",
     "text": [
      "단어 집합의 크기 : 12\n"
     ]
    }
   ],
   "source": [
    "# 단어 집합 크기 설정\r\n",
    "vocab_size = len(t.word_index) + 1\r\n",
    "# 케라스 토크나이저의 정수 인코딩은 인덱스가 1부터 시작하지만,\r\n",
    "# 케라스 원-핫 인코딩에서 배열의 인덱스가 0부터 시작하기 때문에\r\n",
    "# 배열의 크기를 실제 단어 집합의 크기보다 +1로 생성해야함 \r\n",
    "print('단어 집합의 크기 : %d' % vocab_size)"
   ]
  },
  {
   "cell_type": "code",
   "execution_count": 9,
   "metadata": {},
   "outputs": [
    {
     "data": {
      "text/plain": [
       "[[6, 1, 7]]"
      ]
     },
     "execution_count": 9,
     "metadata": {},
     "output_type": "execute_result"
    }
   ],
   "source": [
    "t.texts_to_sequences(['그의 말이 법이다'])"
   ]
  },
  {
   "cell_type": "code",
   "execution_count": 11,
   "metadata": {},
   "outputs": [
    {
     "data": {
      "text/plain": [
       "[[2, 3],\n",
       " [2, 3, 1],\n",
       " [2, 3, 1, 4],\n",
       " [2, 3, 1, 4, 5],\n",
       " [6, 1],\n",
       " [6, 1, 7],\n",
       " [8, 1],\n",
       " [8, 1, 9],\n",
       " [8, 1, 9, 10],\n",
       " [8, 1, 9, 10, 1],\n",
       " [8, 1, 9, 10, 1, 11]]"
      ]
     },
     "execution_count": 11,
     "metadata": {},
     "output_type": "execute_result"
    }
   ],
   "source": [
    "# 학습에 사용될 샘플 시퀀스\r\n",
    "sequences = []\r\n",
    "for line in text.split('\\n'):   # # \\n을 기준으로 문장 토큰화\r\n",
    "    encoded = t.texts_to_sequences([line])[0]   #바깥쪽에 있는 리스트 제외\r\n",
    "    for i in range(1, len(encoded)):\r\n",
    "        sequence = encoded[:i+1]\r\n",
    "        sequences.append(sequence)\r\n",
    "sequences\r\n",
    "# [0,0,0,0,8,1]\r\n",
    "# 00000->패딩(x를 0으로 채움) 8,1->y값"
   ]
  },
  {
   "cell_type": "code",
   "execution_count": 12,
   "metadata": {},
   "outputs": [
    {
     "data": {
      "text/plain": [
       "6"
      ]
     },
     "execution_count": 12,
     "metadata": {},
     "output_type": "execute_result"
    }
   ],
   "source": [
    "max_len = max(len(s) for s in sequences)\r\n",
    "max_len"
   ]
  },
  {
   "cell_type": "markdown",
   "metadata": {},
   "source": [
    "## Padding\r\n",
    "- 전체 샘플의 길이를 가장 긴 샘플의 길이(6) 패딩\r\n",
    "- 'pre' 옵션을 주면 앞을 0으로 채움"
   ]
  },
  {
   "cell_type": "code",
   "execution_count": 13,
   "metadata": {},
   "outputs": [
    {
     "data": {
      "text/plain": [
       "array([[0, 0, 0, 0, 2, 3],\n",
       "       [0, 0, 0, 2, 3, 1],\n",
       "       [0, 0, 2, 3, 1, 4],\n",
       "       [0, 2, 3, 1, 4, 5],\n",
       "       [0, 0, 0, 0, 6, 1]])"
      ]
     },
     "execution_count": 13,
     "metadata": {},
     "output_type": "execute_result"
    }
   ],
   "source": [
    "# 전체 샘플의 길이를 6(가장 긴 샘플의 길이)으로 패딩\r\n",
    "# 'pre' 옵션을 주면 앞을 0으로 패딩\r\n",
    "sequences = pad_sequences(sequences, maxlen=max_len, padding='pre')\r\n",
    "sequences[:5]"
   ]
  },
  {
   "cell_type": "code",
   "execution_count": 14,
   "metadata": {},
   "outputs": [],
   "source": [
    "X = sequences[:,:-1]\r\n",
    "y = sequences[:,-1]"
   ]
  },
  {
   "cell_type": "code",
   "execution_count": 33,
   "metadata": {},
   "outputs": [
    {
     "data": {
      "text/plain": [
       "array([[0., 0., 0., 1., 0., 0., 0., 0., 0., 0., 0., 0.],\n",
       "       [0., 1., 0., 0., 0., 0., 0., 0., 0., 0., 0., 0.],\n",
       "       [0., 0., 0., 0., 1., 0., 0., 0., 0., 0., 0., 0.]], dtype=float32)"
      ]
     },
     "execution_count": 33,
     "metadata": {},
     "output_type": "execute_result"
    }
   ],
   "source": [
    "# 레이블 데이터 y에 대해서 원-핫 인코딩을 수행\r\n",
    "Y = to_categorical(y, num_classes=vocab_size)\r\n",
    "Y[:3]"
   ]
  },
  {
   "cell_type": "markdown",
   "metadata": {},
   "source": [
    "## 모델 정의\r\n",
    "- Embedding\r\n",
    "- SimpleRNN"
   ]
  },
  {
   "cell_type": "code",
   "execution_count": 17,
   "metadata": {},
   "outputs": [],
   "source": [
    "from tensorflow.keras.models import Sequential\r\n",
    "from tensorflow.keras.layers import Embedding, SimpleRNN, Dense"
   ]
  },
  {
   "cell_type": "code",
   "execution_count": 34,
   "metadata": {},
   "outputs": [
    {
     "name": "stdout",
     "output_type": "stream",
     "text": [
      "Model: \"sequential_1\"\n",
      "_________________________________________________________________\n",
      "Layer (type)                 Output Shape              Param #   \n",
      "=================================================================\n",
      "embedding_1 (Embedding)      (None, 5, 4)              48        \n",
      "_________________________________________________________________\n",
      "simple_rnn_1 (SimpleRNN)     (None, 32)                1184      \n",
      "_________________________________________________________________\n",
      "dense_1 (Dense)              (None, 12)                396       \n",
      "=================================================================\n",
      "Total params: 1,628\n",
      "Trainable params: 1,628\n",
      "Non-trainable params: 0\n",
      "_________________________________________________________________\n"
     ]
    }
   ],
   "source": [
    "# Embedding=4, SimpleRNN=32\r\n",
    "model = Sequential()\r\n",
    "model.add(Embedding(vocab_size, 4, input_length=max_len-1))\r\n",
    "model.add(SimpleRNN(32))\r\n",
    "model.add(Dense(vocab_size, activation='softmax'))\r\n",
    "model.summary()"
   ]
  },
  {
   "cell_type": "markdown",
   "metadata": {},
   "source": [
    "## 모델 설정/학습"
   ]
  },
  {
   "cell_type": "code",
   "execution_count": 35,
   "metadata": {},
   "outputs": [],
   "source": [
    "model.compile(loss='categorical_crossentropy', \r\n",
    "              optimizer='adam', metrics=['accuracy'])"
   ]
  },
  {
   "cell_type": "code",
   "execution_count": 36,
   "metadata": {},
   "outputs": [
    {
     "data": {
      "text/plain": [
       "0.9090909361839294"
      ]
     },
     "execution_count": 36,
     "metadata": {},
     "output_type": "execute_result"
    }
   ],
   "source": [
    "history = model.fit(X, Y, epochs=200, verbose=0)\r\n",
    "\r\n",
    "history.history['accuracy'][-1]"
   ]
  },
  {
   "cell_type": "markdown",
   "metadata": {},
   "source": [
    "## 모델 검증"
   ]
  },
  {
   "cell_type": "code",
   "execution_count": 37,
   "metadata": {},
   "outputs": [],
   "source": [
    "# 모델 검증용 문장을 생성하는 함수\r\n",
    "def sentence_generation(model, t, current_word, n): # 모델, 토크나이저, 현재 단어, 반복할 횟수\r\n",
    "    init_word = current_word # 처음 들어온 단어도 마지막에 같이 출력하기위해 저장\r\n",
    "    sentence = ''\r\n",
    "    for _ in range(n): # n번 반복\r\n",
    "        encoded = t.texts_to_sequences([current_word])[0] # 현재 단어에 대한 정수 인코딩\r\n",
    "        encoded = pad_sequences([encoded], maxlen=5, padding='pre') # 데이터에 대한 패딩\r\n",
    "        #result = model.predict_classes(encoded, verbose=0)\r\n",
    "        result = np.argmax(model.predict(encoded), axis=-1)\r\n",
    "    # 입력한 X(현재 단어)에 대해서 Y를 예측하고 Y(예측한 단어)를 result에 저장.\r\n",
    "        for word, index in t.word_index.items(): \r\n",
    "            if index == result: # 만약 예측한 단어와 인덱스와 동일한 단어가 있다면\r\n",
    "                break # 해당 단어가 예측 단어이므로 break\r\n",
    "        current_word = current_word + ' ' + word # 현재 단어 + ' ' + 예측 단어를 현재 단어로 변경\r\n",
    "        sentence = sentence + ' ' + word # 예측 단어를 문장에 저장\r\n",
    "        \r\n",
    "    # for문이므로 이 행동을 다시 반복\r\n",
    "    sentence = init_word + sentence\r\n",
    "    return sentence"
   ]
  },
  {
   "cell_type": "code",
   "execution_count": 38,
   "metadata": {},
   "outputs": [
    {
     "data": {
      "text/plain": [
       "'경마장에 말이 고와야 오는'"
      ]
     },
     "execution_count": 38,
     "metadata": {},
     "output_type": "execute_result"
    }
   ],
   "source": [
    "sentence_generation(model, t, '경마장에', 3)"
   ]
  },
  {
   "cell_type": "code",
   "execution_count": 39,
   "metadata": {},
   "outputs": [
    {
     "data": {
      "text/plain": [
       "'그의 말이 법이다'"
      ]
     },
     "execution_count": 39,
     "metadata": {},
     "output_type": "execute_result"
    }
   ],
   "source": [
    "sentence_generation(model, t, '그의', 2)"
   ]
  },
  {
   "cell_type": "markdown",
   "metadata": {},
   "source": [
    "## sentence_generation() 함수의 풀이 과정"
   ]
  },
  {
   "cell_type": "code",
   "execution_count": 40,
   "metadata": {},
   "outputs": [
    {
     "data": {
      "text/plain": [
       "array([[0, 0, 2, 1, 9]])"
      ]
     },
     "execution_count": 40,
     "metadata": {},
     "output_type": "execute_result"
    }
   ],
   "source": [
    "enc = t.texts_to_sequences(['경마장에 말이 고와야'])[0]\r\n",
    "enc = pad_sequences([enc], maxlen=5, padding='pre')\r\n",
    "enc"
   ]
  },
  {
   "cell_type": "code",
   "execution_count": 41,
   "metadata": {},
   "outputs": [
    {
     "data": {
      "text/plain": [
       "array([10], dtype=int64)"
      ]
     },
     "execution_count": 41,
     "metadata": {},
     "output_type": "execute_result"
    }
   ],
   "source": [
    "result = np.argmax(model.predict(enc), axis=-1)\r\n",
    "result"
   ]
  },
  {
   "cell_type": "code",
   "execution_count": 42,
   "metadata": {},
   "outputs": [
    {
     "name": "stdout",
     "output_type": "stream",
     "text": [
      "오는\n"
     ]
    }
   ],
   "source": [
    "for word, index in t.word_index.items(): \r\n",
    "    if index == result: \r\n",
    "        break \r\n",
    "print(word)"
   ]
  },
  {
   "cell_type": "markdown",
   "metadata": {},
   "source": [
    "## 모델 변화\r\n",
    "- Embedding Vector 갯수: [2, 4, 6, 8]\r\n",
    "- RNN 노드 갯수: [24, 32]"
   ]
  },
  {
   "cell_type": "code",
   "execution_count": 43,
   "metadata": {},
   "outputs": [],
   "source": [
    "def execute_model(n_embed, n_rnn):\r\n",
    "    model = Sequential()\r\n",
    "    model.add(Embedding(vocab_size, n_embed, input_length=max_len-1))\r\n",
    "    model.add(SimpleRNN(n_rnn))\r\n",
    "    model.add(Dense(vocab_size, activation='softmax'))\r\n",
    "\r\n",
    "    model.compile(loss='categorical_crossentropy', \r\n",
    "                  optimizer='adam', metrics=['accuracy'])\r\n",
    "    history = model.fit(X, Y, epochs=200, verbose=0)\r\n",
    "    print(f\"Accuracy: {history.history['accuracy'][-1]:.4f}\")\r\n",
    "\r\n",
    "    print(sentence_generation(model, t, '경마장에', 3))\r\n",
    "    print(sentence_generation(model, t, '그의', 2))\r\n",
    "    print(sentence_generation(model, t, '가는', 5))"
   ]
  },
  {
   "cell_type": "code",
   "execution_count": 44,
   "metadata": {},
   "outputs": [
    {
     "name": "stdout",
     "output_type": "stream",
     "text": [
      "===================================\n",
      "n_embed=2, n_rnn=24\n",
      "Accuracy: 0.7273\n",
      "경마장에 말이 말이 뛰고\n",
      "그의 말이 말이\n",
      "가는 말이 고와야 오는 말이 곱다\n",
      "\n",
      "===================================\n",
      "n_embed=2, n_rnn=32\n",
      "Accuracy: 0.9091\n",
      "경마장에 말이 말이 뛰고\n",
      "그의 말이 법이다\n",
      "가는 말이 고와야 오는 말이 곱다\n",
      "\n",
      "===================================\n",
      "n_embed=4, n_rnn=24\n",
      "Accuracy: 0.9091\n",
      "경마장에 말이 말이 뛰고\n",
      "그의 말이 법이다\n",
      "가는 말이 고와야 오는 말이 곱다\n",
      "\n",
      "===================================\n",
      "n_embed=4, n_rnn=32\n",
      "Accuracy: 1.0000\n",
      "경마장에 있는 말이 뛰고\n",
      "그의 말이 법이다\n",
      "가는 말이 고와야 오는 말이 곱다\n",
      "\n",
      "===================================\n",
      "n_embed=6, n_rnn=24\n",
      "Accuracy: 0.9091\n",
      "경마장에 말이 법이다 있다\n",
      "그의 말이 법이다\n",
      "가는 말이 고와야 오는 말이 곱다\n",
      "\n",
      "===================================\n",
      "n_embed=6, n_rnn=32\n",
      "Accuracy: 1.0000\n",
      "경마장에 있는 말이 뛰고\n",
      "그의 말이 법이다\n",
      "가는 말이 고와야 오는 말이 곱다\n",
      "\n",
      "===================================\n",
      "n_embed=8, n_rnn=24\n",
      "Accuracy: 1.0000\n",
      "경마장에 있는 말이 뛰고\n",
      "그의 말이 법이다\n",
      "가는 말이 고와야 오는 말이 곱다\n",
      "\n",
      "===================================\n",
      "n_embed=8, n_rnn=32\n",
      "Accuracy: 0.9091\n",
      "경마장에 말이 고와야 오는\n",
      "그의 말이 법이다\n",
      "가는 말이 고와야 오는 말이 곱다\n",
      "\n"
     ]
    }
   ],
   "source": [
    "for n_embed in [2,4,6,8]:\r\n",
    "    for n_rnn in [24,32]:\r\n",
    "        print('===================================')\r\n",
    "        print(f'n_embed={n_embed}, n_rnn={n_rnn}')\r\n",
    "        execute_model(n_embed, n_rnn)\r\n",
    "        print()"
   ]
  },
  {
   "cell_type": "markdown",
   "metadata": {},
   "source": [
    "embedding vector가 작아지면 자기 역할을 못하고 충분히 커져야함."
   ]
  }
 ],
 "metadata": {
  "interpreter": {
   "hash": "8c1eae21719a0790335dcb83aad72b63b602cfe5cdb2bda0f60bc11d4f154e4b"
  },
  "kernelspec": {
   "display_name": "Python 3.8.5 64-bit ('base': conda)",
   "name": "python3"
  },
  "language_info": {
   "codemirror_mode": {
    "name": "ipython",
    "version": 3
   },
   "file_extension": ".py",
   "mimetype": "text/x-python",
   "name": "python",
   "nbconvert_exporter": "python",
   "pygments_lexer": "ipython3",
   "version": "3.8.5"
  },
  "orig_nbformat": 4
 },
 "nbformat": 4,
 "nbformat_minor": 2
}