{
 "cells": [
  {
   "cell_type": "markdown",
   "metadata": {},
   "source": [
    "# 순환신경망(RNN)\r\n",
    "- 순환 신경망(Recurrent Neural Network)은 은닉 계층 안에 하나 이상의 순환 계층을 갖는 신경망을 의미\r\n",
    "- 순환 신경망은 다른 네트워크들과 입력을 받는 방식에서 다르다. 순서가 있는 데이터에 주로 사용되며, 해당 데이터를 입력으로, 하나의 네트워크를 통해서 순서대로 출력을 얻는다.\r\n",
    "- 순서가 있는 데이터는 소리, 언어, 날씨, 주가 등의 데이터처럼 시간의 변화에 함께 변화하면서 그 영향을 받는 데이터를 의미"
   ]
  },
  {
   "cell_type": "markdown",
   "metadata": {},
   "source": [
    "## 순환계층\r\n",
    "- 시계열 데이터 처리에 알맞게 고안된 퍼셉트론 계층\r\n",
    "- 가중치와 편향을 각 시간대 데이터에 반복해서 사용\r\n",
    "- 순환 벡터를 사용하여 정보를 전달"
   ]
  },
  {
   "cell_type": "markdown",
   "metadata": {},
   "source": [
    "## - SimpleRNN 네트워크 예제\r\n",
    "[0.0 0.1 0.2 0.3]이라는 0.1씩 늘어나는 수열을 줄 때, 이후의 값들도 예측하는 네트워크"
   ]
  },
  {
   "cell_type": "code",
   "execution_count": 1,
   "metadata": {},
   "outputs": [
    {
     "name": "stdout",
     "output_type": "stream",
     "text": [
      "[[[0. ]\n",
      "  [0.1]\n",
      "  [0.2]\n",
      "  [0.3]]\n",
      "\n",
      " [[0.1]\n",
      "  [0.2]\n",
      "  [0.3]\n",
      "  [0.4]]\n",
      "\n",
      " [[0.2]\n",
      "  [0.3]\n",
      "  [0.4]\n",
      "  [0.5]]\n",
      "\n",
      " [[0.3]\n",
      "  [0.4]\n",
      "  [0.5]\n",
      "  [0.6]]\n",
      "\n",
      " [[0.4]\n",
      "  [0.5]\n",
      "  [0.6]\n",
      "  [0.7]]\n",
      "\n",
      " [[0.5]\n",
      "  [0.6]\n",
      "  [0.7]\n",
      "  [0.8]]]\n",
      "[0.4 0.5 0.6 0.7 0.8 0.9]\n"
     ]
    }
   ],
   "source": [
    "# test 환경\r\n",
    "import numpy as np\r\n",
    "\r\n",
    "X = []\r\n",
    "Y = []\r\n",
    "for i in range(6):\r\n",
    "    lst = list(range(i,i+4))\r\n",
    "    X.append(list(map(lambda c: [c/10], lst)))\r\n",
    "    Y.append((i+4)/10)\r\n",
    "X = np.array(X)\r\n",
    "Y = np.array(Y)\r\n",
    "print(X)\r\n",
    "print(Y)"
   ]
  },
  {
   "cell_type": "code",
   "execution_count": 16,
   "metadata": {},
   "outputs": [],
   "source": [
    "# 모델 만들기 & 학습\r\n",
    "from tensorflow.keras.models import Sequential\r\n",
    "from tensorflow.keras.layers import Embedding, SimpleRNN, Dense\r\n",
    "\r\n",
    "model = Sequential([SimpleRNN(units=32,\r\n",
    "              # units 파라미터는 RNN 신경망에 존재하는 뉴런의 개수\r\n",
    "                    return_sequences=False,\r\n",
    "        # RNN 계산 과정에 있는 hidden state를 출력할 것인지에 대한 값을 의미\r\n",
    "        # 해당 값은 다층으로 이루어진 RNN 또는 one-to-many, many-to-many 출력을 위해서 사용\r\n",
    "        # False의 경우, 마지막 출력값 하나를 출력/ True의 경우, 모든 과정의 출력 값을 출력\r\n",
    "                    input_shape=[4,1]),\r\n",
    "                    Dense(1, activation='tanh')])\r\n",
    "# 모델은 Sequential에 simpleRNN과 Dense레이어를 하나씩 추가\r\n",
    "# input_shape는 4 time-step마다 하나의 답이라서 [4,1] 선언\r\n",
    "# 학습을 반복하면서 mse 값을 낮추는 훈련 함\r\n",
    "\r\n",
    "model.compile(optimizer='adam',\r\n",
    "              loss='mse',\r\n",
    "              metrics=['accuracy'])\r\n",
    "\r\n",
    "history = model.fit(X, Y, epochs=200, verbose=0)"
   ]
  },
  {
   "cell_type": "code",
   "execution_count": 17,
   "metadata": {},
   "outputs": [
    {
     "name": "stdout",
     "output_type": "stream",
     "text": [
      "WARNING:tensorflow:5 out of the last 10 calls to <function Model.make_predict_function.<locals>.predict_function at 0x0000016E8407A160> triggered tf.function retracing. Tracing is expensive and the excessive number of tracings could be due to (1) creating @tf.function repeatedly in a loop, (2) passing tensors with different shapes, (3) passing Python objects instead of tensors. For (1), please define your @tf.function outside of the loop. For (2), @tf.function has experimental_relax_shapes=True option that relaxes argument shapes that can avoid unnecessary retracing. For (3), please refer to https://www.tensorflow.org/tutorials/customization/performance#python_or_tensor_args and https://www.tensorflow.org/api_docs/python/tf/function for  more details.\n",
      "[[0.3674551 ]\n",
      " [0.51891965]\n",
      " [0.6376259 ]\n",
      " [0.7262246 ]\n",
      " [0.79056275]\n",
      " [0.8367987 ]]\n"
     ]
    }
   ],
   "source": [
    "# 기존의 훈련 데이터 세트를 넣어서 예측\r\n",
    "print(model.predict(X))"
   ]
  },
  {
   "cell_type": "code",
   "execution_count": 18,
   "metadata": {},
   "outputs": [
    {
     "name": "stdout",
     "output_type": "stream",
     "text": [
      "[[0.9120052]]\n"
     ]
    }
   ],
   "source": [
    "# 1.2에 많이 가깝진 않지만 훈련데이터를 증가시켜서 해당 결과를 개선시킬 수 있음\r\n",
    "X_test = np.array([[[0.8],[0.9],[1.0],[1.1]]])\r\n",
    "print(model.predict(X_test))"
   ]
  }
 ],
 "metadata": {
  "language_info": {
   "name": "python",
   "nbconvert_exporter": "python"
  },
  "orig_nbformat": 4
 },
 "nbformat": 4,
 "nbformat_minor": 2
}