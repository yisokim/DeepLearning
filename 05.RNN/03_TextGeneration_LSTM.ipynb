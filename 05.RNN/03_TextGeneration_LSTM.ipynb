{
 "cells": [
  {
   "cell_type": "markdown",
   "metadata": {},
   "source": [
    "# LSTM을 이용한 텍스트 생성\r\n",
    "- 데이터 다운로드: 캐글 new york times comments\r\n",
    "- ArticlesApril2018.csv"
   ]
  },
  {
   "cell_type": "code",
   "execution_count": 1,
   "metadata": {},
   "outputs": [],
   "source": [
    "import numpy as np\r\n",
    "import tensorflow as tf\r\n",
    "seed=2021\r\n",
    "np.random.seed(seed)\r\n",
    "tf.random.set_seed(seed)"
   ]
  },
  {
   "cell_type": "code",
   "execution_count": 3,
   "metadata": {},
   "outputs": [],
   "source": [
    "from tensorflow.keras.preprocessing.text import Tokenizer\r\n",
    "from tensorflow.keras.preprocessing.sequence import pad_sequences\r\n",
    "from tensorflow.keras.utils import to_categorical"
   ]
  },
  {
   "cell_type": "code",
   "execution_count": 5,
   "metadata": {},
   "outputs": [
    {
     "data": {
      "text/html": [
       "<div>\n",
       "<style scoped>\n",
       "    .dataframe tbody tr th:only-of-type {\n",
       "        vertical-align: middle;\n",
       "    }\n",
       "\n",
       "    .dataframe tbody tr th {\n",
       "        vertical-align: top;\n",
       "    }\n",
       "\n",
       "    .dataframe thead th {\n",
       "        text-align: right;\n",
       "    }\n",
       "</style>\n",
       "<table border=\"1\" class=\"dataframe\">\n",
       "  <thead>\n",
       "    <tr style=\"text-align: right;\">\n",
       "      <th></th>\n",
       "      <th>articleID</th>\n",
       "      <th>articleWordCount</th>\n",
       "      <th>byline</th>\n",
       "      <th>documentType</th>\n",
       "      <th>headline</th>\n",
       "      <th>keywords</th>\n",
       "      <th>multimedia</th>\n",
       "      <th>newDesk</th>\n",
       "      <th>printPage</th>\n",
       "      <th>pubDate</th>\n",
       "      <th>sectionName</th>\n",
       "      <th>snippet</th>\n",
       "      <th>source</th>\n",
       "      <th>typeOfMaterial</th>\n",
       "      <th>webURL</th>\n",
       "    </tr>\n",
       "  </thead>\n",
       "  <tbody>\n",
       "    <tr>\n",
       "      <th>0</th>\n",
       "      <td>5adf6684068401528a2aa69b</td>\n",
       "      <td>781</td>\n",
       "      <td>By JOHN BRANCH</td>\n",
       "      <td>article</td>\n",
       "      <td>Former N.F.L. Cheerleadersâ Settlement Offer...</td>\n",
       "      <td>['Workplace Hazards and Violations', 'Football...</td>\n",
       "      <td>68</td>\n",
       "      <td>Sports</td>\n",
       "      <td>0</td>\n",
       "      <td>2018-04-24 17:16:49</td>\n",
       "      <td>Pro Football</td>\n",
       "      <td>âI understand that they could meet with us, ...</td>\n",
       "      <td>The New York Times</td>\n",
       "      <td>News</td>\n",
       "      <td>https://www.nytimes.com/2018/04/24/sports/foot...</td>\n",
       "    </tr>\n",
       "    <tr>\n",
       "      <th>1</th>\n",
       "      <td>5adf653f068401528a2aa697</td>\n",
       "      <td>656</td>\n",
       "      <td>By LISA FRIEDMAN</td>\n",
       "      <td>article</td>\n",
       "      <td>E.P.A. to Unveil a New Rule. Its Effect: Less ...</td>\n",
       "      <td>['Environmental Protection Agency', 'Pruitt, S...</td>\n",
       "      <td>68</td>\n",
       "      <td>Climate</td>\n",
       "      <td>0</td>\n",
       "      <td>2018-04-24 17:11:21</td>\n",
       "      <td>Unknown</td>\n",
       "      <td>The agency plans to publish a new regulation T...</td>\n",
       "      <td>The New York Times</td>\n",
       "      <td>News</td>\n",
       "      <td>https://www.nytimes.com/2018/04/24/climate/epa...</td>\n",
       "    </tr>\n",
       "    <tr>\n",
       "      <th>2</th>\n",
       "      <td>5adf4626068401528a2aa628</td>\n",
       "      <td>2427</td>\n",
       "      <td>By PETE WELLS</td>\n",
       "      <td>article</td>\n",
       "      <td>The New Noma, Explained</td>\n",
       "      <td>['Restaurants', 'Noma (Copenhagen, Restaurant)...</td>\n",
       "      <td>66</td>\n",
       "      <td>Dining</td>\n",
       "      <td>0</td>\n",
       "      <td>2018-04-24 14:58:44</td>\n",
       "      <td>Unknown</td>\n",
       "      <td>Whatâs it like to eat at the second incarnat...</td>\n",
       "      <td>The New York Times</td>\n",
       "      <td>News</td>\n",
       "      <td>https://www.nytimes.com/2018/04/24/dining/noma...</td>\n",
       "    </tr>\n",
       "  </tbody>\n",
       "</table>\n",
       "</div>"
      ],
      "text/plain": [
       "                  articleID  articleWordCount            byline documentType  \\\n",
       "0  5adf6684068401528a2aa69b               781    By JOHN BRANCH      article   \n",
       "1  5adf653f068401528a2aa697               656  By LISA FRIEDMAN      article   \n",
       "2  5adf4626068401528a2aa628              2427     By PETE WELLS      article   \n",
       "\n",
       "                                            headline  \\\n",
       "0  Former N.F.L. Cheerleadersâ Settlement Offer...   \n",
       "1  E.P.A. to Unveil a New Rule. Its Effect: Less ...   \n",
       "2                            The New Noma, Explained   \n",
       "\n",
       "                                            keywords  multimedia  newDesk  \\\n",
       "0  ['Workplace Hazards and Violations', 'Football...          68   Sports   \n",
       "1  ['Environmental Protection Agency', 'Pruitt, S...          68  Climate   \n",
       "2  ['Restaurants', 'Noma (Copenhagen, Restaurant)...          66   Dining   \n",
       "\n",
       "   printPage              pubDate   sectionName  \\\n",
       "0          0  2018-04-24 17:16:49  Pro Football   \n",
       "1          0  2018-04-24 17:11:21       Unknown   \n",
       "2          0  2018-04-24 14:58:44       Unknown   \n",
       "\n",
       "                                             snippet              source  \\\n",
       "0  âI understand that they could meet with us, ...  The New York Times   \n",
       "1  The agency plans to publish a new regulation T...  The New York Times   \n",
       "2  Whatâs it like to eat at the second incarnat...  The New York Times   \n",
       "\n",
       "  typeOfMaterial                                             webURL  \n",
       "0           News  https://www.nytimes.com/2018/04/24/sports/foot...  \n",
       "1           News  https://www.nytimes.com/2018/04/24/climate/epa...  \n",
       "2           News  https://www.nytimes.com/2018/04/24/dining/noma...  "
      ]
     },
     "execution_count": 5,
     "metadata": {},
     "output_type": "execute_result"
    }
   ],
   "source": [
    "import pandas as pd\r\n",
    "df = pd.read_csv('data/ArticlesApril2018.csv', encoding='latin1')\r\n",
    "df.head(3)"
   ]
  },
  {
   "cell_type": "markdown",
   "metadata": {},
   "source": [
    "## 데이터 전처리"
   ]
  },
  {
   "cell_type": "code",
   "execution_count": 6,
   "metadata": {},
   "outputs": [
    {
     "data": {
      "text/plain": [
       "Index(['articleID', 'articleWordCount', 'byline', 'documentType', 'headline',\n",
       "       'keywords', 'multimedia', 'newDesk', 'printPage', 'pubDate',\n",
       "       'sectionName', 'snippet', 'source', 'typeOfMaterial', 'webURL'],\n",
       "      dtype='object')"
      ]
     },
     "execution_count": 6,
     "metadata": {},
     "output_type": "execute_result"
    }
   ],
   "source": [
    "df.columns"
   ]
  },
  {
   "cell_type": "code",
   "execution_count": 8,
   "metadata": {},
   "outputs": [
    {
     "data": {
      "text/plain": [
       "0"
      ]
     },
     "execution_count": 8,
     "metadata": {},
     "output_type": "execute_result"
    }
   ],
   "source": [
    "# headline 열 데이터만 사용, null 검사\r\n",
    "df.headline.isnull().sum()"
   ]
  },
  {
   "cell_type": "code",
   "execution_count": 10,
   "metadata": {},
   "outputs": [
    {
     "data": {
      "text/plain": [
       "1324"
      ]
     },
     "execution_count": 10,
     "metadata": {},
     "output_type": "execute_result"
    }
   ],
   "source": [
    "headlines = [text for text in df.headline.values]\r\n",
    "len(headlines)"
   ]
  },
  {
   "cell_type": "code",
   "execution_count": 11,
   "metadata": {},
   "outputs": [
    {
     "data": {
      "text/plain": [
       "['Former N.F.L. Cheerleadersâ\\x80\\x99 Settlement Offer: $1 and a Meeting With Goodell',\n",
       " 'E.P.A. to Unveil a New Rule. Its Effect: Less Science in Policymaking.',\n",
       " 'The New Noma, Explained',\n",
       " 'Unknown',\n",
       " 'Unknown']"
      ]
     },
     "execution_count": 11,
     "metadata": {},
     "output_type": "execute_result"
    }
   ],
   "source": [
    "headlines[:5]"
   ]
  },
  {
   "cell_type": "code",
   "execution_count": 12,
   "metadata": {},
   "outputs": [
    {
     "data": {
      "text/plain": [
       "1214"
      ]
     },
     "execution_count": 12,
     "metadata": {},
     "output_type": "execute_result"
    }
   ],
   "source": [
    "# 노이즈 데이터('Unknown') 제거\r\n",
    "headlines = [text for text in headlines if text != 'Unknown']\r\n",
    "len(headlines)"
   ]
  },
  {
   "cell_type": "code",
   "execution_count": 13,
   "metadata": {},
   "outputs": [
    {
     "data": {
      "text/plain": [
       "'!\"#$%&\\'()*+,-./:;<=>?@[\\\\]^_`{|}~'"
      ]
     },
     "execution_count": 13,
     "metadata": {},
     "output_type": "execute_result"
    }
   ],
   "source": [
    "# 구둣점 제거, 소문자로 변환\r\n",
    "from string import punctuation\r\n",
    "punctuation"
   ]
  },
  {
   "cell_type": "code",
   "execution_count": 14,
   "metadata": {},
   "outputs": [],
   "source": [
    "def preprocessing(s):\r\n",
    "    s = s.encode('utf8').decode('ascii', 'ignore')\r\n",
    "    return ''.join(c for c in s if c not in punctuation).lower()"
   ]
  },
  {
   "cell_type": "code",
   "execution_count": 15,
   "metadata": {},
   "outputs": [
    {
     "data": {
      "text/plain": [
       "['former nfl cheerleaders settlement offer 1 and a meeting with goodell',\n",
       " 'epa to unveil a new rule its effect less science in policymaking',\n",
       " 'the new noma explained']"
      ]
     },
     "execution_count": 15,
     "metadata": {},
     "output_type": "execute_result"
    }
   ],
   "source": [
    "headlines = [preprocessing(s) for s in headlines]\r\n",
    "headlines[:3]"
   ]
  },
  {
   "cell_type": "code",
   "execution_count": 17,
   "metadata": {},
   "outputs": [
    {
     "data": {
      "text/plain": [
       "3494"
      ]
     },
     "execution_count": 17,
     "metadata": {},
     "output_type": "execute_result"
    }
   ],
   "source": [
    "# 단어 집합을 만들고, 그 크기를 확인\r\n",
    "t = Tokenizer()\r\n",
    "t.fit_on_texts(headlines)\r\n",
    "vocab_size = len(t.word_index) + 1\r\n",
    "vocab_size"
   ]
  },
  {
   "cell_type": "code",
   "execution_count": 20,
   "metadata": {},
   "outputs": [
    {
     "data": {
      "text/plain": [
       "[[99, 269],\n",
       " [99, 269, 371],\n",
       " [99, 269, 371, 1115],\n",
       " [99, 269, 371, 1115, 582],\n",
       " [99, 269, 371, 1115, 582, 52],\n",
       " [99, 269, 371, 1115, 582, 52, 7],\n",
       " [99, 269, 371, 1115, 582, 52, 7, 2],\n",
       " [99, 269, 371, 1115, 582, 52, 7, 2, 372],\n",
       " [99, 269, 371, 1115, 582, 52, 7, 2, 372, 10],\n",
       " [99, 269, 371, 1115, 582, 52, 7, 2, 372, 10, 1116],\n",
       " [100, 3]]"
      ]
     },
     "execution_count": 20,
     "metadata": {},
     "output_type": "execute_result"
    }
   ],
   "source": [
    "# 학습에 사용될 샘플 시퀀스\r\n",
    "sequences = []\r\n",
    "for line in headlines: \r\n",
    "    encoded = t.texts_to_sequences([line])[0]   #바깥쪽에 있는 리스트 제외\r\n",
    "    for i in range(1, len(encoded)):\r\n",
    "        sequence = encoded[:i+1]\r\n",
    "        sequences.append(sequence)\r\n",
    "sequences[:11]\r\n",
    "# [0,0,0,0,8,1]\r\n",
    "# 00000->패딩(x를 0으로 채움) 8,1->y값"
   ]
  },
  {
   "cell_type": "code",
   "execution_count": 21,
   "metadata": {},
   "outputs": [
    {
     "data": {
      "text/plain": [
       "24"
      ]
     },
     "execution_count": 21,
     "metadata": {},
     "output_type": "execute_result"
    }
   ],
   "source": [
    "max_len = max(len(s) for s in sequences)\r\n",
    "max_len"
   ]
  },
  {
   "cell_type": "markdown",
   "metadata": {},
   "source": [
    "## Padding\r\n",
    "- 전체 샘플의 길이를 가장 긴 샘플의 길이(6) 패딩\r\n",
    "- 'pre' 옵션을 주면 앞을 0으로 채움"
   ]
  },
  {
   "cell_type": "code",
   "execution_count": 22,
   "metadata": {},
   "outputs": [
    {
     "data": {
      "text/plain": [
       "array([[   0,    0,    0,    0,    0,    0,    0,    0,    0,    0,    0,\n",
       "           0,    0,    0,    0,    0,    0,    0,    0,    0,    0,    0,\n",
       "          99,  269],\n",
       "       [   0,    0,    0,    0,    0,    0,    0,    0,    0,    0,    0,\n",
       "           0,    0,    0,    0,    0,    0,    0,    0,    0,    0,   99,\n",
       "         269,  371],\n",
       "       [   0,    0,    0,    0,    0,    0,    0,    0,    0,    0,    0,\n",
       "           0,    0,    0,    0,    0,    0,    0,    0,    0,   99,  269,\n",
       "         371, 1115]])"
      ]
     },
     "execution_count": 22,
     "metadata": {},
     "output_type": "execute_result"
    }
   ],
   "source": [
    "# 전체 샘플의 길이를 6(가장 긴 샘플의 길이)으로 패딩\r\n",
    "# 'pre' 옵션을 주면 앞을 0으로 패딩\r\n",
    "sequences = pad_sequences(sequences, maxlen=max_len, padding='pre')\r\n",
    "sequences[:3]"
   ]
  },
  {
   "cell_type": "code",
   "execution_count": 25,
   "metadata": {},
   "outputs": [
    {
     "data": {
      "text/plain": [
       "((7803, 23), (7803, 3494))"
      ]
     },
     "execution_count": 25,
     "metadata": {},
     "output_type": "execute_result"
    }
   ],
   "source": [
    "X = sequences[:,:-1]\r\n",
    "y = sequences[:,-1]\r\n",
    "Y = to_categorical(y)\r\n",
    "X.shape, Y.shape"
   ]
  },
  {
   "cell_type": "markdown",
   "metadata": {},
   "source": [
    "## 모델 정의\r\n",
    "- Embedding\r\n",
    "- SimpleRNN"
   ]
  },
  {
   "cell_type": "code",
   "execution_count": 27,
   "metadata": {},
   "outputs": [],
   "source": [
    "from tensorflow.keras.models import Sequential\r\n",
    "from tensorflow.keras.layers import Embedding, LSTM, Dense"
   ]
  },
  {
   "cell_type": "markdown",
   "metadata": {},
   "source": [
    "# 임베딩(Embedding) 레이어\r\n",
    "임베딩 레이어는 주로 자연어 처리에 사용되며, 자연어를 수치화된 정보로 바꾸기 위한 레이어\r\n",
    "- 임베딩은 값, 텍스트 내의 단어들을 밀집 벡터(dense vector)로 만드는 것\r\n",
    "- 단어를 의미론적 기하 공간에 매칭 시킬 수 있도록 수치 및 벡터화시키는 것\r\n",
    "- 밀집 벡터는 대부분의 값이 실수이고, 저차원적인 벡터를 의미\r\n",
    "- 원-핫 벡터와 같은 희소 벡터(0 또는 1로 이루어진 벡터)와 달리 훈련 데이터로부터 학습을 하는 벡터"
   ]
  },
  {
   "cell_type": "code",
   "execution_count": 28,
   "metadata": {},
   "outputs": [
    {
     "name": "stdout",
     "output_type": "stream",
     "text": [
      "Model: \"sequential\"\n",
      "_________________________________________________________________\n",
      "Layer (type)                 Output Shape              Param #   \n",
      "=================================================================\n",
      "embedding (Embedding)        (None, 23, 10)            34940     \n",
      "_________________________________________________________________\n",
      "lstm (LSTM)                  (None, 128)               71168     \n",
      "_________________________________________________________________\n",
      "dense (Dense)                (None, 3494)              450726    \n",
      "=================================================================\n",
      "Total params: 556,834\n",
      "Trainable params: 556,834\n",
      "Non-trainable params: 0\n",
      "_________________________________________________________________\n"
     ]
    }
   ],
   "source": [
    "# 임베딩 백터 10차원, LSTM 노드 크기 128\r\n",
    "model = Sequential([\r\n",
    "    Embedding(vocab_size, 10, input_length=max_len-1),\r\n",
    "    LSTM(128),\r\n",
    "    Dense(vocab_size, activation='softmax')\r\n",
    "])\r\n",
    "model.summary()"
   ]
  },
  {
   "cell_type": "code",
   "execution_count": 29,
   "metadata": {},
   "outputs": [],
   "source": [
    "model.compile(\r\n",
    "    optimizer='adam',\r\n",
    "    loss='categorical_crossentropy',\r\n",
    "    metrics=['accuracy']\r\n",
    ")"
   ]
  },
  {
   "cell_type": "code",
   "execution_count": 30,
   "metadata": {},
   "outputs": [
    {
     "name": "stdout",
     "output_type": "stream",
     "text": [
      "Epoch 1/200\n",
      "244/244 - 3s - loss: 7.6493 - accuracy: 0.0300\n",
      "Epoch 2/200\n",
      "244/244 - 3s - loss: 7.1262 - accuracy: 0.0302\n",
      "Epoch 3/200\n",
      "244/244 - 3s - loss: 6.9862 - accuracy: 0.0313\n",
      "Epoch 4/200\n",
      "244/244 - 3s - loss: 6.8683 - accuracy: 0.0414\n",
      "Epoch 5/200\n",
      "244/244 - 3s - loss: 6.7320 - accuracy: 0.0437\n",
      "Epoch 6/200\n",
      "244/244 - 3s - loss: 6.5834 - accuracy: 0.0473\n",
      "Epoch 7/200\n",
      "244/244 - 3s - loss: 6.4172 - accuracy: 0.0470\n",
      "Epoch 8/200\n",
      "244/244 - 3s - loss: 6.2377 - accuracy: 0.0536\n",
      "Epoch 9/200\n",
      "244/244 - 3s - loss: 6.0490 - accuracy: 0.0578\n",
      "Epoch 10/200\n",
      "244/244 - 3s - loss: 5.8635 - accuracy: 0.0633\n",
      "Epoch 11/200\n",
      "244/244 - 3s - loss: 5.6901 - accuracy: 0.0687\n",
      "Epoch 12/200\n",
      "244/244 - 3s - loss: 5.5278 - accuracy: 0.0729\n",
      "Epoch 13/200\n",
      "244/244 - 3s - loss: 5.3670 - accuracy: 0.0786\n",
      "Epoch 14/200\n",
      "244/244 - 3s - loss: 5.2183 - accuracy: 0.0851\n",
      "Epoch 15/200\n",
      "244/244 - 3s - loss: 5.0706 - accuracy: 0.0937\n",
      "Epoch 16/200\n",
      "244/244 - 3s - loss: 4.9304 - accuracy: 0.1027\n",
      "Epoch 17/200\n",
      "244/244 - 3s - loss: 4.7972 - accuracy: 0.1107\n",
      "Epoch 18/200\n",
      "244/244 - 4s - loss: 4.6647 - accuracy: 0.1270\n",
      "Epoch 19/200\n",
      "244/244 - 3s - loss: 4.5410 - accuracy: 0.1332\n",
      "Epoch 20/200\n",
      "244/244 - 3s - loss: 4.4191 - accuracy: 0.1510\n",
      "Epoch 21/200\n",
      "244/244 - 3s - loss: 4.3016 - accuracy: 0.1646\n",
      "Epoch 22/200\n",
      "244/244 - 3s - loss: 4.1857 - accuracy: 0.1875\n",
      "Epoch 23/200\n",
      "244/244 - 3s - loss: 4.0778 - accuracy: 0.1994\n",
      "Epoch 24/200\n",
      "244/244 - 3s - loss: 3.9709 - accuracy: 0.2182\n",
      "Epoch 25/200\n",
      "244/244 - 3s - loss: 3.8625 - accuracy: 0.2345\n",
      "Epoch 26/200\n",
      "244/244 - 3s - loss: 3.7599 - accuracy: 0.2516\n",
      "Epoch 27/200\n",
      "244/244 - 3s - loss: 3.6609 - accuracy: 0.2719\n",
      "Epoch 28/200\n",
      "244/244 - 3s - loss: 3.5652 - accuracy: 0.2864\n",
      "Epoch 29/200\n",
      "244/244 - 3s - loss: 3.4729 - accuracy: 0.3017\n",
      "Epoch 30/200\n",
      "244/244 - 3s - loss: 3.3845 - accuracy: 0.3171\n",
      "Epoch 31/200\n",
      "244/244 - 3s - loss: 3.2967 - accuracy: 0.3324\n",
      "Epoch 32/200\n",
      "244/244 - 3s - loss: 3.2144 - accuracy: 0.3494\n",
      "Epoch 33/200\n",
      "244/244 - 3s - loss: 3.1316 - accuracy: 0.3681\n",
      "Epoch 34/200\n",
      "244/244 - 3s - loss: 3.0529 - accuracy: 0.3783\n",
      "Epoch 35/200\n",
      "244/244 - 3s - loss: 2.9783 - accuracy: 0.3966\n",
      "Epoch 36/200\n",
      "244/244 - 3s - loss: 2.9025 - accuracy: 0.4061\n",
      "Epoch 37/200\n",
      "244/244 - 3s - loss: 2.8338 - accuracy: 0.4173\n",
      "Epoch 38/200\n",
      "244/244 - 3s - loss: 2.7637 - accuracy: 0.4342\n",
      "Epoch 39/200\n",
      "244/244 - 3s - loss: 2.6986 - accuracy: 0.4447\n",
      "Epoch 40/200\n",
      "244/244 - 3s - loss: 2.6329 - accuracy: 0.4579\n",
      "Epoch 41/200\n",
      "244/244 - 4s - loss: 2.5670 - accuracy: 0.4730\n",
      "Epoch 42/200\n",
      "244/244 - 3s - loss: 2.5075 - accuracy: 0.4790\n",
      "Epoch 43/200\n",
      "244/244 - 3s - loss: 2.4509 - accuracy: 0.4928\n",
      "Epoch 44/200\n",
      "244/244 - 3s - loss: 2.3894 - accuracy: 0.5024\n",
      "Epoch 45/200\n",
      "244/244 - 3s - loss: 2.3352 - accuracy: 0.5195\n",
      "Epoch 46/200\n",
      "244/244 - 3s - loss: 2.2793 - accuracy: 0.5315\n",
      "Epoch 47/200\n",
      "244/244 - 3s - loss: 2.2247 - accuracy: 0.5438\n",
      "Epoch 48/200\n",
      "244/244 - 3s - loss: 2.1721 - accuracy: 0.5521\n",
      "Epoch 49/200\n",
      "244/244 - 3s - loss: 2.1207 - accuracy: 0.5645\n",
      "Epoch 50/200\n",
      "244/244 - 3s - loss: 2.0725 - accuracy: 0.5709\n",
      "Epoch 51/200\n",
      "244/244 - 3s - loss: 2.0224 - accuracy: 0.5836\n",
      "Epoch 52/200\n",
      "244/244 - 3s - loss: 1.9788 - accuracy: 0.5927\n",
      "Epoch 53/200\n",
      "244/244 - 3s - loss: 1.9293 - accuracy: 0.6031\n",
      "Epoch 54/200\n",
      "244/244 - 3s - loss: 1.8862 - accuracy: 0.6137\n",
      "Epoch 55/200\n",
      "244/244 - 3s - loss: 1.8418 - accuracy: 0.6221\n",
      "Epoch 56/200\n",
      "244/244 - 3s - loss: 1.7982 - accuracy: 0.6323\n",
      "Epoch 57/200\n",
      "244/244 - 3s - loss: 1.7558 - accuracy: 0.6387\n",
      "Epoch 58/200\n",
      "244/244 - 3s - loss: 1.7149 - accuracy: 0.6481\n",
      "Epoch 59/200\n",
      "244/244 - 3s - loss: 1.6730 - accuracy: 0.6574\n",
      "Epoch 60/200\n",
      "244/244 - 3s - loss: 1.6341 - accuracy: 0.6676\n",
      "Epoch 61/200\n",
      "244/244 - 3s - loss: 1.5978 - accuracy: 0.6776\n",
      "Epoch 62/200\n",
      "244/244 - 3s - loss: 1.5565 - accuracy: 0.6873\n",
      "Epoch 63/200\n",
      "244/244 - 3s - loss: 1.5215 - accuracy: 0.6900\n",
      "Epoch 64/200\n",
      "244/244 - 3s - loss: 1.4871 - accuracy: 0.6990\n",
      "Epoch 65/200\n",
      "244/244 - 3s - loss: 1.4494 - accuracy: 0.7067\n",
      "Epoch 66/200\n",
      "244/244 - 3s - loss: 1.4161 - accuracy: 0.7163\n",
      "Epoch 67/200\n",
      "244/244 - 3s - loss: 1.3810 - accuracy: 0.7233\n",
      "Epoch 68/200\n",
      "244/244 - 3s - loss: 1.3505 - accuracy: 0.7270\n",
      "Epoch 69/200\n",
      "244/244 - 3s - loss: 1.3203 - accuracy: 0.7350\n",
      "Epoch 70/200\n",
      "244/244 - 4s - loss: 1.2873 - accuracy: 0.7415\n",
      "Epoch 71/200\n",
      "244/244 - 4s - loss: 1.2578 - accuracy: 0.7514\n",
      "Epoch 72/200\n",
      "244/244 - 3s - loss: 1.2261 - accuracy: 0.7569\n",
      "Epoch 73/200\n",
      "244/244 - 3s - loss: 1.1996 - accuracy: 0.7646\n",
      "Epoch 74/200\n",
      "244/244 - 3s - loss: 1.1703 - accuracy: 0.7686\n",
      "Epoch 75/200\n",
      "244/244 - 4s - loss: 1.1430 - accuracy: 0.7739\n",
      "Epoch 76/200\n",
      "244/244 - 4s - loss: 1.1180 - accuracy: 0.7798\n",
      "Epoch 77/200\n",
      "244/244 - 3s - loss: 1.0918 - accuracy: 0.7843\n",
      "Epoch 78/200\n",
      "244/244 - 3s - loss: 1.0637 - accuracy: 0.7912\n",
      "Epoch 79/200\n",
      "244/244 - 3s - loss: 1.0403 - accuracy: 0.7944\n",
      "Epoch 80/200\n",
      "244/244 - 3s - loss: 1.0159 - accuracy: 0.7988\n",
      "Epoch 81/200\n",
      "244/244 - 3s - loss: 0.9911 - accuracy: 0.8030\n",
      "Epoch 82/200\n",
      "244/244 - 3s - loss: 0.9686 - accuracy: 0.8097\n",
      "Epoch 83/200\n",
      "244/244 - 3s - loss: 0.9433 - accuracy: 0.8125\n",
      "Epoch 84/200\n",
      "244/244 - 3s - loss: 0.9250 - accuracy: 0.8162\n",
      "Epoch 85/200\n",
      "244/244 - 3s - loss: 0.9034 - accuracy: 0.8228\n",
      "Epoch 86/200\n",
      "244/244 - 3s - loss: 0.8816 - accuracy: 0.8275\n",
      "Epoch 87/200\n",
      "244/244 - 4s - loss: 0.8612 - accuracy: 0.8293\n",
      "Epoch 88/200\n",
      "244/244 - 4s - loss: 0.8397 - accuracy: 0.8322\n",
      "Epoch 89/200\n",
      "244/244 - 3s - loss: 0.8211 - accuracy: 0.8357\n",
      "Epoch 90/200\n",
      "244/244 - 3s - loss: 0.8043 - accuracy: 0.8404\n",
      "Epoch 91/200\n",
      "244/244 - 3s - loss: 0.7857 - accuracy: 0.8442\n",
      "Epoch 92/200\n",
      "244/244 - 3s - loss: 0.7675 - accuracy: 0.8492\n",
      "Epoch 93/200\n",
      "244/244 - 3s - loss: 0.7499 - accuracy: 0.8492\n",
      "Epoch 94/200\n",
      "244/244 - 3s - loss: 0.7330 - accuracy: 0.8520\n",
      "Epoch 95/200\n",
      "244/244 - 3s - loss: 0.7180 - accuracy: 0.8577\n",
      "Epoch 96/200\n",
      "244/244 - 3s - loss: 0.6992 - accuracy: 0.8599\n",
      "Epoch 97/200\n",
      "244/244 - 3s - loss: 0.6845 - accuracy: 0.8634\n",
      "Epoch 98/200\n",
      "244/244 - 3s - loss: 0.6758 - accuracy: 0.8654\n",
      "Epoch 99/200\n",
      "244/244 - 3s - loss: 0.6553 - accuracy: 0.8702\n",
      "Epoch 100/200\n",
      "244/244 - 3s - loss: 0.6401 - accuracy: 0.8721\n",
      "Epoch 101/200\n",
      "244/244 - 3s - loss: 0.6261 - accuracy: 0.8753\n",
      "Epoch 102/200\n",
      "244/244 - 3s - loss: 0.6125 - accuracy: 0.8768\n",
      "Epoch 103/200\n",
      "244/244 - 3s - loss: 0.6000 - accuracy: 0.8809\n",
      "Epoch 104/200\n",
      "244/244 - 3s - loss: 0.5876 - accuracy: 0.8841\n",
      "Epoch 105/200\n",
      "244/244 - 3s - loss: 0.5749 - accuracy: 0.8834\n",
      "Epoch 106/200\n",
      "244/244 - 4s - loss: 0.5640 - accuracy: 0.8857\n",
      "Epoch 107/200\n",
      "244/244 - 3s - loss: 0.5571 - accuracy: 0.8877\n",
      "Epoch 108/200\n",
      "244/244 - 3s - loss: 0.5420 - accuracy: 0.8913\n",
      "Epoch 109/200\n",
      "244/244 - 3s - loss: 0.5286 - accuracy: 0.8918\n",
      "Epoch 110/200\n",
      "244/244 - 3s - loss: 0.5180 - accuracy: 0.8936\n",
      "Epoch 111/200\n",
      "244/244 - 3s - loss: 0.5082 - accuracy: 0.8961\n",
      "Epoch 112/200\n",
      "244/244 - 3s - loss: 0.5011 - accuracy: 0.8962\n",
      "Epoch 113/200\n",
      "244/244 - 3s - loss: 0.4884 - accuracy: 0.8997\n",
      "Epoch 114/200\n",
      "244/244 - 3s - loss: 0.4801 - accuracy: 0.9007\n",
      "Epoch 115/200\n",
      "244/244 - 3s - loss: 0.4704 - accuracy: 0.9027\n",
      "Epoch 116/200\n",
      "244/244 - 3s - loss: 0.4799 - accuracy: 0.9008\n",
      "Epoch 117/200\n",
      "244/244 - 3s - loss: 0.4628 - accuracy: 0.9044\n",
      "Epoch 118/200\n",
      "244/244 - 3s - loss: 0.4465 - accuracy: 0.9048\n",
      "Epoch 119/200\n",
      "244/244 - 3s - loss: 0.4374 - accuracy: 0.9064\n",
      "Epoch 120/200\n",
      "244/244 - 4s - loss: 0.4398 - accuracy: 0.9050\n",
      "Epoch 121/200\n",
      "244/244 - 4s - loss: 0.4246 - accuracy: 0.9084\n",
      "Epoch 122/200\n",
      "244/244 - 4s - loss: 0.4163 - accuracy: 0.9093\n",
      "Epoch 123/200\n",
      "244/244 - 4s - loss: 0.4098 - accuracy: 0.9099\n",
      "Epoch 124/200\n",
      "244/244 - 4s - loss: 0.4037 - accuracy: 0.9093\n",
      "Epoch 125/200\n",
      "244/244 - 4s - loss: 0.3977 - accuracy: 0.9100\n",
      "Epoch 126/200\n",
      "244/244 - 4s - loss: 0.3924 - accuracy: 0.9127\n",
      "Epoch 127/200\n",
      "244/244 - 4s - loss: 0.3939 - accuracy: 0.9103\n",
      "Epoch 128/200\n",
      "244/244 - 4s - loss: 0.3840 - accuracy: 0.9114\n",
      "Epoch 129/200\n",
      "244/244 - 4s - loss: 0.3752 - accuracy: 0.9122\n",
      "Epoch 130/200\n",
      "244/244 - 4s - loss: 0.3708 - accuracy: 0.9139\n",
      "Epoch 131/200\n",
      "244/244 - 3s - loss: 0.3667 - accuracy: 0.9148\n",
      "Epoch 132/200\n",
      "244/244 - 3s - loss: 0.3810 - accuracy: 0.9113\n",
      "Epoch 133/200\n",
      "244/244 - 3s - loss: 0.3633 - accuracy: 0.9135\n",
      "Epoch 134/200\n",
      "244/244 - 3s - loss: 0.3538 - accuracy: 0.9146\n",
      "Epoch 135/200\n",
      "244/244 - 3s - loss: 0.3499 - accuracy: 0.9152\n",
      "Epoch 136/200\n",
      "244/244 - 3s - loss: 0.3452 - accuracy: 0.9150\n",
      "Epoch 137/200\n",
      "244/244 - 3s - loss: 0.3413 - accuracy: 0.9149\n",
      "Epoch 138/200\n",
      "244/244 - 3s - loss: 0.3371 - accuracy: 0.9153\n",
      "Epoch 139/200\n",
      "244/244 - 3s - loss: 0.3331 - accuracy: 0.9153\n",
      "Epoch 140/200\n",
      "244/244 - 3s - loss: 0.3316 - accuracy: 0.9173\n",
      "Epoch 141/200\n",
      "244/244 - 3s - loss: 0.3278 - accuracy: 0.9163\n",
      "Epoch 142/200\n",
      "244/244 - 3s - loss: 0.3258 - accuracy: 0.9161\n",
      "Epoch 143/200\n",
      "244/244 - 3s - loss: 0.3223 - accuracy: 0.9168\n",
      "Epoch 144/200\n",
      "244/244 - 3s - loss: 0.3210 - accuracy: 0.9170\n",
      "Epoch 145/200\n",
      "244/244 - 3s - loss: 0.3313 - accuracy: 0.9157\n",
      "Epoch 146/200\n",
      "244/244 - 3s - loss: 0.3167 - accuracy: 0.9163\n",
      "Epoch 147/200\n",
      "244/244 - 3s - loss: 0.3116 - accuracy: 0.9153\n",
      "Epoch 148/200\n",
      "244/244 - 3s - loss: 0.3074 - accuracy: 0.9166\n",
      "Epoch 149/200\n",
      "244/244 - 3s - loss: 0.3059 - accuracy: 0.9164\n",
      "Epoch 150/200\n",
      "244/244 - 3s - loss: 0.3047 - accuracy: 0.9172\n",
      "Epoch 151/200\n",
      "244/244 - 3s - loss: 0.3022 - accuracy: 0.9172\n",
      "Epoch 152/200\n",
      "244/244 - 3s - loss: 0.3005 - accuracy: 0.9159\n",
      "Epoch 153/200\n",
      "244/244 - 3s - loss: 0.3028 - accuracy: 0.9180\n",
      "Epoch 154/200\n",
      "244/244 - 3s - loss: 0.3106 - accuracy: 0.9144\n",
      "Epoch 155/200\n",
      "244/244 - 3s - loss: 0.3046 - accuracy: 0.9162\n",
      "Epoch 156/200\n",
      "244/244 - 3s - loss: 0.2966 - accuracy: 0.9159\n",
      "Epoch 157/200\n",
      "244/244 - 3s - loss: 0.2918 - accuracy: 0.9175\n",
      "Epoch 158/200\n",
      "244/244 - 4s - loss: 0.2901 - accuracy: 0.9173\n",
      "Epoch 159/200\n",
      "244/244 - 3s - loss: 0.2892 - accuracy: 0.9166\n",
      "Epoch 160/200\n",
      "244/244 - 3s - loss: 0.2871 - accuracy: 0.9175\n",
      "Epoch 161/200\n",
      "244/244 - 3s - loss: 0.2928 - accuracy: 0.9154\n",
      "Epoch 162/200\n",
      "244/244 - 3s - loss: 0.2957 - accuracy: 0.9155\n",
      "Epoch 163/200\n",
      "244/244 - 3s - loss: 0.2875 - accuracy: 0.9158\n",
      "Epoch 164/200\n",
      "244/244 - 4s - loss: 0.2822 - accuracy: 0.9184\n",
      "Epoch 165/200\n",
      "244/244 - 3s - loss: 0.2823 - accuracy: 0.9159\n",
      "Epoch 166/200\n",
      "244/244 - 3s - loss: 0.2802 - accuracy: 0.9168\n",
      "Epoch 167/200\n",
      "244/244 - 3s - loss: 0.2798 - accuracy: 0.9161\n",
      "Epoch 168/200\n",
      "244/244 - 3s - loss: 0.2793 - accuracy: 0.9170\n",
      "Epoch 169/200\n",
      "244/244 - 3s - loss: 0.2783 - accuracy: 0.9164\n",
      "Epoch 170/200\n",
      "244/244 - 3s - loss: 0.2788 - accuracy: 0.9161\n",
      "Epoch 171/200\n",
      "244/244 - 4s - loss: 0.2788 - accuracy: 0.9177\n",
      "Epoch 172/200\n",
      "244/244 - 4s - loss: 0.2811 - accuracy: 0.9163\n",
      "Epoch 173/200\n",
      "244/244 - 4s - loss: 0.2765 - accuracy: 0.9185\n",
      "Epoch 174/200\n",
      "244/244 - 3s - loss: 0.2743 - accuracy: 0.9155\n",
      "Epoch 175/200\n",
      "244/244 - 3s - loss: 0.2728 - accuracy: 0.9171\n",
      "Epoch 176/200\n",
      "244/244 - 3s - loss: 0.2742 - accuracy: 0.9158\n",
      "Epoch 177/200\n",
      "244/244 - 3s - loss: 0.2724 - accuracy: 0.9167\n",
      "Epoch 178/200\n",
      "244/244 - 3s - loss: 0.2736 - accuracy: 0.9163\n",
      "Epoch 179/200\n",
      "244/244 - 3s - loss: 0.2727 - accuracy: 0.9170\n",
      "Epoch 180/200\n",
      "244/244 - 4s - loss: 0.2730 - accuracy: 0.9158\n",
      "Epoch 181/200\n",
      "244/244 - 4s - loss: 0.2723 - accuracy: 0.9152\n",
      "Epoch 182/200\n",
      "244/244 - 4s - loss: 0.2699 - accuracy: 0.9181\n",
      "Epoch 183/200\n",
      "244/244 - 4s - loss: 0.2678 - accuracy: 0.9172\n",
      "Epoch 184/200\n",
      "244/244 - 4s - loss: 0.2688 - accuracy: 0.9167\n",
      "Epoch 185/200\n",
      "244/244 - 3s - loss: 0.2681 - accuracy: 0.9154\n",
      "Epoch 186/200\n",
      "244/244 - 4s - loss: 0.2684 - accuracy: 0.9171\n",
      "Epoch 187/200\n",
      "244/244 - 3s - loss: 0.2680 - accuracy: 0.9159\n",
      "Epoch 188/200\n",
      "244/244 - 3s - loss: 0.2681 - accuracy: 0.9167\n",
      "Epoch 189/200\n",
      "244/244 - 3s - loss: 0.2679 - accuracy: 0.9154\n",
      "Epoch 190/200\n",
      "244/244 - 3s - loss: 0.2666 - accuracy: 0.9172\n",
      "Epoch 191/200\n",
      "244/244 - 4s - loss: 0.2668 - accuracy: 0.9172\n",
      "Epoch 192/200\n",
      "244/244 - 4s - loss: 0.3082 - accuracy: 0.9076\n",
      "Epoch 193/200\n",
      "244/244 - 3s - loss: 0.2952 - accuracy: 0.9107\n",
      "Epoch 194/200\n",
      "244/244 - 3s - loss: 0.2692 - accuracy: 0.9170\n",
      "Epoch 195/200\n",
      "244/244 - 3s - loss: 0.2634 - accuracy: 0.9164\n",
      "Epoch 196/200\n",
      "244/244 - 3s - loss: 0.2621 - accuracy: 0.9175\n",
      "Epoch 197/200\n",
      "244/244 - 3s - loss: 0.2629 - accuracy: 0.9161\n",
      "Epoch 198/200\n",
      "244/244 - 3s - loss: 0.2625 - accuracy: 0.9175\n",
      "Epoch 199/200\n",
      "244/244 - 4s - loss: 0.2625 - accuracy: 0.9159\n",
      "Epoch 200/200\n",
      "244/244 - 3s - loss: 0.2622 - accuracy: 0.9170\n"
     ]
    }
   ],
   "source": [
    "hisotry = model.fit(X, Y, epochs=200, verbose=2)"
   ]
  },
  {
   "cell_type": "markdown",
   "metadata": {},
   "source": [
    "## 모델 검증"
   ]
  },
  {
   "cell_type": "code",
   "execution_count": 32,
   "metadata": {},
   "outputs": [],
   "source": [
    "from my_util import sentence_generation"
   ]
  },
  {
   "cell_type": "code",
   "execution_count": 33,
   "metadata": {},
   "outputs": [
    {
     "ename": "TypeError",
     "evalue": "sentence_generation() takes 4 positional arguments but 5 were given",
     "output_type": "error",
     "traceback": [
      "\u001b[1;31m---------------------------------------------------------------------------\u001b[0m",
      "\u001b[1;31mTypeError\u001b[0m                                 Traceback (most recent call last)",
      "\u001b[1;32m<ipython-input-33-cc936b86ad34>\u001b[0m in \u001b[0;36m<module>\u001b[1;34m\u001b[0m\n\u001b[1;32m----> 1\u001b[1;33m \u001b[0mprint\u001b[0m\u001b[1;33m(\u001b[0m\u001b[0msentence_generation\u001b[0m\u001b[1;33m(\u001b[0m\u001b[0mmodel\u001b[0m\u001b[1;33m,\u001b[0m \u001b[0mt\u001b[0m\u001b[1;33m,\u001b[0m \u001b[0mmax_len\u001b[0m\u001b[1;33m,\u001b[0m \u001b[1;34m'i'\u001b[0m\u001b[1;33m,\u001b[0m \u001b[1;36m10\u001b[0m\u001b[1;33m)\u001b[0m\u001b[1;33m)\u001b[0m\u001b[1;33m\u001b[0m\u001b[1;33m\u001b[0m\u001b[0m\n\u001b[0m\u001b[0;32m      2\u001b[0m \u001b[0mprint\u001b[0m\u001b[1;33m(\u001b[0m\u001b[0msentence_generation\u001b[0m\u001b[1;33m(\u001b[0m\u001b[0mmodel\u001b[0m\u001b[1;33m,\u001b[0m \u001b[0mt\u001b[0m\u001b[1;33m,\u001b[0m \u001b[0mmax_len\u001b[0m\u001b[1;33m,\u001b[0m \u001b[1;34m'epa'\u001b[0m\u001b[1;33m,\u001b[0m \u001b[1;36m10\u001b[0m\u001b[1;33m)\u001b[0m\u001b[1;33m)\u001b[0m\u001b[1;33m\u001b[0m\u001b[1;33m\u001b[0m\u001b[0m\n\u001b[0;32m      3\u001b[0m \u001b[0mprint\u001b[0m\u001b[1;33m(\u001b[0m\u001b[0msentence_generation\u001b[0m\u001b[1;33m(\u001b[0m\u001b[0mmodel\u001b[0m\u001b[1;33m,\u001b[0m \u001b[0mt\u001b[0m\u001b[1;33m,\u001b[0m \u001b[0mmax_len\u001b[0m\u001b[1;33m,\u001b[0m \u001b[1;34m'former'\u001b[0m\u001b[1;33m,\u001b[0m \u001b[1;36m10\u001b[0m\u001b[1;33m)\u001b[0m\u001b[1;33m)\u001b[0m\u001b[1;33m\u001b[0m\u001b[1;33m\u001b[0m\u001b[0m\n",
      "\u001b[1;31mTypeError\u001b[0m: sentence_generation() takes 4 positional arguments but 5 were given"
     ]
    }
   ],
   "source": [
    "print(sentence_generation(model, t, max_len, 'i', 10))\r\n",
    "print(sentence_generation(model, t, max_len, 'epa', 10))\r\n",
    "print(sentence_generation(model, t, max_len, 'former', 10))"
   ]
  },
  {
   "cell_type": "code",
   "execution_count": null,
   "metadata": {},
   "outputs": [],
   "source": []
  }
 ],
 "metadata": {
  "interpreter": {
   "hash": "8c1eae21719a0790335dcb83aad72b63b602cfe5cdb2bda0f60bc11d4f154e4b"
  },
  "kernelspec": {
   "display_name": "Python 3.8.5 64-bit ('base': conda)",
   "name": "python3"
  },
  "language_info": {
   "codemirror_mode": {
    "name": "ipython",
    "version": 3
   },
   "file_extension": ".py",
   "mimetype": "text/x-python",
   "name": "python",
   "nbconvert_exporter": "python",
   "pygments_lexer": "ipython3",
   "version": "3.8.5"
  },
  "orig_nbformat": 4
 },
 "nbformat": 4,
 "nbformat_minor": 2
}