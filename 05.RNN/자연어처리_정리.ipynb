{
 "cells": [
  {
   "cell_type": "markdown",
   "metadata": {},
   "source": [
    "# 임베딩(Embedding) 레이어\r\n",
    "임베딩 레이어는 주로 자연어 처리에 사용되며, 자연어를 수치화된 정보로 바꾸기 위한 레이어\r\n",
    "- 임베딩은 값, 텍스트 내의 단어들을 밀집 벡터(dense vector)로 만드는 것\r\n",
    "- 단어를 의미론적 기하 공간에 매칭 시킬 수 있도록 수치 및 벡터화시키는 것\r\n",
    "- 밀집 벡터는 대부분의 값이 실수이고, 저차원적인 벡터를 의미\r\n",
    "- 원-핫 벡터와 같은 희소 벡터(0 또는 1로 이루어진 벡터)와 달리 훈련 데이터로부터 학습을 하는 벡터"
   ]
  },
  {
   "cell_type": "markdown",
   "metadata": {},
   "source": [
    "## 자연어 처리를 위한 전처리\r\n",
    "## - 토큰화와 정수 인코딩 : from tensorflow.keras.preprocessing.text import Tokenizer()\r\n",
    "RNN은 자연어 처리에 좋은 신경망이다. 하지만, 신경망은 기본적으로 숫자로 이뤄진 가중치와 편향들로 구성되어 있다. 이를 위해 자연어를 의미가 있는 숫자 벡터로 바꿔줘야한다."
   ]
  },
  {
   "cell_type": "code",
   "execution_count": 2,
   "metadata": {},
   "outputs": [
    {
     "name": "stdout",
     "output_type": "stream",
     "text": [
      "sequences :  [1, 3, 4]\n",
      "word_index :  {'i': 1, 'love': 2, 'deep': 3, 'learning': 4}\n"
     ]
    }
   ],
   "source": [
    "from tensorflow.keras.preprocessing.text import Tokenizer\r\n",
    "t = Tokenizer()\r\n",
    "fit_text = \"I love Deep Learning\"\r\n",
    "t.fit_on_texts([fit_text])\r\n",
    "\r\n",
    "test_text = \"I like Deep Learning\"\r\n",
    "sequences = t.texts_to_sequences([test_text])[0]\r\n",
    "\r\n",
    "print(\"sequences : \",sequences)\r\n",
    "# great는 단어 집합(vocabulary)에 없으므로 출력되지 않는다.\r\n",
    "print(\"word_index : \",t.word_index) # 단어 집합(vocabulary) 출력\r\n",
    "# 'I love Deep Learning'이라는 문장을 토크 나이저에 적용시키고\r\n",
    "# 'I like Deep Learning'이라는 문장을 sequence로 변환\r\n",
    "# 해당 토크 나이저는 i-1, love-2, deep-3, learning-4로 index가 지정되었고,\r\n",
    "# 두 번째 문장에서는 1, 3, 4에 해당되는 단어들만 찾은 것을 알 수 있다."
   ]
  },
  {
   "cell_type": "markdown",
   "metadata": {},
   "source": [
    "## - 패딩(padding) : tensorflow.keras.preprocessing.sequence.pad_sequence()\r\n",
    "데이터 세트에서 문장들의 길이는 서로 다를 가능성이 높다. 또한 각 문장마다 단어의 수는 다를 확률이 크다.\r\n",
    "\r\n",
    "모델을 학습시키기 위해서는 모든 데이터의 길이가 동일하여야 하는 경우가 많다. 이를 맞추기 위하여 패딩(padding) 작업을 한다. 0을 넣어서 크기를 유지해 준다."
   ]
  },
  {
   "cell_type": "code",
   "execution_count": 4,
   "metadata": {},
   "outputs": [
    {
     "data": {
      "text/plain": [
       "array([[1, 2, 3],\n",
       "       [4, 5, 6],\n",
       "       [0, 7, 8]])"
      ]
     },
     "execution_count": 4,
     "metadata": {},
     "output_type": "execute_result"
    }
   ],
   "source": [
    "from tensorflow.keras.preprocessing.sequence import pad_sequences\r\n",
    "sequences = pad_sequences([[1, 2, 3], [3, 4, 5, 6], [7, 8]],\r\n",
    "                           maxlen=3,  # maxlen: 맞추고자 하는 길이 의미\r\n",
    "                           padding='pre')\r\n",
    "sequences      # padding: 'pre'는 앞쪽에 패딩을 0으로 넣는 것을 의미\r\n",
    "               #'post'는 뒤쪽에 패딩을 0으로 넣는 것을 의미"
   ]
  },
  {
   "cell_type": "code",
   "execution_count": null,
   "metadata": {},
   "outputs": [],
   "source": [
    "model = tf.keras.Sequential([ tf.keras.layers.Embedding(2000, 128, input_length=X.shape[1]),\r\n",
    "                              tf.keras.layers.SpatialDropout1D(0.4),\r\n",
    "                              tf.keras.layers.LSTM(196, dropout=0.2, recurrent_dropout=0.2),\r\n",
    "                              tf.keras.layers.Dense(2, activation='softmax') ])\r\n",
    "                              \r\n",
    "model.compile(loss = 'categorical_crossentropy',\r\n",
    "              optimizer='adam',\r\n",
    "              metrics = ['accuracy'])\r\n",
    "              \r\n",
    "model.summary()"
   ]
  },
  {
   "cell_type": "markdown",
   "metadata": {},
   "source": [
    "위와 같이, tf.keras.layers.Embedding클래스를 사용하여 선언할 수 있습니다.\r\n",
    "\r\n",
    "input_dim: int, 단어의 크기를 의미합니다. 위의 예제에서 2000은 총 2000개의 단어 종류가 있다는 의미입니다.\r\n",
    "output_dim: int, 임베딩의 출력 차원을 의미합니다. 임베딩 벡터의 차원은 주로 256, 512, 1024등의 차원을 가집니다.\r\n",
    "input_length: 일정한 입력 데이터의 크기를 의미합니다. Flatten이전의 임베딩 시, 반드시 필요합니다.\r\n",
    "\r\n",
    "\r\n",
    "출처: https://davinci-ai.tistory.com/30 [DAVINCI - AI]"
   ]
  }
 ],
 "metadata": {
  "interpreter": {
   "hash": "8c1eae21719a0790335dcb83aad72b63b602cfe5cdb2bda0f60bc11d4f154e4b"
  },
  "kernelspec": {
   "display_name": "Python 3.8.5 64-bit ('base': conda)",
   "name": "python3"
  },
  "language_info": {
   "codemirror_mode": {
    "name": "ipython",
    "version": 3
   },
   "file_extension": ".py",
   "mimetype": "text/x-python",
   "name": "python",
   "nbconvert_exporter": "python",
   "pygments_lexer": "ipython3",
   "version": "3.8.5"
  },
  "orig_nbformat": 4
 },
 "nbformat": 4,
 "nbformat_minor": 2
}