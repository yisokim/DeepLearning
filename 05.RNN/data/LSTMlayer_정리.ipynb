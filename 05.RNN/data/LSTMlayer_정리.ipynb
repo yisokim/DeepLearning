{
 "cells": [
  {
   "cell_type": "markdown",
   "metadata": {},
   "source": [
    "RNN의 경우, 입력데이터가 커질수록 학습 능력이 저하된다.\r\n",
    "\r\n",
    "입력데이터와 출력데이터 사이의 길이가 멀어질수록 연관관계가 줄어든다. 이를 \"장기의존성\"문제라 하는데 RNN의 변형구조인 LSTM레이어는 장기의존성 문제를 해결하기 위해 나오게 됐다."
   ]
  },
  {
   "cell_type": "markdown",
   "metadata": {},
   "source": [
    "## LSTM의 구조\r\n",
    "- LSTM레이어는 출력값 이외에, LSTM셀 사이에서 공유되는 셀의 상태가 존재한다는 점이 특징이다.\r\n",
    "- 이러한 셀 상태가 함께 다음 레이어로 전달되면서, 기존의 상태를 보존하여 장기의존성 문제를 해결한다."
   ]
  },
  {
   "cell_type": "markdown",
   "metadata": {},
   "source": [
    "* RNN의 활성화 함수 : tanh, relu\r\n",
    "* LSTM의 활성화 함수 : tanh(relu), sigmoid"
   ]
  },
  {
   "cell_type": "code",
   "execution_count": 1,
   "metadata": {},
   "outputs": [
    {
     "name": "stdout",
     "output_type": "stream",
     "text": [
      "[[[0. ]\n",
      "  [0.1]\n",
      "  [0.2]\n",
      "  [0.3]]\n",
      "\n",
      " [[0.1]\n",
      "  [0.2]\n",
      "  [0.3]\n",
      "  [0.4]]\n",
      "\n",
      " [[0.2]\n",
      "  [0.3]\n",
      "  [0.4]\n",
      "  [0.5]]\n",
      "\n",
      " [[0.3]\n",
      "  [0.4]\n",
      "  [0.5]\n",
      "  [0.6]]\n",
      "\n",
      " [[0.4]\n",
      "  [0.5]\n",
      "  [0.6]\n",
      "  [0.7]]\n",
      "\n",
      " [[0.5]\n",
      "  [0.6]\n",
      "  [0.7]\n",
      "  [0.8]]]\n",
      "[0.4 0.5 0.6 0.7 0.8 0.9]\n"
     ]
    }
   ],
   "source": [
    "# test 환경\r\n",
    "import numpy as np\r\n",
    "\r\n",
    "X = []\r\n",
    "Y = []\r\n",
    "for i in range(6):\r\n",
    "    lst = list(range(i,i+4))\r\n",
    "    X.append(list(map(lambda c: [c/10], lst)))\r\n",
    "    Y.append((i+4)/10)\r\n",
    "X = np.array(X)\r\n",
    "Y = np.array(Y)\r\n",
    "print(X)\r\n",
    "print(Y)"
   ]
  },
  {
   "cell_type": "code",
   "execution_count": 2,
   "metadata": {},
   "outputs": [],
   "source": [
    "# 모델 만들기 & 학습\r\n",
    "from tensorflow.keras.models import Sequential\r\n",
    "from tensorflow.keras.layers import Embedding, LSTM, Dense\r\n",
    "\r\n",
    "model = Sequential([LSTM(units=32,\r\n",
    "              # units 파라미터는 RNN 신경망에 존재하는 뉴런의 개수\r\n",
    "                    return_sequences=False,\r\n",
    "        # RNN 계산 과정에 있는 hidden state를 출력할 것인지에 대한 값을 의미\r\n",
    "        # 해당 값은 다층으로 이루어진 RNN 또는 one-to-many, many-to-many 출력을 위해서 사용\r\n",
    "        # False의 경우, 마지막 출력값 하나를 출력/ True의 경우, 모든 과정의 출력 값을 출력\r\n",
    "                    input_shape=[4,1]),\r\n",
    "                    Dense(1, activation='tanh')])\r\n",
    "# 모델은 Sequential에 simpleRNN과 Dense레이어를 하나씩 추가\r\n",
    "# input_shape는 4 time-step마다 하나의 답이라서 [4,1] 선언\r\n",
    "# 학습을 반복하면서 mse 값을 낮추는 훈련 함\r\n",
    "\r\n",
    "model.compile(optimizer='adam',\r\n",
    "              loss='mse',\r\n",
    "              metrics=['accuracy'])\r\n",
    "\r\n",
    "history = model.fit(X, Y, epochs=200, verbose=0)"
   ]
  },
  {
   "cell_type": "code",
   "execution_count": 3,
   "metadata": {},
   "outputs": [
    {
     "name": "stdout",
     "output_type": "stream",
     "text": [
      "[[0.4256802 ]\n",
      " [0.52832425]\n",
      " [0.6225498 ]\n",
      " [0.70545655]\n",
      " [0.77545   ]\n",
      " [0.8323025 ]]\n"
     ]
    }
   ],
   "source": [
    "# 기존의 훈련 데이터 세트를 넣어서 예측\r\n",
    "print(model.predict(X))"
   ]
  },
  {
   "cell_type": "code",
   "execution_count": 5,
   "metadata": {},
   "outputs": [
    {
     "name": "stdout",
     "output_type": "stream",
     "text": [
      "[[0.9361098]]\n"
     ]
    }
   ],
   "source": [
    "# 1.2에 많이 가깝진 않지만 훈련데이터를 증가시켜서 해당 결과를 개선시킬 수 있음\r\n",
    "# RNN 사용시 0.912, LSTM 사용시 0.936\r\n",
    "X_test = np.array([[[0.8],[0.9],[1.0],[1.1]]])\r\n",
    "print(model.predict(X_test))"
   ]
  }
 ],
 "metadata": {
  "interpreter": {
   "hash": "8c1eae21719a0790335dcb83aad72b63b602cfe5cdb2bda0f60bc11d4f154e4b"
  },
  "kernelspec": {
   "display_name": "Python 3.8.5 64-bit ('base': conda)",
   "name": "python3"
  },
  "language_info": {
   "codemirror_mode": {
    "name": "ipython",
    "version": 3
   },
   "file_extension": ".py",
   "mimetype": "text/x-python",
   "name": "python",
   "nbconvert_exporter": "python",
   "pygments_lexer": "ipython3",
   "version": "3.8.5"
  },
  "orig_nbformat": 4
 },
 "nbformat": 4,
 "nbformat_minor": 2
}