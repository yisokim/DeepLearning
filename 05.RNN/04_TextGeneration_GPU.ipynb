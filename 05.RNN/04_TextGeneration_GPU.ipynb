{
 "cells": [
  {
   "cell_type": "markdown",
   "metadata": {},
   "source": [
    "# LSTM을 이용한 텍스트 생성\r\n",
    "- 데이터 다운로드: 캐글 new york times comments\r\n",
    "- ArticlesApril2018.csv"
   ]
  },
  {
   "cell_type": "code",
   "execution_count": 1,
   "metadata": {},
   "outputs": [],
   "source": [
    "import numpy as np\r\n",
    "import tensorflow as tf\r\n",
    "seed=2021\r\n",
    "np.random.seed(seed)\r\n",
    "tf.random.set_seed(seed)"
   ]
  },
  {
   "cell_type": "code",
   "execution_count": 2,
   "metadata": {},
   "outputs": [],
   "source": [
    "from tensorflow.keras.preprocessing.text import Tokenizer\r\n",
    "from tensorflow.keras.preprocessing.sequence import pad_sequences\r\n",
    "from tensorflow.keras.utils import to_categorical"
   ]
  },
  {
   "cell_type": "code",
   "execution_count": 3,
   "metadata": {},
   "outputs": [
    {
     "data": {
      "text/html": [
       "<div>\n",
       "<style scoped>\n",
       "    .dataframe tbody tr th:only-of-type {\n",
       "        vertical-align: middle;\n",
       "    }\n",
       "\n",
       "    .dataframe tbody tr th {\n",
       "        vertical-align: top;\n",
       "    }\n",
       "\n",
       "    .dataframe thead th {\n",
       "        text-align: right;\n",
       "    }\n",
       "</style>\n",
       "<table border=\"1\" class=\"dataframe\">\n",
       "  <thead>\n",
       "    <tr style=\"text-align: right;\">\n",
       "      <th></th>\n",
       "      <th>articleID</th>\n",
       "      <th>articleWordCount</th>\n",
       "      <th>byline</th>\n",
       "      <th>documentType</th>\n",
       "      <th>headline</th>\n",
       "      <th>keywords</th>\n",
       "      <th>multimedia</th>\n",
       "      <th>newDesk</th>\n",
       "      <th>printPage</th>\n",
       "      <th>pubDate</th>\n",
       "      <th>sectionName</th>\n",
       "      <th>snippet</th>\n",
       "      <th>source</th>\n",
       "      <th>typeOfMaterial</th>\n",
       "      <th>webURL</th>\n",
       "    </tr>\n",
       "  </thead>\n",
       "  <tbody>\n",
       "    <tr>\n",
       "      <th>0</th>\n",
       "      <td>5adf6684068401528a2aa69b</td>\n",
       "      <td>781</td>\n",
       "      <td>By JOHN BRANCH</td>\n",
       "      <td>article</td>\n",
       "      <td>Former N.F.L. Cheerleadersâ Settlement Offer...</td>\n",
       "      <td>['Workplace Hazards and Violations', 'Football...</td>\n",
       "      <td>68</td>\n",
       "      <td>Sports</td>\n",
       "      <td>0</td>\n",
       "      <td>2018-04-24 17:16:49</td>\n",
       "      <td>Pro Football</td>\n",
       "      <td>âI understand that they could meet with us, ...</td>\n",
       "      <td>The New York Times</td>\n",
       "      <td>News</td>\n",
       "      <td>https://www.nytimes.com/2018/04/24/sports/foot...</td>\n",
       "    </tr>\n",
       "    <tr>\n",
       "      <th>1</th>\n",
       "      <td>5adf653f068401528a2aa697</td>\n",
       "      <td>656</td>\n",
       "      <td>By LISA FRIEDMAN</td>\n",
       "      <td>article</td>\n",
       "      <td>E.P.A. to Unveil a New Rule. Its Effect: Less ...</td>\n",
       "      <td>['Environmental Protection Agency', 'Pruitt, S...</td>\n",
       "      <td>68</td>\n",
       "      <td>Climate</td>\n",
       "      <td>0</td>\n",
       "      <td>2018-04-24 17:11:21</td>\n",
       "      <td>Unknown</td>\n",
       "      <td>The agency plans to publish a new regulation T...</td>\n",
       "      <td>The New York Times</td>\n",
       "      <td>News</td>\n",
       "      <td>https://www.nytimes.com/2018/04/24/climate/epa...</td>\n",
       "    </tr>\n",
       "    <tr>\n",
       "      <th>2</th>\n",
       "      <td>5adf4626068401528a2aa628</td>\n",
       "      <td>2427</td>\n",
       "      <td>By PETE WELLS</td>\n",
       "      <td>article</td>\n",
       "      <td>The New Noma, Explained</td>\n",
       "      <td>['Restaurants', 'Noma (Copenhagen, Restaurant)...</td>\n",
       "      <td>66</td>\n",
       "      <td>Dining</td>\n",
       "      <td>0</td>\n",
       "      <td>2018-04-24 14:58:44</td>\n",
       "      <td>Unknown</td>\n",
       "      <td>Whatâs it like to eat at the second incarnat...</td>\n",
       "      <td>The New York Times</td>\n",
       "      <td>News</td>\n",
       "      <td>https://www.nytimes.com/2018/04/24/dining/noma...</td>\n",
       "    </tr>\n",
       "  </tbody>\n",
       "</table>\n",
       "</div>"
      ],
      "text/plain": [
       "                  articleID  articleWordCount            byline documentType  \\\n",
       "0  5adf6684068401528a2aa69b               781    By JOHN BRANCH      article   \n",
       "1  5adf653f068401528a2aa697               656  By LISA FRIEDMAN      article   \n",
       "2  5adf4626068401528a2aa628              2427     By PETE WELLS      article   \n",
       "\n",
       "                                            headline  \\\n",
       "0  Former N.F.L. Cheerleadersâ Settlement Offer...   \n",
       "1  E.P.A. to Unveil a New Rule. Its Effect: Less ...   \n",
       "2                            The New Noma, Explained   \n",
       "\n",
       "                                            keywords  multimedia  newDesk  \\\n",
       "0  ['Workplace Hazards and Violations', 'Football...          68   Sports   \n",
       "1  ['Environmental Protection Agency', 'Pruitt, S...          68  Climate   \n",
       "2  ['Restaurants', 'Noma (Copenhagen, Restaurant)...          66   Dining   \n",
       "\n",
       "   printPage              pubDate   sectionName  \\\n",
       "0          0  2018-04-24 17:16:49  Pro Football   \n",
       "1          0  2018-04-24 17:11:21       Unknown   \n",
       "2          0  2018-04-24 14:58:44       Unknown   \n",
       "\n",
       "                                             snippet              source  \\\n",
       "0  âI understand that they could meet with us, ...  The New York Times   \n",
       "1  The agency plans to publish a new regulation T...  The New York Times   \n",
       "2  Whatâs it like to eat at the second incarnat...  The New York Times   \n",
       "\n",
       "  typeOfMaterial                                             webURL  \n",
       "0           News  https://www.nytimes.com/2018/04/24/sports/foot...  \n",
       "1           News  https://www.nytimes.com/2018/04/24/climate/epa...  \n",
       "2           News  https://www.nytimes.com/2018/04/24/dining/noma...  "
      ]
     },
     "execution_count": 3,
     "metadata": {},
     "output_type": "execute_result"
    }
   ],
   "source": [
    "import pandas as pd\r\n",
    "df = pd.read_csv('data/ArticlesApril2018.csv', encoding='latin1')\r\n",
    "df.head(3)"
   ]
  },
  {
   "cell_type": "markdown",
   "metadata": {},
   "source": [
    "## 데이터 전처리"
   ]
  },
  {
   "cell_type": "code",
   "execution_count": 4,
   "metadata": {},
   "outputs": [
    {
     "data": {
      "text/plain": [
       "Index(['articleID', 'articleWordCount', 'byline', 'documentType', 'headline',\n",
       "       'keywords', 'multimedia', 'newDesk', 'printPage', 'pubDate',\n",
       "       'sectionName', 'snippet', 'source', 'typeOfMaterial', 'webURL'],\n",
       "      dtype='object')"
      ]
     },
     "execution_count": 4,
     "metadata": {},
     "output_type": "execute_result"
    }
   ],
   "source": [
    "df.columns"
   ]
  },
  {
   "cell_type": "code",
   "execution_count": 5,
   "metadata": {},
   "outputs": [
    {
     "data": {
      "text/plain": [
       "0"
      ]
     },
     "execution_count": 5,
     "metadata": {},
     "output_type": "execute_result"
    }
   ],
   "source": [
    "# headline 열 데이터만 사용, null 검사\r\n",
    "df.headline.isnull().sum()"
   ]
  },
  {
   "cell_type": "code",
   "execution_count": 6,
   "metadata": {},
   "outputs": [
    {
     "data": {
      "text/plain": [
       "1324"
      ]
     },
     "execution_count": 6,
     "metadata": {},
     "output_type": "execute_result"
    }
   ],
   "source": [
    "headlines = [text for text in df.headline.values]\r\n",
    "len(headlines)"
   ]
  },
  {
   "cell_type": "code",
   "execution_count": 7,
   "metadata": {},
   "outputs": [
    {
     "data": {
      "text/plain": [
       "['Former N.F.L. Cheerleadersâ\\x80\\x99 Settlement Offer: $1 and a Meeting With Goodell',\n",
       " 'E.P.A. to Unveil a New Rule. Its Effect: Less Science in Policymaking.',\n",
       " 'The New Noma, Explained',\n",
       " 'Unknown',\n",
       " 'Unknown']"
      ]
     },
     "execution_count": 7,
     "metadata": {},
     "output_type": "execute_result"
    }
   ],
   "source": [
    "headlines[:5]"
   ]
  },
  {
   "cell_type": "code",
   "execution_count": 8,
   "metadata": {},
   "outputs": [
    {
     "data": {
      "text/plain": [
       "1214"
      ]
     },
     "execution_count": 8,
     "metadata": {},
     "output_type": "execute_result"
    }
   ],
   "source": [
    "# 노이즈 데이터('Unknown') 제거\r\n",
    "headlines = [text for text in headlines if text != 'Unknown']\r\n",
    "len(headlines)"
   ]
  },
  {
   "cell_type": "code",
   "execution_count": 9,
   "metadata": {},
   "outputs": [
    {
     "data": {
      "text/plain": [
       "'!\"#$%&\\'()*+,-./:;<=>?@[\\\\]^_`{|}~'"
      ]
     },
     "execution_count": 9,
     "metadata": {},
     "output_type": "execute_result"
    }
   ],
   "source": [
    "# 구둣점 제거, 소문자로 변환\r\n",
    "from string import punctuation\r\n",
    "punctuation"
   ]
  },
  {
   "cell_type": "code",
   "execution_count": 10,
   "metadata": {},
   "outputs": [],
   "source": [
    "def preprocessing(s):\r\n",
    "    s = s.encode('utf8').decode('ascii', 'ignore')\r\n",
    "    return ''.join(c for c in s if c not in punctuation).lower()"
   ]
  },
  {
   "cell_type": "code",
   "execution_count": 11,
   "metadata": {},
   "outputs": [
    {
     "data": {
      "text/plain": [
       "['former nfl cheerleaders settlement offer 1 and a meeting with goodell',\n",
       " 'epa to unveil a new rule its effect less science in policymaking',\n",
       " 'the new noma explained']"
      ]
     },
     "execution_count": 11,
     "metadata": {},
     "output_type": "execute_result"
    }
   ],
   "source": [
    "headlines = [preprocessing(s) for s in headlines]\r\n",
    "headlines[:3]"
   ]
  },
  {
   "cell_type": "code",
   "execution_count": 12,
   "metadata": {},
   "outputs": [
    {
     "data": {
      "text/plain": [
       "3494"
      ]
     },
     "execution_count": 12,
     "metadata": {},
     "output_type": "execute_result"
    }
   ],
   "source": [
    "# 단어 집합을 만들고, 그 크기를 확인\r\n",
    "t = Tokenizer()\r\n",
    "t.fit_on_texts(headlines)\r\n",
    "vocab_size = len(t.word_index) + 1\r\n",
    "vocab_size"
   ]
  },
  {
   "cell_type": "code",
   "execution_count": 13,
   "metadata": {},
   "outputs": [
    {
     "data": {
      "text/plain": [
       "[[99, 269],\n",
       " [99, 269, 371],\n",
       " [99, 269, 371, 1115],\n",
       " [99, 269, 371, 1115, 582],\n",
       " [99, 269, 371, 1115, 582, 52],\n",
       " [99, 269, 371, 1115, 582, 52, 7],\n",
       " [99, 269, 371, 1115, 582, 52, 7, 2],\n",
       " [99, 269, 371, 1115, 582, 52, 7, 2, 372],\n",
       " [99, 269, 371, 1115, 582, 52, 7, 2, 372, 10],\n",
       " [99, 269, 371, 1115, 582, 52, 7, 2, 372, 10, 1116],\n",
       " [100, 3]]"
      ]
     },
     "execution_count": 13,
     "metadata": {},
     "output_type": "execute_result"
    }
   ],
   "source": [
    "# 학습에 사용될 샘플 시퀀스\r\n",
    "sequences = []\r\n",
    "for line in headlines: \r\n",
    "    encoded = t.texts_to_sequences([line])[0]   #바깥쪽에 있는 리스트 제외\r\n",
    "    for i in range(1, len(encoded)):\r\n",
    "        sequence = encoded[:i+1]\r\n",
    "        sequences.append(sequence)\r\n",
    "sequences[:11]\r\n",
    "# [0,0,0,0,8,1]\r\n",
    "# 00000->패딩(x를 0으로 채움) 8,1->y값"
   ]
  },
  {
   "cell_type": "code",
   "execution_count": 14,
   "metadata": {},
   "outputs": [
    {
     "data": {
      "text/plain": [
       "24"
      ]
     },
     "execution_count": 14,
     "metadata": {},
     "output_type": "execute_result"
    }
   ],
   "source": [
    "max_len = max(len(s) for s in sequences)\r\n",
    "max_len"
   ]
  },
  {
   "cell_type": "markdown",
   "metadata": {},
   "source": [
    "## Padding\r\n",
    "- 전체 샘플의 길이를 가장 긴 샘플의 길이(6) 패딩\r\n",
    "- 'pre' 옵션을 주면 앞을 0으로 채움"
   ]
  },
  {
   "cell_type": "code",
   "execution_count": 15,
   "metadata": {},
   "outputs": [
    {
     "data": {
      "text/plain": [
       "array([[   0,    0,    0,    0,    0,    0,    0,    0,    0,    0,    0,\n",
       "           0,    0,    0,    0,    0,    0,    0,    0,    0,    0,    0,\n",
       "          99,  269],\n",
       "       [   0,    0,    0,    0,    0,    0,    0,    0,    0,    0,    0,\n",
       "           0,    0,    0,    0,    0,    0,    0,    0,    0,    0,   99,\n",
       "         269,  371],\n",
       "       [   0,    0,    0,    0,    0,    0,    0,    0,    0,    0,    0,\n",
       "           0,    0,    0,    0,    0,    0,    0,    0,    0,   99,  269,\n",
       "         371, 1115]])"
      ]
     },
     "execution_count": 15,
     "metadata": {},
     "output_type": "execute_result"
    }
   ],
   "source": [
    "# 전체 샘플의 길이를 6(가장 긴 샘플의 길이)으로 패딩\r\n",
    "# 'pre' 옵션을 주면 앞을 0으로 패딩\r\n",
    "sequences = pad_sequences(sequences, maxlen=max_len, padding='pre')\r\n",
    "sequences[:3]"
   ]
  },
  {
   "cell_type": "code",
   "execution_count": 16,
   "metadata": {},
   "outputs": [
    {
     "data": {
      "text/plain": [
       "((7803, 23), (7803, 3494))"
      ]
     },
     "execution_count": 16,
     "metadata": {},
     "output_type": "execute_result"
    }
   ],
   "source": [
    "X = sequences[:,:-1]\r\n",
    "y = sequences[:,-1]\r\n",
    "Y = to_categorical(y)\r\n",
    "X.shape, Y.shape"
   ]
  },
  {
   "cell_type": "markdown",
   "metadata": {},
   "source": [
    "## 모델 정의\r\n",
    "- Embedding\r\n",
    "- SimpleRNN"
   ]
  },
  {
   "cell_type": "code",
   "execution_count": 18,
   "metadata": {},
   "outputs": [],
   "source": [
    "from tensorflow.keras.models import Sequential\r\n",
    "from tensorflow.keras.layers import Embedding, GRU, Dense"
   ]
  },
  {
   "cell_type": "code",
   "execution_count": 19,
   "metadata": {},
   "outputs": [
    {
     "name": "stdout",
     "output_type": "stream",
     "text": [
      "Model: \"sequential\"\n",
      "_________________________________________________________________\n",
      "Layer (type)                 Output Shape              Param #   \n",
      "=================================================================\n",
      "embedding (Embedding)        (None, 23, 10)            34940     \n",
      "_________________________________________________________________\n",
      "gru (GRU)                    (None, 128)               53760     \n",
      "_________________________________________________________________\n",
      "dense (Dense)                (None, 3494)              450726    \n",
      "=================================================================\n",
      "Total params: 539,426\n",
      "Trainable params: 539,426\n",
      "Non-trainable params: 0\n",
      "_________________________________________________________________\n"
     ]
    }
   ],
   "source": [
    "# 임베딩 백터 10차원, GRU 노드 크기 128\r\n",
    "model = Sequential([\r\n",
    "    Embedding(vocab_size, 10, input_length=max_len-1),\r\n",
    "    GRU(128),\r\n",
    "    Dense(vocab_size, activation='softmax')\r\n",
    "])\r\n",
    "model.summary()"
   ]
  },
  {
   "cell_type": "code",
   "execution_count": 20,
   "metadata": {},
   "outputs": [],
   "source": [
    "model.compile(\r\n",
    "    optimizer='adam',\r\n",
    "    loss='categorical_crossentropy',\r\n",
    "    metrics=['accuracy']\r\n",
    ")"
   ]
  },
  {
   "cell_type": "code",
   "execution_count": 21,
   "metadata": {},
   "outputs": [
    {
     "name": "stdout",
     "output_type": "stream",
     "text": [
      "Epoch 1/200\n",
      "244/244 - 4s - loss: 7.7057 - accuracy: 0.0291\n",
      "Epoch 2/200\n",
      "244/244 - 3s - loss: 7.1229 - accuracy: 0.0315\n",
      "Epoch 3/200\n",
      "244/244 - 3s - loss: 6.9182 - accuracy: 0.0432\n",
      "Epoch 4/200\n",
      "244/244 - 3s - loss: 6.7109 - accuracy: 0.0495\n",
      "Epoch 5/200\n",
      "244/244 - 3s - loss: 6.4868 - accuracy: 0.0534\n",
      "Epoch 6/200\n",
      "244/244 - 3s - loss: 6.2371 - accuracy: 0.0556\n",
      "Epoch 7/200\n",
      "244/244 - 3s - loss: 5.9657 - accuracy: 0.0624\n",
      "Epoch 8/200\n",
      "244/244 - 3s - loss: 5.6905 - accuracy: 0.0679\n",
      "Epoch 9/200\n",
      "244/244 - 3s - loss: 5.4226 - accuracy: 0.0759\n",
      "Epoch 10/200\n",
      "244/244 - 3s - loss: 5.1652 - accuracy: 0.0834\n",
      "Epoch 11/200\n",
      "244/244 - 4s - loss: 4.9260 - accuracy: 0.0950\n",
      "Epoch 12/200\n",
      "244/244 - 4s - loss: 4.6989 - accuracy: 0.1152\n",
      "Epoch 13/200\n",
      "244/244 - 3s - loss: 4.4823 - accuracy: 0.1402\n",
      "Epoch 14/200\n",
      "244/244 - 3s - loss: 4.2784 - accuracy: 0.1656\n",
      "Epoch 15/200\n",
      "244/244 - 3s - loss: 4.0816 - accuracy: 0.2013\n",
      "Epoch 16/200\n",
      "244/244 - 3s - loss: 3.8975 - accuracy: 0.2300\n",
      "Epoch 17/200\n",
      "244/244 - 3s - loss: 3.7177 - accuracy: 0.2577\n",
      "Epoch 18/200\n",
      "244/244 - 3s - loss: 3.5487 - accuracy: 0.2854\n",
      "Epoch 19/200\n",
      "244/244 - 4s - loss: 3.3889 - accuracy: 0.3168\n",
      "Epoch 20/200\n",
      "244/244 - 3s - loss: 3.2398 - accuracy: 0.3410\n",
      "Epoch 21/200\n",
      "244/244 - 4s - loss: 3.0916 - accuracy: 0.3722\n",
      "Epoch 22/200\n",
      "244/244 - 4s - loss: 2.9568 - accuracy: 0.3998\n",
      "Epoch 23/200\n",
      "244/244 - 4s - loss: 2.8302 - accuracy: 0.4170\n",
      "Epoch 24/200\n",
      "244/244 - 3s - loss: 2.7110 - accuracy: 0.4433\n",
      "Epoch 25/200\n",
      "244/244 - 3s - loss: 2.5926 - accuracy: 0.4638\n",
      "Epoch 26/200\n",
      "244/244 - 3s - loss: 2.4878 - accuracy: 0.4865\n",
      "Epoch 27/200\n",
      "244/244 - 3s - loss: 2.3809 - accuracy: 0.5138\n",
      "Epoch 28/200\n",
      "244/244 - 4s - loss: 2.2875 - accuracy: 0.5266\n",
      "Epoch 29/200\n",
      "244/244 - 4s - loss: 2.1937 - accuracy: 0.5500\n",
      "Epoch 30/200\n",
      "244/244 - 4s - loss: 2.1055 - accuracy: 0.5681\n",
      "Epoch 31/200\n",
      "244/244 - 3s - loss: 2.0210 - accuracy: 0.5841\n",
      "Epoch 32/200\n",
      "244/244 - 4s - loss: 1.9489 - accuracy: 0.5971\n",
      "Epoch 33/200\n",
      "244/244 - 4s - loss: 1.8682 - accuracy: 0.6181\n",
      "Epoch 34/200\n",
      "244/244 - 4s - loss: 1.7971 - accuracy: 0.6314\n",
      "Epoch 35/200\n",
      "244/244 - 4s - loss: 1.7270 - accuracy: 0.6476\n",
      "Epoch 36/200\n",
      "244/244 - 4s - loss: 1.6598 - accuracy: 0.6596\n",
      "Epoch 37/200\n",
      "244/244 - 3s - loss: 1.5974 - accuracy: 0.6746\n",
      "Epoch 38/200\n",
      "244/244 - 3s - loss: 1.5398 - accuracy: 0.6879\n",
      "Epoch 39/200\n",
      "244/244 - 4s - loss: 1.4815 - accuracy: 0.7008\n",
      "Epoch 40/200\n",
      "244/244 - 4s - loss: 1.4227 - accuracy: 0.7132\n",
      "Epoch 41/200\n",
      "244/244 - 4s - loss: 1.3697 - accuracy: 0.7207\n",
      "Epoch 42/200\n",
      "244/244 - 4s - loss: 1.3216 - accuracy: 0.7366\n",
      "Epoch 43/200\n",
      "244/244 - 4s - loss: 1.2711 - accuracy: 0.7483\n",
      "Epoch 44/200\n",
      "244/244 - 4s - loss: 1.2216 - accuracy: 0.7550\n",
      "Epoch 45/200\n",
      "244/244 - 4s - loss: 1.1790 - accuracy: 0.7636\n",
      "Epoch 46/200\n",
      "244/244 - 4s - loss: 1.1309 - accuracy: 0.7707\n",
      "Epoch 47/200\n",
      "244/244 - 4s - loss: 1.0902 - accuracy: 0.7816\n",
      "Epoch 48/200\n",
      "244/244 - 4s - loss: 1.0484 - accuracy: 0.7885\n",
      "Epoch 49/200\n",
      "244/244 - 4s - loss: 1.0142 - accuracy: 0.7947\n",
      "Epoch 50/200\n",
      "244/244 - 4s - loss: 0.9720 - accuracy: 0.8047\n",
      "Epoch 51/200\n",
      "244/244 - 4s - loss: 0.9407 - accuracy: 0.8069\n",
      "Epoch 52/200\n",
      "244/244 - 4s - loss: 0.9018 - accuracy: 0.8155\n",
      "Epoch 53/200\n",
      "244/244 - 4s - loss: 0.8677 - accuracy: 0.8225\n",
      "Epoch 54/200\n",
      "244/244 - 4s - loss: 0.8386 - accuracy: 0.8267\n",
      "Epoch 55/200\n",
      "244/244 - 3s - loss: 0.8046 - accuracy: 0.8358\n",
      "Epoch 56/200\n",
      "244/244 - 4s - loss: 0.7745 - accuracy: 0.8408\n",
      "Epoch 57/200\n",
      "244/244 - 4s - loss: 0.7483 - accuracy: 0.8445\n",
      "Epoch 58/200\n",
      "244/244 - 3s - loss: 0.7277 - accuracy: 0.8513\n",
      "Epoch 59/200\n",
      "244/244 - 3s - loss: 0.7008 - accuracy: 0.8556\n",
      "Epoch 60/200\n",
      "244/244 - 3s - loss: 0.6789 - accuracy: 0.8624\n",
      "Epoch 61/200\n",
      "244/244 - 3s - loss: 0.6539 - accuracy: 0.8670\n",
      "Epoch 62/200\n",
      "244/244 - 3s - loss: 0.6300 - accuracy: 0.8695\n",
      "Epoch 63/200\n",
      "244/244 - 3s - loss: 0.6080 - accuracy: 0.8753\n",
      "Epoch 64/200\n",
      "244/244 - 3s - loss: 0.5864 - accuracy: 0.8798\n",
      "Epoch 65/200\n",
      "244/244 - 3s - loss: 0.5701 - accuracy: 0.8847\n",
      "Epoch 66/200\n",
      "244/244 - 3s - loss: 0.5559 - accuracy: 0.8863\n",
      "Epoch 67/200\n",
      "244/244 - 3s - loss: 0.5557 - accuracy: 0.8881\n",
      "Epoch 68/200\n",
      "244/244 - 3s - loss: 0.5244 - accuracy: 0.8923\n",
      "Epoch 69/200\n",
      "244/244 - 3s - loss: 0.5020 - accuracy: 0.8984\n",
      "Epoch 70/200\n",
      "244/244 - 3s - loss: 0.4867 - accuracy: 0.8968\n",
      "Epoch 71/200\n",
      "244/244 - 3s - loss: 0.4737 - accuracy: 0.8989\n",
      "Epoch 72/200\n",
      "244/244 - 4s - loss: 0.4599 - accuracy: 0.9038\n",
      "Epoch 73/200\n",
      "244/244 - 3s - loss: 0.4527 - accuracy: 0.9038\n",
      "Epoch 74/200\n",
      "244/244 - 3s - loss: 0.4399 - accuracy: 0.9044\n",
      "Epoch 75/200\n",
      "244/244 - 4s - loss: 0.4435 - accuracy: 0.9061\n",
      "Epoch 76/200\n",
      "244/244 - 4s - loss: 0.4401 - accuracy: 0.9058\n",
      "Epoch 77/200\n",
      "244/244 - 4s - loss: 0.4144 - accuracy: 0.9100\n",
      "Epoch 78/200\n",
      "244/244 - 4s - loss: 0.4000 - accuracy: 0.9104\n",
      "Epoch 79/200\n",
      "244/244 - 4s - loss: 0.3912 - accuracy: 0.9109\n",
      "Epoch 80/200\n",
      "244/244 - 4s - loss: 0.3835 - accuracy: 0.9111\n",
      "Epoch 81/200\n",
      "244/244 - 4s - loss: 0.3981 - accuracy: 0.9088\n",
      "Epoch 82/200\n",
      "244/244 - 4s - loss: 0.4104 - accuracy: 0.9084\n",
      "Epoch 83/200\n",
      "244/244 - 4s - loss: 0.3788 - accuracy: 0.9138\n",
      "Epoch 84/200\n",
      "244/244 - 4s - loss: 0.3611 - accuracy: 0.9132\n",
      "Epoch 85/200\n",
      "244/244 - 4s - loss: 0.3568 - accuracy: 0.9112\n",
      "Epoch 86/200\n",
      "244/244 - 4s - loss: 0.3487 - accuracy: 0.9157\n",
      "Epoch 87/200\n",
      "244/244 - 4s - loss: 0.3455 - accuracy: 0.9149\n",
      "Epoch 88/200\n",
      "244/244 - 4s - loss: 0.3450 - accuracy: 0.9126\n",
      "Epoch 89/200\n",
      "244/244 - 4s - loss: 0.3393 - accuracy: 0.9122\n",
      "Epoch 90/200\n",
      "244/244 - 4s - loss: 0.3376 - accuracy: 0.9140\n",
      "Epoch 91/200\n",
      "244/244 - 4s - loss: 0.3477 - accuracy: 0.9125\n",
      "Epoch 92/200\n",
      "244/244 - 4s - loss: 0.4359 - accuracy: 0.8950\n",
      "Epoch 93/200\n",
      "244/244 - 3s - loss: 0.3901 - accuracy: 0.9045\n",
      "Epoch 94/200\n",
      "244/244 - 3s - loss: 0.3335 - accuracy: 0.9131\n",
      "Epoch 95/200\n",
      "244/244 - 3s - loss: 0.3288 - accuracy: 0.9154\n",
      "Epoch 96/200\n",
      "244/244 - 4s - loss: 0.3224 - accuracy: 0.9141\n",
      "Epoch 97/200\n",
      "244/244 - 3s - loss: 0.3172 - accuracy: 0.9141\n",
      "Epoch 98/200\n",
      "244/244 - 3s - loss: 0.3128 - accuracy: 0.9150\n",
      "Epoch 99/200\n",
      "244/244 - 3s - loss: 0.3080 - accuracy: 0.9157\n",
      "Epoch 100/200\n",
      "244/244 - 3s - loss: 0.3087 - accuracy: 0.9139\n",
      "Epoch 101/200\n",
      "244/244 - 3s - loss: 0.3092 - accuracy: 0.9146\n",
      "Epoch 102/200\n",
      "244/244 - 3s - loss: 0.3072 - accuracy: 0.9145\n",
      "Epoch 103/200\n",
      "244/244 - 3s - loss: 0.3077 - accuracy: 0.9148\n",
      "Epoch 104/200\n",
      "244/244 - 3s - loss: 0.3104 - accuracy: 0.9150\n",
      "Epoch 105/200\n",
      "244/244 - 3s - loss: 0.3058 - accuracy: 0.9167\n",
      "Epoch 106/200\n",
      "244/244 - 3s - loss: 0.3101 - accuracy: 0.9143\n",
      "Epoch 107/200\n",
      "244/244 - 3s - loss: 0.3112 - accuracy: 0.9145\n",
      "Epoch 108/200\n",
      "244/244 - 3s - loss: 0.3038 - accuracy: 0.9144\n",
      "Epoch 109/200\n",
      "244/244 - 3s - loss: 0.3009 - accuracy: 0.9141\n",
      "Epoch 110/200\n",
      "244/244 - 3s - loss: 0.3009 - accuracy: 0.9145\n",
      "Epoch 111/200\n",
      "244/244 - 3s - loss: 0.2969 - accuracy: 0.9167\n",
      "Epoch 112/200\n",
      "244/244 - 3s - loss: 0.3039 - accuracy: 0.9136\n",
      "Epoch 113/200\n",
      "244/244 - 3s - loss: 0.3056 - accuracy: 0.9123\n",
      "Epoch 114/200\n",
      "244/244 - 3s - loss: 0.3410 - accuracy: 0.9093\n",
      "Epoch 115/200\n",
      "244/244 - 3s - loss: 0.3513 - accuracy: 0.9053\n",
      "Epoch 116/200\n",
      "244/244 - 3s - loss: 0.3117 - accuracy: 0.9120\n",
      "Epoch 117/200\n",
      "244/244 - 4s - loss: 0.2977 - accuracy: 0.9166\n",
      "Epoch 118/200\n",
      "244/244 - 3s - loss: 0.2932 - accuracy: 0.9146\n",
      "Epoch 119/200\n",
      "244/244 - 3s - loss: 0.2926 - accuracy: 0.9150\n",
      "Epoch 120/200\n",
      "244/244 - 3s - loss: 0.2910 - accuracy: 0.9134\n",
      "Epoch 121/200\n",
      "244/244 - 3s - loss: 0.2895 - accuracy: 0.9153\n",
      "Epoch 122/200\n",
      "244/244 - 3s - loss: 0.2892 - accuracy: 0.9153\n",
      "Epoch 123/200\n",
      "244/244 - 3s - loss: 0.2889 - accuracy: 0.9149\n",
      "Epoch 124/200\n",
      "244/244 - 3s - loss: 0.2886 - accuracy: 0.9148\n",
      "Epoch 125/200\n",
      "244/244 - 3s - loss: 0.2893 - accuracy: 0.9141\n",
      "Epoch 126/200\n",
      "244/244 - 3s - loss: 0.2888 - accuracy: 0.9152\n",
      "Epoch 127/200\n",
      "244/244 - 3s - loss: 0.3004 - accuracy: 0.9140\n",
      "Epoch 128/200\n",
      "244/244 - 3s - loss: 0.3363 - accuracy: 0.9055\n",
      "Epoch 129/200\n",
      "244/244 - 3s - loss: 0.3564 - accuracy: 0.9004\n",
      "Epoch 130/200\n",
      "244/244 - 3s - loss: 0.3105 - accuracy: 0.9117\n",
      "Epoch 131/200\n",
      "244/244 - 3s - loss: 0.2895 - accuracy: 0.9157\n",
      "Epoch 132/200\n",
      "244/244 - 3s - loss: 0.2864 - accuracy: 0.9161\n",
      "Epoch 133/200\n",
      "244/244 - 3s - loss: 0.2850 - accuracy: 0.9162\n",
      "Epoch 134/200\n",
      "244/244 - 3s - loss: 0.2854 - accuracy: 0.9157\n",
      "Epoch 135/200\n",
      "244/244 - 3s - loss: 0.2860 - accuracy: 0.9154\n",
      "Epoch 136/200\n",
      "244/244 - 3s - loss: 0.2841 - accuracy: 0.9157\n",
      "Epoch 137/200\n",
      "244/244 - 3s - loss: 0.2836 - accuracy: 0.9150\n",
      "Epoch 138/200\n",
      "244/244 - 3s - loss: 0.2840 - accuracy: 0.9152\n",
      "Epoch 139/200\n",
      "244/244 - 3s - loss: 0.2841 - accuracy: 0.9144\n",
      "Epoch 140/200\n",
      "244/244 - 3s - loss: 0.2837 - accuracy: 0.9155\n",
      "Epoch 141/200\n",
      "244/244 - 3s - loss: 0.2837 - accuracy: 0.9150\n",
      "Epoch 142/200\n",
      "244/244 - 3s - loss: 0.2845 - accuracy: 0.9146\n",
      "Epoch 143/200\n",
      "244/244 - 3s - loss: 0.2849 - accuracy: 0.9159\n",
      "Epoch 144/200\n",
      "244/244 - 3s - loss: 0.2835 - accuracy: 0.9149\n",
      "Epoch 145/200\n",
      "244/244 - 3s - loss: 0.2831 - accuracy: 0.9150\n",
      "Epoch 146/200\n",
      "244/244 - 3s - loss: 0.2848 - accuracy: 0.9153\n",
      "Epoch 147/200\n",
      "244/244 - 3s - loss: 0.2880 - accuracy: 0.9143\n",
      "Epoch 148/200\n",
      "244/244 - 3s - loss: 0.3120 - accuracy: 0.9104\n",
      "Epoch 149/200\n",
      "244/244 - 3s - loss: 0.3755 - accuracy: 0.8967\n",
      "Epoch 150/200\n",
      "244/244 - 3s - loss: 0.3413 - accuracy: 0.9050\n",
      "Epoch 151/200\n",
      "244/244 - 3s - loss: 0.2994 - accuracy: 0.9126\n",
      "Epoch 152/200\n",
      "244/244 - 3s - loss: 0.2934 - accuracy: 0.9141\n",
      "Epoch 153/200\n",
      "244/244 - 3s - loss: 0.2831 - accuracy: 0.9166\n",
      "Epoch 154/200\n",
      "244/244 - 3s - loss: 0.2824 - accuracy: 0.9139\n",
      "Epoch 155/200\n",
      "244/244 - 3s - loss: 0.2796 - accuracy: 0.9158\n",
      "Epoch 156/200\n",
      "244/244 - 3s - loss: 0.2815 - accuracy: 0.9149\n",
      "Epoch 157/200\n",
      "244/244 - 3s - loss: 0.2796 - accuracy: 0.9162\n",
      "Epoch 158/200\n",
      "244/244 - 3s - loss: 0.2804 - accuracy: 0.9172\n",
      "Epoch 159/200\n",
      "244/244 - 3s - loss: 0.2799 - accuracy: 0.9158\n",
      "Epoch 160/200\n",
      "244/244 - 3s - loss: 0.2789 - accuracy: 0.9159\n",
      "Epoch 161/200\n",
      "244/244 - 3s - loss: 0.2824 - accuracy: 0.9136\n",
      "Epoch 162/200\n",
      "244/244 - 3s - loss: 0.2884 - accuracy: 0.9146\n",
      "Epoch 163/200\n",
      "244/244 - 3s - loss: 0.2823 - accuracy: 0.9136\n",
      "Epoch 164/200\n",
      "244/244 - 3s - loss: 0.2785 - accuracy: 0.9167\n",
      "Epoch 165/200\n",
      "244/244 - 3s - loss: 0.2793 - accuracy: 0.9155\n",
      "Epoch 166/200\n",
      "244/244 - 3s - loss: 0.2805 - accuracy: 0.9152\n",
      "Epoch 167/200\n",
      "244/244 - 3s - loss: 0.2812 - accuracy: 0.9149\n",
      "Epoch 168/200\n",
      "244/244 - 3s - loss: 0.2817 - accuracy: 0.9150\n",
      "Epoch 169/200\n",
      "244/244 - 3s - loss: 0.3079 - accuracy: 0.9120\n",
      "Epoch 170/200\n",
      "244/244 - 3s - loss: 0.3182 - accuracy: 0.9090\n",
      "Epoch 171/200\n",
      "244/244 - 3s - loss: 0.3100 - accuracy: 0.9109\n",
      "Epoch 172/200\n",
      "244/244 - 3s - loss: 0.2864 - accuracy: 0.9140\n",
      "Epoch 173/200\n",
      "244/244 - 3s - loss: 0.2802 - accuracy: 0.9167\n",
      "Epoch 174/200\n",
      "244/244 - 3s - loss: 0.2786 - accuracy: 0.9143\n",
      "Epoch 175/200\n",
      "244/244 - 3s - loss: 0.2777 - accuracy: 0.9154\n",
      "Epoch 176/200\n",
      "244/244 - 3s - loss: 0.2786 - accuracy: 0.9158\n",
      "Epoch 177/200\n",
      "244/244 - 3s - loss: 0.2789 - accuracy: 0.9154\n",
      "Epoch 178/200\n",
      "244/244 - 3s - loss: 0.2819 - accuracy: 0.9150\n",
      "Epoch 179/200\n",
      "244/244 - 3s - loss: 0.2791 - accuracy: 0.9141\n",
      "Epoch 180/200\n",
      "244/244 - 3s - loss: 0.2792 - accuracy: 0.9144\n",
      "Epoch 181/200\n",
      "244/244 - 3s - loss: 0.2830 - accuracy: 0.9140\n",
      "Epoch 182/200\n",
      "244/244 - 3s - loss: 0.2778 - accuracy: 0.9167\n",
      "Epoch 183/200\n",
      "244/244 - 3s - loss: 0.2776 - accuracy: 0.9153\n",
      "Epoch 184/200\n",
      "244/244 - 3s - loss: 0.2811 - accuracy: 0.9141\n",
      "Epoch 185/200\n",
      "244/244 - 3s - loss: 0.2789 - accuracy: 0.9148\n",
      "Epoch 186/200\n",
      "244/244 - 3s - loss: 0.2797 - accuracy: 0.9148\n",
      "Epoch 187/200\n",
      "244/244 - 3s - loss: 0.2776 - accuracy: 0.9158\n",
      "Epoch 188/200\n",
      "244/244 - 4s - loss: 0.2810 - accuracy: 0.9152\n",
      "Epoch 189/200\n",
      "244/244 - 3s - loss: 0.2800 - accuracy: 0.9152\n",
      "Epoch 190/200\n",
      "244/244 - 4s - loss: 0.2802 - accuracy: 0.9145\n",
      "Epoch 191/200\n",
      "244/244 - 3s - loss: 0.2903 - accuracy: 0.9145\n",
      "Epoch 192/200\n",
      "244/244 - 3s - loss: 0.3442 - accuracy: 0.8997\n",
      "Epoch 193/200\n",
      "244/244 - 3s - loss: 0.3385 - accuracy: 0.9011\n",
      "Epoch 194/200\n",
      "244/244 - 3s - loss: 0.2871 - accuracy: 0.9150\n",
      "Epoch 195/200\n",
      "244/244 - 3s - loss: 0.2782 - accuracy: 0.9157\n",
      "Epoch 196/200\n",
      "244/244 - 3s - loss: 0.2749 - accuracy: 0.9166\n",
      "Epoch 197/200\n",
      "244/244 - 3s - loss: 0.2772 - accuracy: 0.9141\n",
      "Epoch 198/200\n",
      "244/244 - 4s - loss: 0.2759 - accuracy: 0.9166\n",
      "Epoch 199/200\n",
      "244/244 - 4s - loss: 0.2762 - accuracy: 0.9148\n",
      "Epoch 200/200\n",
      "244/244 - 3s - loss: 0.2760 - accuracy: 0.9164\n"
     ]
    }
   ],
   "source": [
    "hisotry = model.fit(X, Y, epochs=200, verbose=2)"
   ]
  },
  {
   "cell_type": "markdown",
   "metadata": {},
   "source": [
    "## 모델 검증"
   ]
  },
  {
   "cell_type": "code",
   "execution_count": 32,
   "metadata": {},
   "outputs": [],
   "source": [
    "from my_util import sentence_generation"
   ]
  },
  {
   "cell_type": "code",
   "execution_count": 33,
   "metadata": {},
   "outputs": [
    {
     "ename": "TypeError",
     "evalue": "sentence_generation() takes 4 positional arguments but 5 were given",
     "output_type": "error",
     "traceback": [
      "\u001b[1;31m---------------------------------------------------------------------------\u001b[0m",
      "\u001b[1;31mTypeError\u001b[0m                                 Traceback (most recent call last)",
      "\u001b[1;32m<ipython-input-33-cc936b86ad34>\u001b[0m in \u001b[0;36m<module>\u001b[1;34m\u001b[0m\n\u001b[1;32m----> 1\u001b[1;33m \u001b[0mprint\u001b[0m\u001b[1;33m(\u001b[0m\u001b[0msentence_generation\u001b[0m\u001b[1;33m(\u001b[0m\u001b[0mmodel\u001b[0m\u001b[1;33m,\u001b[0m \u001b[0mt\u001b[0m\u001b[1;33m,\u001b[0m \u001b[0mmax_len\u001b[0m\u001b[1;33m,\u001b[0m \u001b[1;34m'i'\u001b[0m\u001b[1;33m,\u001b[0m \u001b[1;36m10\u001b[0m\u001b[1;33m)\u001b[0m\u001b[1;33m)\u001b[0m\u001b[1;33m\u001b[0m\u001b[1;33m\u001b[0m\u001b[0m\n\u001b[0m\u001b[0;32m      2\u001b[0m \u001b[0mprint\u001b[0m\u001b[1;33m(\u001b[0m\u001b[0msentence_generation\u001b[0m\u001b[1;33m(\u001b[0m\u001b[0mmodel\u001b[0m\u001b[1;33m,\u001b[0m \u001b[0mt\u001b[0m\u001b[1;33m,\u001b[0m \u001b[0mmax_len\u001b[0m\u001b[1;33m,\u001b[0m \u001b[1;34m'epa'\u001b[0m\u001b[1;33m,\u001b[0m \u001b[1;36m10\u001b[0m\u001b[1;33m)\u001b[0m\u001b[1;33m)\u001b[0m\u001b[1;33m\u001b[0m\u001b[1;33m\u001b[0m\u001b[0m\n\u001b[0;32m      3\u001b[0m \u001b[0mprint\u001b[0m\u001b[1;33m(\u001b[0m\u001b[0msentence_generation\u001b[0m\u001b[1;33m(\u001b[0m\u001b[0mmodel\u001b[0m\u001b[1;33m,\u001b[0m \u001b[0mt\u001b[0m\u001b[1;33m,\u001b[0m \u001b[0mmax_len\u001b[0m\u001b[1;33m,\u001b[0m \u001b[1;34m'former'\u001b[0m\u001b[1;33m,\u001b[0m \u001b[1;36m10\u001b[0m\u001b[1;33m)\u001b[0m\u001b[1;33m)\u001b[0m\u001b[1;33m\u001b[0m\u001b[1;33m\u001b[0m\u001b[0m\n",
      "\u001b[1;31mTypeError\u001b[0m: sentence_generation() takes 4 positional arguments but 5 were given"
     ]
    }
   ],
   "source": [
    "print(sentence_generation(model, t, max_len, 'i', 10))\r\n",
    "print(sentence_generation(model, t, max_len, 'epa', 10))\r\n",
    "print(sentence_generation(model, t, max_len, 'former', 10))"
   ]
  },
  {
   "cell_type": "code",
   "execution_count": null,
   "metadata": {},
   "outputs": [],
   "source": []
  }
 ],
 "metadata": {
  "interpreter": {
   "hash": "8c1eae21719a0790335dcb83aad72b63b602cfe5cdb2bda0f60bc11d4f154e4b"
  },
  "kernelspec": {
   "display_name": "Python 3.8.5 64-bit ('base': conda)",
   "name": "python3"
  },
  "language_info": {
   "codemirror_mode": {
    "name": "ipython",
    "version": 3
   },
   "file_extension": ".py",
   "mimetype": "text/x-python",
   "name": "python",
   "nbconvert_exporter": "python",
   "pygments_lexer": "ipython3",
   "version": "3.8.5"
  },
  "orig_nbformat": 4
 },
 "nbformat": 4,
 "nbformat_minor": 2
}