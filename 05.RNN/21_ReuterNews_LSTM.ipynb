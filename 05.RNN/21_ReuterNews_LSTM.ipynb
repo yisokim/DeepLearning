{
 "cells": [
  {
   "cell_type": "markdown",
   "metadata": {},
   "source": [
    "# LSTM을 이용한 로이터 뉴스 카테고리 분류"
   ]
  },
  {
   "cell_type": "code",
   "execution_count": 1,
   "metadata": {},
   "outputs": [],
   "source": [
    "import numpy as np \r\n",
    "import tensorflow as tf\r\n",
    "seed = 2021\r\n",
    "np.random.seed(seed)\r\n",
    "tf.random.set_seed(seed)"
   ]
  },
  {
   "cell_type": "code",
   "execution_count": 2,
   "metadata": {},
   "outputs": [],
   "source": [
    "import matplotlib.pyplot as plt\r\n",
    "import seaborn as sns\r\n",
    "%matplotlib inline"
   ]
  },
  {
   "cell_type": "code",
   "execution_count": 3,
   "metadata": {},
   "outputs": [],
   "source": [
    "import warnings\r\n",
    "warnings.filterwarnings('ignore')"
   ]
  },
  {
   "cell_type": "code",
   "execution_count": 4,
   "metadata": {},
   "outputs": [],
   "source": [
    "from tensorflow.keras.datasets import reuters\r\n",
    "(X_train, y_train), (X_test, y_test) = reuters.load_data(\r\n",
    "    num_words=None, test_split=0.2\r\n",
    ")"
   ]
  },
  {
   "cell_type": "markdown",
   "metadata": {},
   "source": [
    "## 데이터 탐색"
   ]
  },
  {
   "cell_type": "code",
   "execution_count": 5,
   "metadata": {},
   "outputs": [
    {
     "name": "stdout",
     "output_type": "stream",
     "text": [
      "카테고리 갯수: 46\n"
     ]
    },
    {
     "data": {
      "text/plain": [
       "(8982, 2246)"
      ]
     },
     "execution_count": 5,
     "metadata": {},
     "output_type": "execute_result"
    }
   ],
   "source": [
    "category = np.max(y_train) + 1\r\n",
    "print(f'카테고리 갯수: {category}')\r\n",
    "len(X_train), len(X_test)"
   ]
  },
  {
   "cell_type": "code",
   "execution_count": 6,
   "metadata": {},
   "outputs": [
    {
     "name": "stdout",
     "output_type": "stream",
     "text": [
      "[1, 27595, 28842, 8, 43, 10, 447, 5, 25, 207, 270, 5, 3095, 111, 16, 369, 186, 90, 67, 7, 89, 5, 19, 102, 6, 19, 124, 15, 90, 67, 84, 22, 482, 26, 7, 48, 4, 49, 8, 864, 39, 209, 154, 6, 151, 6, 83, 11, 15, 22, 155, 11, 15, 7, 48, 9, 4579, 1005, 504, 6, 258, 6, 272, 11, 15, 22, 134, 44, 11, 15, 16, 8, 197, 1245, 90, 67, 52, 29, 209, 30, 32, 132, 6, 109, 15, 17, 12]\n"
     ]
    }
   ],
   "source": [
    "# 첫번째 뉴스\r\n",
    "print(X_train[0])"
   ]
  },
  {
   "cell_type": "code",
   "execution_count": 7,
   "metadata": {},
   "outputs": [
    {
     "data": {
      "text/plain": [
       "30979"
      ]
     },
     "execution_count": 7,
     "metadata": {},
     "output_type": "execute_result"
    }
   ],
   "source": [
    "index_dict = {}\r\n",
    "for key, value in reuters.get_word_index().items():\r\n",
    "    index_dict[value] = key\r\n",
    "len(index_dict)"
   ]
  },
  {
   "cell_type": "code",
   "execution_count": 8,
   "metadata": {},
   "outputs": [
    {
     "data": {
      "text/plain": [
       "'the wattie nondiscriminatory mln loss for plc said at only ended said commonwealth could 1 traders now april 0 a after said from 1985 and from foreign 000 april 0 prices its account year a but in this mln home an states earlier and rise and revs vs 000 its 16 vs 000 a but 3 psbr oils several and shareholders and dividend vs 000 its all 4 vs 000 1 mln agreed largely april 0 are 2 states will billion total and against 000 pct dlrs'"
      ]
     },
     "execution_count": 8,
     "metadata": {},
     "output_type": "execute_result"
    }
   ],
   "source": [
    "# 첫번째 기사 복원\r\n",
    "' '.join(index_dict[s] for s in X_train[0])"
   ]
  },
  {
   "cell_type": "code",
   "execution_count": 9,
   "metadata": {},
   "outputs": [
    {
     "name": "stdout",
     "output_type": "stream",
     "text": [
      "뉴스 최대 길이: 2376\n",
      "뉴스 평균 길이: 145.5398574927633\n"
     ]
    }
   ],
   "source": [
    "# 뉴스 기사의 길이\r\n",
    "print('뉴스 최대 길이:', max(len(l) for l in X_train))\r\n",
    "print('뉴스 평균 길이:', sum(map(len, X_train))/len(X_train))"
   ]
  },
  {
   "cell_type": "code",
   "execution_count": 10,
   "metadata": {},
   "outputs": [
    {
     "data": {
      "image/png": "[encoded data removed]",
      "text/plain": [
       "<Figure size 432x288 with 1 Axes>"
      ]
     },
     "metadata": {
      "needs_background": "light"
     },
     "output_type": "display_data"
    }
   ],
   "source": [
    "plt.hist([len(l) for l in X_train], bins=50)\r\n",
    "plt.xlabel('length of samples')\r\n",
    "plt.ylabel('number of samples')\r\n",
    "plt.show()"
   ]
  },
  {
   "cell_type": "code",
   "execution_count": 11,
   "metadata": {},
   "outputs": [
    {
     "data": {
      "image/png": "[encoded data removed]",
      "text/plain": [
       "<Figure size 864x360 with 1 Axes>"
      ]
     },
     "metadata": {
      "needs_background": "light"
     },
     "output_type": "display_data"
    }
   ],
   "source": [
    "plt.figure(figsize=(12,5))\r\n",
    "sns.countplot(y_train)\r\n",
    "plt.show()"
   ]
  },
  {
   "cell_type": "markdown",
   "metadata": {},
   "source": [
    "# LSTM으로 로이터 뉴스 분류\r\n",
    "- 단어:빈도수 기분 1,000단어(총 단어수 30,979)\r\n",
    "- 문장길이:100단어까지(최대 2,376)"
   ]
  },
  {
   "cell_type": "code",
   "execution_count": 12,
   "metadata": {},
   "outputs": [],
   "source": [
    "(X_train, y_train), (X_test, y_test) = reuters.load_data(\r\n",
    "    num_words=1000, test_split=0.2\r\n",
    ")"
   ]
  },
  {
   "cell_type": "code",
   "execution_count": 13,
   "metadata": {},
   "outputs": [],
   "source": [
    "# 모델의 입력으로 사용되는 모든 뉴스 기사의 길이를 동일하게 100으로 맞춤\r\n",
    "from tensorflow.keras.preprocessing.sequence import pad_sequences\r\n",
    "max_len = 100\r\n",
    "X_train = pad_sequences(X_train, maxlen=max_len)\r\n",
    "X_test = pad_sequences(X_test, maxlen=max_len)"
   ]
  },
  {
   "cell_type": "code",
   "execution_count": 14,
   "metadata": {},
   "outputs": [],
   "source": [
    "# 뉴스 기사 레이블의 원-핫 인코딩\r\n",
    "from tensorflow.keras.utils import to_categorical\r\n",
    "Y_train = to_categorical(y_train)\r\n",
    "Y_test = to_categorical(y_test)"
   ]
  },
  {
   "cell_type": "code",
   "execution_count": 15,
   "metadata": {},
   "outputs": [
    {
     "data": {
      "text/plain": [
       "((8982, 100), (2246, 100), (8982, 46), (2246, 46))"
      ]
     },
     "execution_count": 15,
     "metadata": {},
     "output_type": "execute_result"
    }
   ],
   "source": [
    "X_train.shape, X_test.shape, Y_train.shape, Y_test.shape"
   ]
  },
  {
   "cell_type": "code",
   "execution_count": 16,
   "metadata": {},
   "outputs": [],
   "source": [
    "from tensorflow.keras.models import Sequential, load_model\r\n",
    "from tensorflow.keras.layers import Embedding, LSTM, Dense\r\n",
    "from tensorflow.keras.callbacks import ModelCheckpoint, EarlyStopping"
   ]
  },
  {
   "cell_type": "code",
   "execution_count": 17,
   "metadata": {},
   "outputs": [
    {
     "name": "stdout",
     "output_type": "stream",
     "text": [
      "Model: \"sequential\"\n",
      "_________________________________________________________________\n",
      "Layer (type)                 Output Shape              Param #   \n",
      "=================================================================\n",
      "embedding (Embedding)        (None, None, 100)         100000    \n",
      "_________________________________________________________________\n",
      "lstm (LSTM)                  (None, 120)               106080    \n",
      "_________________________________________________________________\n",
      "dense (Dense)                (None, 46)                5566      \n",
      "=================================================================\n",
      "Total params: 211,646\n",
      "Trainable params: 211,646\n",
      "Non-trainable params: 0\n",
      "_________________________________________________________________\n"
     ]
    }
   ],
   "source": [
    "model = Sequential([ \r\n",
    "    Embedding(1000, 100),\r\n",
    "    LSTM(120),\r\n",
    "    Dense(category, activation='softmax')\r\n",
    "])\r\n",
    "model.summary()"
   ]
  },
  {
   "cell_type": "code",
   "execution_count": 18,
   "metadata": {},
   "outputs": [],
   "source": [
    "model.compile(\r\n",
    "    optimizer='adam', loss='categorical_crossentropy', metrics=['accuracy']\r\n",
    ")"
   ]
  },
  {
   "cell_type": "code",
   "execution_count": 22,
   "metadata": {},
   "outputs": [],
   "source": [
    "# Callback 함수\r\n",
    "model_file = 'model/best_reuter_ori_lstm.h5'\r\n",
    "mc = ModelCheckpoint(model_file, save_best_only=True, verbose=1)\r\n",
    "es = EarlyStopping(patience=10)"
   ]
  },
  {
   "cell_type": "code",
   "execution_count": 23,
   "metadata": {},
   "outputs": [
    {
     "name": "stdout",
     "output_type": "stream",
     "text": [
      "Epoch 1/50\n",
      "\n",
      "Epoch 00001: val_loss improved from inf to 1.27742, saving model to model\\best_reuter_ori_lstm.h5\n",
      "72/72 - 9s - loss: 0.6986 - accuracy: 0.8259 - val_loss: 1.2774 - val_accuracy: 0.7134\n",
      "Epoch 2/50\n",
      "\n",
      "Epoch 00002: val_loss did not improve from 1.27742\n",
      "72/72 - 9s - loss: 0.6704 - accuracy: 0.8331 - val_loss: 1.2806 - val_accuracy: 0.6989\n",
      "Epoch 3/50\n",
      "\n",
      "Epoch 00003: val_loss did not improve from 1.27742\n",
      "72/72 - 8s - loss: 0.6511 - accuracy: 0.8379 - val_loss: 1.2821 - val_accuracy: 0.7067\n",
      "Epoch 4/50\n",
      "\n",
      "Epoch 00004: val_loss did not improve from 1.27742\n",
      "72/72 - 8s - loss: 0.6258 - accuracy: 0.8437 - val_loss: 1.3057 - val_accuracy: 0.7017\n",
      "Epoch 5/50\n",
      "\n",
      "Epoch 00005: val_loss did not improve from 1.27742\n",
      "72/72 - 8s - loss: 0.6028 - accuracy: 0.8473 - val_loss: 1.3407 - val_accuracy: 0.7095\n",
      "Epoch 6/50\n",
      "\n",
      "Epoch 00006: val_loss did not improve from 1.27742\n",
      "72/72 - 8s - loss: 0.5525 - accuracy: 0.8646 - val_loss: 1.3293 - val_accuracy: 0.7206\n",
      "Epoch 7/50\n",
      "\n",
      "Epoch 00007: val_loss did not improve from 1.27742\n",
      "72/72 - 7s - loss: 0.5438 - accuracy: 0.8678 - val_loss: 1.3412 - val_accuracy: 0.7067\n",
      "Epoch 8/50\n",
      "\n",
      "Epoch 00008: val_loss did not improve from 1.27742\n",
      "72/72 - 8s - loss: 0.5168 - accuracy: 0.8764 - val_loss: 1.4060 - val_accuracy: 0.6962\n",
      "Epoch 9/50\n",
      "\n",
      "Epoch 00009: val_loss did not improve from 1.27742\n",
      "72/72 - 8s - loss: 0.4941 - accuracy: 0.8792 - val_loss: 1.4016 - val_accuracy: 0.7017\n",
      "Epoch 10/50\n",
      "\n",
      "Epoch 00010: val_loss did not improve from 1.27742\n",
      "72/72 - 8s - loss: 0.4553 - accuracy: 0.8916 - val_loss: 1.4061 - val_accuracy: 0.7223\n",
      "Epoch 11/50\n",
      "\n",
      "Epoch 00011: val_loss did not improve from 1.27742\n",
      "72/72 - 8s - loss: 0.4304 - accuracy: 0.8949 - val_loss: 1.4617 - val_accuracy: 0.7140\n"
     ]
    }
   ],
   "source": [
    "history = model.fit(\r\n",
    "    X_train, Y_train, batch_size=100, epochs=50,\r\n",
    "    validation_split=0.2, verbose=2, callbacks=[mc, es]\r\n",
    ")"
   ]
  },
  {
   "cell_type": "code",
   "execution_count": 24,
   "metadata": {},
   "outputs": [
    {
     "name": "stdout",
     "output_type": "stream",
     "text": [
      "71/71 [==============================] - 1s 18ms/step - loss: 1.3035 - accuracy: 0.6977\n"
     ]
    },
    {
     "data": {
      "text/plain": [
       "[1.3034629821777344, 0.6976847648620605]"
      ]
     },
     "execution_count": 24,
     "metadata": {},
     "output_type": "execute_result"
    }
   ],
   "source": [
    "best_model = load_model(model_file)\r\n",
    "best_model.evaluate(X_test, Y_test)"
   ]
  },
  {
   "cell_type": "markdown",
   "metadata": {},
   "source": [
    "## 학습과정 시각화\r\n",
    "- 하나의 X축, 두개의 Y축 스케일"
   ]
  },
  {
   "cell_type": "code",
   "execution_count": 25,
   "metadata": {},
   "outputs": [],
   "source": [
    "y_acc = history.history['accuracy']\r\n",
    "y_vacc = history.history['val_accuracy']\r\n",
    "y_loss = history.history['loss']\r\n",
    "y_vloss = history.history['val_loss']\r\n",
    "x_len = np.arange(1, len(y_acc)+1)"
   ]
  },
  {
   "cell_type": "code",
   "execution_count": 26,
   "metadata": {},
   "outputs": [
    {
     "data": {
      "image/png": "[encoded data removed]",
      "text/plain": [
       "<Figure size 864x576 with 2 Axes>"
      ]
     },
     "metadata": {
      "needs_background": "light"
     },
     "output_type": "display_data"
    }
   ],
   "source": [
    "fig, ax0 = plt.subplots(figsize=(12,8))\r\n",
    "ax1 = ax0.twinx()\r\n",
    "ax0.plot(x_len, y_loss, c='blue', label='train loss')\r\n",
    "ax0.plot(x_len, y_vloss, c='red', label='val loss')\r\n",
    "ax0.set_ylabel('loss')\r\n",
    "ax1.plot(x_len, y_acc, c='darkgreen', label='train acc')\r\n",
    "ax1.plot(x_len, y_vacc, c='magenta', label='val acc')\r\n",
    "ax1.set_ylabel('accuracy')\r\n",
    "ax0.set_xlabel('epoch')\r\n",
    "ax0.legend(loc='lower center'); ax1.legend(loc='upper center')\r\n",
    "plt.grid(); plt.show()"
   ]
  }
 ],
 "metadata": {
  "interpreter": {
   "hash": "8c1eae21719a0790335dcb83aad72b63b602cfe5cdb2bda0f60bc11d4f154e4b"
  },
  "kernelspec": {
   "display_name": "Python 3.8.5 64-bit ('base': conda)",
   "name": "python3"
  },
  "language_info": {
   "codemirror_mode": {
    "name": "ipython",
    "version": 3
   },
   "file_extension": ".py",
   "mimetype": "text/x-python",
   "name": "python",
   "nbconvert_exporter": "python",
   "pygments_lexer": "ipython3",
   "version": "3.8.5"
  },
  "orig_nbformat": 4
 },
 "nbformat": 4,
 "nbformat_minor": 2
}