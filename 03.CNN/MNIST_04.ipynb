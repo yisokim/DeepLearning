{
  "nbformat": 4,
  "nbformat_minor": 0,
  "metadata": {
    "colab": {
      "name": "MNIST.ipynb",
      "private_outputs": true,
      "provenance": [],
      "collapsed_sections": []
    },
    "kernelspec": {
      "name": "python3",
      "display_name": "Python 3"
    },
    "language_info": {
      "name": "python"
    },
    "accelerator": "GPU"
  },
  "cells": [
    {
      "cell_type": "markdown",
      "metadata": {
        "id": "qw4Nz0DvnY1C"
      },
      "source": [
        "# MNIST 손글씨 - CNN 4\n",
        "## - 2 Conv2d layers with pading\n",
        "## - 1 MaxPooling 2D\n",
        "## - 1 Dropout(0.25) layer\n",
        "## - 1 Fully Connected Network layer\n",
        "## - 1 Dropout(0.5) layer\n",
        "## - 1 Output layer"
      ]
    },
    {
      "cell_type": "code",
      "metadata": {
        "id": "q2bkmILknSlZ"
      },
      "source": [
        "import numpy as np\n",
        "import tensorflow as tf\n",
        "\n",
        "from tensorflow import keras\n",
        "from tensorflow.keras.models import Sequential\n",
        "#층을 담는 그릇(Sequential은 keras에 포함되어 있는데\n",
        "# 딥러닝 모델을 한층 한층 쌓기 쉽게 해주는 함수)\n",
        "from tensorflow.keras.layers import Dense\n",
        "#층을 만드는 것(각 층이 가질 특성을 각각 다르게 지정 가능) \n",
        "from sklearn.preprocessing import LabelEncoder\n",
        "import warnings\n",
        "warnings.filterwarnings(\"ignore\")"
      ],
      "execution_count": null,
      "outputs": []
    },
    {
      "cell_type": "code",
      "metadata": {
        "id": "LPIAPB8qnevZ"
      },
      "source": [
        "# seed값 생성\n",
        "seed = 2021\n",
        "np.random.seed(seed)\n",
        "tf.random.set_seed(seed)"
      ],
      "execution_count": null,
      "outputs": []
    },
    {
      "cell_type": "markdown",
      "metadata": {
        "id": "dttpM0b2nk3x"
      },
      "source": [
        "## 데이터 전처리"
      ]
    },
    {
      "cell_type": "code",
      "metadata": {
        "id": "H94FY1genj9A"
      },
      "source": [
        "from tensorflow.keras.datasets import mnist\n",
        "(X_train, y_train), (X_test, y_test) = mnist.load_data()"
      ],
      "execution_count": null,
      "outputs": []
    },
    {
      "cell_type": "code",
      "metadata": {
        "id": "6JnXshhenv3D"
      },
      "source": [
        "# 0~1 사이의 값으로 정규화\n",
        "X_train = X_train / 255.0\n",
        "X_test = X_test / 255.0"
      ],
      "execution_count": null,
      "outputs": []
    },
    {
      "cell_type": "code",
      "metadata": {
        "id": "ub_0wVrwnxkx"
      },
      "source": [
        "# 3차원 데이터를  4차원으로 (데이터는 2차원을 3차원으로)\n",
        "X_train = X_train.reshape(-1, 28,28,1)\n",
        "X_test = X_test.reshape(-1,28,28,1)\n",
        "X_train.shape, X_test.shape"
      ],
      "execution_count": null,
      "outputs": []
    },
    {
      "cell_type": "code",
      "metadata": {
        "id": "HI1p-QFRnzXY"
      },
      "source": [
        "# 원-핫 인코딩\n",
        "from tensorflow.keras.utils import to_categorical\n",
        "y_train = to_categorical(y_train)\n",
        "y_test = to_categorical(y_test)"
      ],
      "execution_count": null,
      "outputs": []
    },
    {
      "cell_type": "markdown",
      "metadata": {
        "id": "895dFkr2n6I4"
      },
      "source": [
        "## 모델 정의. 설정, 학습, 평가"
      ]
    },
    {
      "cell_type": "code",
      "metadata": {
        "id": "2FlbnDItn3B6"
      },
      "source": [
        "from tensorflow.keras.layers import Conv2D, Flatten, MaxPooling2D   # Conv2D - 2차원으로 / Flatten - 1차원으로\n",
        "from tensorflow.keras.callbacks import ModelCheckpoint, EarlyStopping  # 모델 최고값 저장\n",
        "from tensorflow.keras.layers import  MaxPool2D, Dropout"
      ],
      "execution_count": null,
      "outputs": []
    },
    {
      "cell_type": "code",
      "metadata": {
        "id": "sDH8bbSNn_3m"
      },
      "source": [
        "model = Sequential([\n",
        "    Conv2D(32, (3,3), padding='same', input_shape=(28,28,1), activation='relu'),\n",
        "    Conv2D(64, (3,3), padding='same', activation='relu'),\n",
        "    MaxPooling2D(pool_size=2),  # 1/2 줄어듦\n",
        "    Dropout(0.25),\n",
        "    Flatten(),               # 3차원을 1차원으로 변환\n",
        "    Dense(512, activation='relu'),\n",
        "    Dropout(0.5),\n",
        "    Dense(10, activation='softmax')\n",
        "])\n",
        "model.summary()"
      ],
      "execution_count": null,
      "outputs": []
    },
    {
      "cell_type": "code",
      "metadata": {
        "id": "ANCRzDOyn-ac"
      },
      "source": [
        "model.compile(\n",
        "    optimizer='adam',\n",
        "    loss='categorical_crossentropy',\n",
        "    metrics=['accuracy']\n",
        ")"
      ],
      "execution_count": null,
      "outputs": []
    },
    {
      "cell_type": "code",
      "metadata": {
        "id": "4QsBbj0DoDxQ"
      },
      "source": [
        "# 모델 최적화를 위한 설정\n",
        "modelpath = 'model/best_mnist_cnn_4.h5'\n",
        "checkpoint = ModelCheckpoint(modelpath, verbose=1, save_best_only=True)\n",
        "earlystopping = EarlyStopping(patience=5)"
      ],
      "execution_count": null,
      "outputs": []
    },
    {
      "cell_type": "code",
      "metadata": {
        "id": "wKC6coQxoGH_"
      },
      "source": [
        "# 모델 학습\n",
        "history = model.fit(\n",
        "    X_train, y_train,\n",
        "    validation_split = 0.2,\n",
        "    epochs=50, batch_size=200, verbose = 0,\n",
        "    callbacks=[checkpoint, earlystopping])   # 트레인셋의 일부를 떼서 시험(split)"
      ],
      "execution_count": null,
      "outputs": []
    },
    {
      "cell_type": "code",
      "metadata": {
        "id": "HgRm4c9toLGx"
      },
      "source": [
        "from tensorflow.keras.models import load_model\n",
        "best_model = load_model(modelpath)\n",
        "best_model.evaluate(X_test, y_test)"
      ],
      "execution_count": null,
      "outputs": []
    },
    {
      "cell_type": "markdown",
      "metadata": {
        "id": "VTIaSVgUtqjg"
      },
      "source": [
        "## 훈련과정 시각화"
      ]
    },
    {
      "cell_type": "code",
      "metadata": {
        "id": "UD1FNLNItpZD"
      },
      "source": [
        "y_vloss = history.history['val_loss']\n",
        "y_acc = history.history['accuracy']\n",
        "x_len = np.arange(len(y_acc))"
      ],
      "execution_count": null,
      "outputs": []
    },
    {
      "cell_type": "code",
      "metadata": {
        "id": "IBQzaxh1twu-"
      },
      "source": [
        "import matplotlib.pyplot as plt\n",
        "%matplotlib inline\n",
        "plt.figure(figsize=(12,8))\n",
        "\n",
        "# 학습셋 정확도 라인\n",
        "plt.plot(x_len, y_acc, 'bo-', markersize=2, label='accuracy')\n",
        "\n",
        "# 태스트셋 오차 라인\n",
        "plt.plot(x_len, y_vloss, 'ro-', markersize=2, label='val_loss')\n",
        "\n",
        "plt.legend(loc='best')   #location  right, left, upper rigtht 등등 \n",
        "plt.grid()   # 격자 \n",
        "plt.xlabel('epoch')\n",
        "plt.ylabel('score')\n",
        "\n",
        "plt.show()"
      ],
      "execution_count": null,
      "outputs": []
    }
  ]
}