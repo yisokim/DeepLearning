{
 "cells": [
  {
   "cell_type": "markdown",
   "metadata": {},
   "source": [
    "# Keras Application 응용"
   ]
  },
  {
   "cell_type": "code",
   "execution_count": 1,
   "metadata": {},
   "outputs": [
    {
     "data": {
      "text/plain": [
       "['animals\\\\dolphin.jpg',\n",
       " 'animals\\\\eagle.jpg',\n",
       " 'animals\\\\kangaroo.jpg',\n",
       " 'animals\\\\koala.jpg',\n",
       " 'animals\\\\lion.jpg',\n",
       " 'animals\\\\monkey.jpg',\n",
       " 'animals\\\\panda.jpg',\n",
       " 'animals\\\\polarbear.jpg',\n",
       " 'animals\\\\puma.jpg',\n",
       " 'animals\\\\Red panda.jpg',\n",
       " 'animals\\\\seal.jpg',\n",
       " 'animals\\\\shark.jpg']"
      ]
     },
     "execution_count": 1,
     "metadata": {},
     "output_type": "execute_result"
    }
   ],
   "source": [
    "from glob import glob\r\n",
    "glob('animals/*')"
   ]
  },
  {
   "cell_type": "code",
   "execution_count": 2,
   "metadata": {},
   "outputs": [
    {
     "name": "stdout",
     "output_type": "stream",
     "text": [
      "['dolphin', 'eagle', 'kangaroo', 'koala', 'lion', 'monkey', 'panda', 'polarbear', 'puma', 'Red panda', 'seal', 'shark']\n"
     ]
    }
   ],
   "source": [
    "# name 리스트로 만들기\r\n",
    "name_list = []    # 빈 리스트 생성\r\n",
    "for f in glob('animals/*'):\r\n",
    "    name = f.split('\\\\')[1]\r\n",
    "    name = name.split('.')[0]\r\n",
    "    name_list.append(name)\r\n",
    "print(name_list)"
   ]
  },
  {
   "cell_type": "markdown",
   "metadata": {},
   "source": [
    "# VGGNet 응용"
   ]
  },
  {
   "cell_type": "code",
   "execution_count": 3,
   "metadata": {},
   "outputs": [],
   "source": [
    "from tensorflow.keras.applications.vgg16 import VGG16, decode_predictions\r\n",
    "import numpy as np\r\n",
    "from PIL import Image"
   ]
  },
  {
   "cell_type": "markdown",
   "metadata": {},
   "source": [
    "## VGG16"
   ]
  },
  {
   "cell_type": "code",
   "execution_count": 4,
   "metadata": {},
   "outputs": [
    {
     "name": "stdout",
     "output_type": "stream",
     "text": [
      "['saltshaker', 'bald_eagle', 'grey_fox', 'koala', 'lion', 'langur', 'giant_panda', 'ice_bear', 'cougar', 'Arctic_fox', 'ice_bear', 'snail']\n"
     ]
    }
   ],
   "source": [
    "vgg16 = VGG16()\r\n",
    "vgg16_list = []\r\n",
    "for file in glob('animals/*'):\r\n",
    "    img = np.array(Image.open(file).resize((224,224)))\r\n",
    "    yhat = vgg16.predict(img.reshape(-1,224,224,3))\r\n",
    "    label = decode_predictions(yhat)\r\n",
    "    vgg16_list.append(label[0][0][1])\r\n",
    "print(vgg16_list)"
   ]
  },
  {
   "cell_type": "markdown",
   "metadata": {},
   "source": [
    "## VGG19"
   ]
  },
  {
   "cell_type": "code",
   "execution_count": 5,
   "metadata": {},
   "outputs": [],
   "source": [
    "from tensorflow.keras.applications.vgg19 import VGG19, decode_predictions\r\n",
    "import cv2\r\n",
    "vgg19 = VGG19()"
   ]
  },
  {
   "cell_type": "code",
   "execution_count": 6,
   "metadata": {},
   "outputs": [
    {
     "name": "stdout",
     "output_type": "stream",
     "text": [
      "['saltshaker', 'bald_eagle', 'wallaby', 'koala', 'snow_leopard', 'macaque', 'giant_panda', 'ice_bear', 'cougar', 'Arctic_fox', 'ice_bear', 'American_egret']\n"
     ]
    }
   ],
   "source": [
    "vgg19_list = []\r\n",
    "for file in glob('animals/*'):\r\n",
    "    img = cv2.imread(file)\r\n",
    "    img = cv2.resize(img, (224, 224))\r\n",
    "    img = cv2.cvtColor(img, cv2.COLOR_BGR2RGB)\r\n",
    "\r\n",
    "    yhat = vgg19.predict(img.reshape(-1,224,224,3))\r\n",
    "    label = decode_predictions(yhat)\r\n",
    "    vgg19_list.append(label[0][0][1])\r\n",
    "print(vgg19_list)"
   ]
  },
  {
   "cell_type": "markdown",
   "metadata": {},
   "source": [
    "## ResNet 50"
   ]
  },
  {
   "cell_type": "code",
   "execution_count": 7,
   "metadata": {},
   "outputs": [],
   "source": [
    "from tensorflow.keras.applications.resnet50 import ResNet50, decode_predictions\r\n",
    "resnet50 = ResNet50()"
   ]
  },
  {
   "cell_type": "code",
   "execution_count": 8,
   "metadata": {},
   "outputs": [
    {
     "name": "stdout",
     "output_type": "stream",
     "text": [
      "['saltshaker', 'kite', 'grey_fox', 'koala', 'lion', 'guenon', 'giant_panda', 'ice_bear', 'cougar', 'Arctic_fox', 'cocker_spaniel', 'snail']\n"
     ]
    }
   ],
   "source": [
    "resnet50_list = []\r\n",
    "for file in glob('animals/*'):\r\n",
    "    img = np.array(Image.open(file).resize((224,224)))\r\n",
    "    yhat = resnet50.predict(img.reshape(-1, 224, 224, 3))\r\n",
    "    label = decode_predictions(yhat)\r\n",
    "    resnet50_list.append(label[0][0][1])\r\n",
    "print(resnet50_list)"
   ]
  },
  {
   "cell_type": "markdown",
   "metadata": {},
   "source": [
    "## resnet101"
   ]
  },
  {
   "cell_type": "code",
   "execution_count": 9,
   "metadata": {},
   "outputs": [],
   "source": [
    "from tensorflow.keras.applications.resnet import ResNet101, decode_predictions\r\n",
    "resnet101 = ResNet101()"
   ]
  },
  {
   "cell_type": "code",
   "execution_count": 10,
   "metadata": {},
   "outputs": [
    {
     "name": "stdout",
     "output_type": "stream",
     "text": [
      "['breastplate', 'bald_eagle', 'wallaby', 'koala', 'lion', 'capuchin', 'giant_panda', 'kuvasz', 'cougar', 'Arctic_fox', 'cocker_spaniel', 'corkscrew']\n"
     ]
    }
   ],
   "source": [
    "resnet101_list = []\r\n",
    "for file in glob('animals/*'):\r\n",
    "    img = np.array(Image.open(file).resize((224,224)))\r\n",
    "    yhat = resnet101.predict(img.reshape(-1, 224, 224, 3))\r\n",
    "    label = decode_predictions(yhat)\r\n",
    "    resnet101_list.append(label[0][0][1])\r\n",
    "print(resnet101_list)"
   ]
  },
  {
   "cell_type": "markdown",
   "metadata": {},
   "source": [
    "## 데이터 프레임으로 합치기"
   ]
  },
  {
   "cell_type": "code",
   "execution_count": 11,
   "metadata": {},
   "outputs": [
    {
     "data": {
      "text/html": [
       "<div>\n",
       "<style scoped>\n",
       "    .dataframe tbody tr th:only-of-type {\n",
       "        vertical-align: middle;\n",
       "    }\n",
       "\n",
       "    .dataframe tbody tr th {\n",
       "        vertical-align: top;\n",
       "    }\n",
       "\n",
       "    .dataframe thead th {\n",
       "        text-align: right;\n",
       "    }\n",
       "</style>\n",
       "<table border=\"1\" class=\"dataframe\">\n",
       "  <thead>\n",
       "    <tr style=\"text-align: right;\">\n",
       "      <th></th>\n",
       "      <th>Original</th>\n",
       "      <th>VGG16</th>\n",
       "      <th>VGG19</th>\n",
       "      <th>ResNet50</th>\n",
       "      <th>ResNet101</th>\n",
       "    </tr>\n",
       "  </thead>\n",
       "  <tbody>\n",
       "    <tr>\n",
       "      <th>0</th>\n",
       "      <td>dolphin</td>\n",
       "      <td>saltshaker</td>\n",
       "      <td>saltshaker</td>\n",
       "      <td>saltshaker</td>\n",
       "      <td>breastplate</td>\n",
       "    </tr>\n",
       "    <tr>\n",
       "      <th>1</th>\n",
       "      <td>eagle</td>\n",
       "      <td>bald_eagle</td>\n",
       "      <td>bald_eagle</td>\n",
       "      <td>kite</td>\n",
       "      <td>bald_eagle</td>\n",
       "    </tr>\n",
       "    <tr>\n",
       "      <th>2</th>\n",
       "      <td>kangaroo</td>\n",
       "      <td>grey_fox</td>\n",
       "      <td>wallaby</td>\n",
       "      <td>grey_fox</td>\n",
       "      <td>wallaby</td>\n",
       "    </tr>\n",
       "    <tr>\n",
       "      <th>3</th>\n",
       "      <td>koala</td>\n",
       "      <td>koala</td>\n",
       "      <td>koala</td>\n",
       "      <td>koala</td>\n",
       "      <td>koala</td>\n",
       "    </tr>\n",
       "    <tr>\n",
       "      <th>4</th>\n",
       "      <td>lion</td>\n",
       "      <td>lion</td>\n",
       "      <td>snow_leopard</td>\n",
       "      <td>lion</td>\n",
       "      <td>lion</td>\n",
       "    </tr>\n",
       "    <tr>\n",
       "      <th>5</th>\n",
       "      <td>monkey</td>\n",
       "      <td>langur</td>\n",
       "      <td>macaque</td>\n",
       "      <td>guenon</td>\n",
       "      <td>capuchin</td>\n",
       "    </tr>\n",
       "    <tr>\n",
       "      <th>6</th>\n",
       "      <td>panda</td>\n",
       "      <td>giant_panda</td>\n",
       "      <td>giant_panda</td>\n",
       "      <td>giant_panda</td>\n",
       "      <td>giant_panda</td>\n",
       "    </tr>\n",
       "    <tr>\n",
       "      <th>7</th>\n",
       "      <td>polarbear</td>\n",
       "      <td>ice_bear</td>\n",
       "      <td>ice_bear</td>\n",
       "      <td>ice_bear</td>\n",
       "      <td>kuvasz</td>\n",
       "    </tr>\n",
       "    <tr>\n",
       "      <th>8</th>\n",
       "      <td>puma</td>\n",
       "      <td>cougar</td>\n",
       "      <td>cougar</td>\n",
       "      <td>cougar</td>\n",
       "      <td>cougar</td>\n",
       "    </tr>\n",
       "    <tr>\n",
       "      <th>9</th>\n",
       "      <td>Red panda</td>\n",
       "      <td>Arctic_fox</td>\n",
       "      <td>Arctic_fox</td>\n",
       "      <td>Arctic_fox</td>\n",
       "      <td>Arctic_fox</td>\n",
       "    </tr>\n",
       "    <tr>\n",
       "      <th>10</th>\n",
       "      <td>seal</td>\n",
       "      <td>ice_bear</td>\n",
       "      <td>ice_bear</td>\n",
       "      <td>cocker_spaniel</td>\n",
       "      <td>cocker_spaniel</td>\n",
       "    </tr>\n",
       "    <tr>\n",
       "      <th>11</th>\n",
       "      <td>shark</td>\n",
       "      <td>snail</td>\n",
       "      <td>American_egret</td>\n",
       "      <td>snail</td>\n",
       "      <td>corkscrew</td>\n",
       "    </tr>\n",
       "  </tbody>\n",
       "</table>\n",
       "</div>"
      ],
      "text/plain": [
       "     Original        VGG16           VGG19        ResNet50       ResNet101\n",
       "0     dolphin   saltshaker      saltshaker      saltshaker     breastplate\n",
       "1       eagle   bald_eagle      bald_eagle            kite      bald_eagle\n",
       "2    kangaroo     grey_fox         wallaby        grey_fox         wallaby\n",
       "3       koala        koala           koala           koala           koala\n",
       "4        lion         lion    snow_leopard            lion            lion\n",
       "5      monkey       langur         macaque          guenon        capuchin\n",
       "6       panda  giant_panda     giant_panda     giant_panda     giant_panda\n",
       "7   polarbear     ice_bear        ice_bear        ice_bear          kuvasz\n",
       "8        puma       cougar          cougar          cougar          cougar\n",
       "9   Red panda   Arctic_fox      Arctic_fox      Arctic_fox      Arctic_fox\n",
       "10       seal     ice_bear        ice_bear  cocker_spaniel  cocker_spaniel\n",
       "11      shark        snail  American_egret           snail       corkscrew"
      ]
     },
     "execution_count": 11,
     "metadata": {},
     "output_type": "execute_result"
    }
   ],
   "source": [
    "import pandas as pd\r\n",
    "df = pd.DataFrame({\r\n",
    "    'Original':name_list, 'VGG16':vgg16_list, 'VGG19':vgg19_list,\r\n",
    "    'ResNet50':resnet50_list, 'ResNet101':resnet101_list\r\n",
    "})\r\n",
    "df"
   ]
  }
 ],
 "metadata": {
  "interpreter": {
   "hash": "8c1eae21719a0790335dcb83aad72b63b602cfe5cdb2bda0f60bc11d4f154e4b"
  },
  "kernelspec": {
   "display_name": "Python 3.8.5 64-bit ('base': conda)",
   "name": "python3"
  },
  "language_info": {
   "codemirror_mode": {
    "name": "ipython",
    "version": 3
   },
   "file_extension": ".py",
   "mimetype": "text/x-python",
   "name": "python",
   "nbconvert_exporter": "python",
   "pygments_lexer": "ipython3",
   "version": "3.8.5"
  },
  "orig_nbformat": 4
 },
 "nbformat": 4,
 "nbformat_minor": 2
}