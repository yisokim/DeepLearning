{
 "cells": [
  {
   "cell_type": "markdown",
   "metadata": {},
   "source": [
    "# 원, 삼각형, 사각형 구분하기"
   ]
  },
  {
   "cell_type": "code",
   "execution_count": 1,
   "metadata": {},
   "outputs": [],
   "source": [
    "import numpy as np\r\n",
    "import tensorflow as tf\r\n",
    "\r\n",
    "from tensorflow import keras\r\n",
    "from tensorflow.keras.models import Sequential\r\n",
    "#층을 담는 그릇(Sequential은 keras에 포함되어 있는데\r\n",
    "# 딥러닝 모델을 한층 한층 쌓기 쉽게 해주는 함수)\r\n",
    "from tensorflow.keras.layers import Dense\r\n",
    "#층을 만드는 것(각 층이 가질 특성을 각각 다르게 지정 가능) \r\n",
    "from sklearn.preprocessing import LabelEncoder\r\n",
    "import warnings\r\n",
    "warnings.filterwarnings(\"ignore\")"
   ]
  },
  {
   "cell_type": "code",
   "execution_count": 2,
   "metadata": {},
   "outputs": [],
   "source": [
    "# seed값 생성\r\n",
    "seed = 2021\r\n",
    "np.random.seed(seed)\r\n",
    "tf.random.set_seed(seed)"
   ]
  },
  {
   "cell_type": "markdown",
   "metadata": {},
   "source": [
    "## 데이터셋 생성하기"
   ]
  },
  {
   "cell_type": "code",
   "execution_count": 6,
   "metadata": {},
   "outputs": [
    {
     "name": "stdout",
     "output_type": "stream",
     "text": [
      "Found 45 images belonging to 3 classes.\n"
     ]
    }
   ],
   "source": [
    "from tensorflow.keras.preprocessing.image import ImageDataGenerator\r\n",
    "train_datagen = ImageDataGenerator(rescale=1/255.)\r\n",
    "# 데이터 값을 0과 1사이로 만듦\r\n",
    "train_generator = train_datagen.flow_from_directory(\r\n",
    "    'handwriting_shape/train',\r\n",
    "    target_size=(24,24),\r\n",
    "    batch_size=3,\r\n",
    "    class_mode='categorical'\r\n",
    ")"
   ]
  },
  {
   "cell_type": "code",
   "execution_count": 7,
   "metadata": {},
   "outputs": [
    {
     "name": "stdout",
     "output_type": "stream",
     "text": [
      "Found 15 images belonging to 3 classes.\n"
     ]
    }
   ],
   "source": [
    "test_datagen = ImageDataGenerator(rescale=1/255.)\r\n",
    "# 데이터 값을 0과 1사이로 만듦\r\n",
    "test_generator = test_datagen.flow_from_directory(\r\n",
    "    'handwriting_shape/test',\r\n",
    "    target_size=(24,24),\r\n",
    "    batch_size=3,\r\n",
    "    class_mode='categorical'\r\n",
    ")"
   ]
  },
  {
   "cell_type": "code",
   "execution_count": 8,
   "metadata": {},
   "outputs": [
    {
     "data": {
      "text/plain": [
       "array([0, 0, 0, 0, 0, 0, 0, 0, 0, 0, 0, 0, 0, 0, 0, 1, 1, 1, 1, 1, 1, 1,\n",
       "       1, 1, 1, 1, 1, 1, 1, 1, 2, 2, 2, 2, 2, 2, 2, 2, 2, 2, 2, 2, 2, 2,\n",
       "       2])"
      ]
     },
     "execution_count": 8,
     "metadata": {},
     "output_type": "execute_result"
    }
   ],
   "source": [
    "train_generator.labels"
   ]
  },
  {
   "cell_type": "code",
   "execution_count": 9,
   "metadata": {},
   "outputs": [
    {
     "data": {
      "text/plain": [
       "'circle\\\\circle001.png'"
      ]
     },
     "execution_count": 9,
     "metadata": {},
     "output_type": "execute_result"
    }
   ],
   "source": [
    "train_generator.filenames[0]"
   ]
  },
  {
   "cell_type": "markdown",
   "metadata": {},
   "source": [
    "## 모델 정의/설정/학습"
   ]
  },
  {
   "cell_type": "code",
   "execution_count": 10,
   "metadata": {},
   "outputs": [],
   "source": [
    "from tensorflow.keras.models import Sequential\r\n",
    "from tensorflow.keras.layers import Conv2D, MaxPooling2D, Flatten, Dense"
   ]
  },
  {
   "cell_type": "code",
   "execution_count": 11,
   "metadata": {},
   "outputs": [
    {
     "name": "stdout",
     "output_type": "stream",
     "text": [
      "Model: \"sequential\"\n",
      "_________________________________________________________________\n",
      "Layer (type)                 Output Shape              Param #   \n",
      "=================================================================\n",
      "conv2d (Conv2D)              (None, 22, 22, 32)        896       \n",
      "_________________________________________________________________\n",
      "conv2d_1 (Conv2D)            (None, 20, 20, 64)        18496     \n",
      "_________________________________________________________________\n",
      "max_pooling2d (MaxPooling2D) (None, 10, 10, 64)        0         \n",
      "_________________________________________________________________\n",
      "flatten (Flatten)            (None, 6400)              0         \n",
      "_________________________________________________________________\n",
      "dense (Dense)                (None, 128)               819328    \n",
      "_________________________________________________________________\n",
      "dense_1 (Dense)              (None, 3)                 387       \n",
      "=================================================================\n",
      "Total params: 839,107\n",
      "Trainable params: 839,107\n",
      "Non-trainable params: 0\n",
      "_________________________________________________________________\n"
     ]
    }
   ],
   "source": [
    "model = Sequential([\r\n",
    "    Conv2D(32, (3,3), input_shape=(24,24,3), activation='relu'),\r\n",
    "    Conv2D(64, (3,3), activation='relu'),\r\n",
    "    MaxPooling2D(),\r\n",
    "    Flatten(),\r\n",
    "    Dense(128, activation='relu'),\r\n",
    "    Dense(3, activation='softmax')\r\n",
    "])\r\n",
    "model.summary()"
   ]
  },
  {
   "cell_type": "code",
   "execution_count": 12,
   "metadata": {},
   "outputs": [],
   "source": [
    "model.compile(\r\n",
    "    optimizer='adam',\r\n",
    "    loss='categorical_crossentropy',\r\n",
    "    metrics='accuracy'\r\n",
    ")"
   ]
  },
  {
   "cell_type": "markdown",
   "metadata": {},
   "source": [
    "## 모델 학습\r\n",
    "케라스에서는 모델을 학습시킬 때 주로 fit() 함수를 사용하지만 제네레이터로 생성된 배치로 학습시킬 경우에는 fit_generator() 함수를 사용합니다. 본 예제에서는 ImageDataGenerator라는 제네레이터로 이미지를 담고 있는 배치로 학습시키기 때문에 fit_generator() 함수를 사용하겠습니다.\r\n",
    "\r\n",
    "### 첫번째 인자 : 훈련데이터셋을 제공할 제네레이터를 지정합니다. 본 예제에서는 앞서 생성한 train_generator으로 지정합니다.\r\n",
    "### steps_per_epoch : 한 epoch에 사용한 스텝 수를 지정합니다. 총 45개의 훈련 샘플이 있고 배치사이즈가 3이므로 15 스텝으로 지정합니다.\r\n",
    "### epochs : 전체 훈련 데이터셋에 대해 학습 반복 횟수를 지정합니다. 100번을 반복적으로 학습시켜 보겠습니다.\r\n",
    "### validation_data : 검증데이터셋을 제공할 제네레이터를 지정합니다. 본 예제에서는 앞서 생성한 validation_generator으로 지정합니다.\r\n",
    "### validation_steps : 한 epoch 종료 시 마다 검증할 때 사용되는 검증 스텝 수를 지정합니다. 홍 15개의 검증 샘플이 있고 배치사이즈가 3이므로 5 스텝으로 지정합니다."
   ]
  },
  {
   "cell_type": "code",
   "execution_count": 13,
   "metadata": {},
   "outputs": [
    {
     "name": "stdout",
     "output_type": "stream",
     "text": [
      "WARNING:tensorflow:From <ipython-input-13-ea2c94e8fb3d>:1: Model.fit_generator (from tensorflow.python.keras.engine.training) is deprecated and will be removed in a future version.\n",
      "Instructions for updating:\n",
      "Please use Model.fit, which supports generators.\n",
      "Epoch 1/200\n",
      "15/15 [==============================] - 0s 28ms/step - loss: 0.9845 - accuracy: 0.5333 - val_loss: 0.5359 - val_accuracy: 0.6667\n",
      "Epoch 2/200\n",
      "15/15 [==============================] - 0s 10ms/step - loss: 0.2971 - accuracy: 0.8889 - val_loss: 0.1873 - val_accuracy: 0.9333\n",
      "Epoch 3/200\n",
      "15/15 [==============================] - 0s 10ms/step - loss: 0.0368 - accuracy: 1.0000 - val_loss: 0.0821 - val_accuracy: 0.9333\n",
      "Epoch 4/200\n",
      "15/15 [==============================] - 0s 10ms/step - loss: 0.0036 - accuracy: 1.0000 - val_loss: 0.0816 - val_accuracy: 0.9333\n",
      "Epoch 5/200\n",
      "15/15 [==============================] - 0s 10ms/step - loss: 7.8768e-04 - accuracy: 1.0000 - val_loss: 0.0259 - val_accuracy: 1.0000\n",
      "Epoch 6/200\n",
      "15/15 [==============================] - 0s 10ms/step - loss: 4.1493e-04 - accuracy: 1.0000 - val_loss: 0.0210 - val_accuracy: 1.0000\n",
      "Epoch 7/200\n",
      "15/15 [==============================] - 0s 10ms/step - loss: 2.9391e-04 - accuracy: 1.0000 - val_loss: 0.0231 - val_accuracy: 1.0000\n",
      "Epoch 8/200\n",
      "15/15 [==============================] - 0s 11ms/step - loss: 2.2769e-04 - accuracy: 1.0000 - val_loss: 0.0236 - val_accuracy: 1.0000\n",
      "Epoch 9/200\n",
      "15/15 [==============================] - 0s 11ms/step - loss: 1.9533e-04 - accuracy: 1.0000 - val_loss: 0.0246 - val_accuracy: 1.0000\n",
      "Epoch 10/200\n",
      "15/15 [==============================] - 0s 11ms/step - loss: 1.7113e-04 - accuracy: 1.0000 - val_loss: 0.0241 - val_accuracy: 1.0000\n",
      "Epoch 11/200\n",
      "15/15 [==============================] - 0s 11ms/step - loss: 1.4925e-04 - accuracy: 1.0000 - val_loss: 0.0229 - val_accuracy: 1.0000\n",
      "Epoch 12/200\n",
      "15/15 [==============================] - 0s 10ms/step - loss: 1.2883e-04 - accuracy: 1.0000 - val_loss: 0.0226 - val_accuracy: 1.0000\n",
      "Epoch 13/200\n",
      "15/15 [==============================] - 0s 10ms/step - loss: 1.1611e-04 - accuracy: 1.0000 - val_loss: 0.0216 - val_accuracy: 1.0000\n",
      "Epoch 14/200\n",
      "15/15 [==============================] - 0s 10ms/step - loss: 1.0101e-04 - accuracy: 1.0000 - val_loss: 0.0212 - val_accuracy: 1.0000\n",
      "Epoch 15/200\n",
      "15/15 [==============================] - 0s 10ms/step - loss: 8.9719e-05 - accuracy: 1.0000 - val_loss: 0.0213 - val_accuracy: 1.0000\n",
      "Epoch 16/200\n",
      "15/15 [==============================] - 0s 12ms/step - loss: 7.9475e-05 - accuracy: 1.0000 - val_loss: 0.0216 - val_accuracy: 1.0000\n",
      "Epoch 17/200\n",
      "15/15 [==============================] - 0s 11ms/step - loss: 7.1935e-05 - accuracy: 1.0000 - val_loss: 0.0214 - val_accuracy: 1.0000\n",
      "Epoch 18/200\n",
      "15/15 [==============================] - 0s 10ms/step - loss: 6.5325e-05 - accuracy: 1.0000 - val_loss: 0.0222 - val_accuracy: 1.0000\n",
      "Epoch 19/200\n",
      "15/15 [==============================] - 0s 13ms/step - loss: 5.9251e-05 - accuracy: 1.0000 - val_loss: 0.0212 - val_accuracy: 1.0000\n",
      "Epoch 20/200\n",
      "15/15 [==============================] - 0s 10ms/step - loss: 5.4013e-05 - accuracy: 1.0000 - val_loss: 0.0209 - val_accuracy: 1.0000\n",
      "Epoch 21/200\n",
      "15/15 [==============================] - 0s 11ms/step - loss: 5.0064e-05 - accuracy: 1.0000 - val_loss: 0.0208 - val_accuracy: 1.0000\n",
      "Epoch 22/200\n",
      "15/15 [==============================] - 0s 12ms/step - loss: 4.5985e-05 - accuracy: 1.0000 - val_loss: 0.0214 - val_accuracy: 1.0000\n",
      "Epoch 23/200\n",
      "15/15 [==============================] - 0s 11ms/step - loss: 4.3370e-05 - accuracy: 1.0000 - val_loss: 0.0207 - val_accuracy: 1.0000\n",
      "Epoch 24/200\n",
      "15/15 [==============================] - 0s 11ms/step - loss: 3.9530e-05 - accuracy: 1.0000 - val_loss: 0.0214 - val_accuracy: 1.0000\n",
      "Epoch 25/200\n",
      "15/15 [==============================] - 0s 12ms/step - loss: 3.7175e-05 - accuracy: 1.0000 - val_loss: 0.0207 - val_accuracy: 1.0000\n",
      "Epoch 26/200\n",
      "15/15 [==============================] - 0s 12ms/step - loss: 3.4680e-05 - accuracy: 1.0000 - val_loss: 0.0210 - val_accuracy: 1.0000\n",
      "Epoch 27/200\n",
      "15/15 [==============================] - 0s 10ms/step - loss: 3.2306e-05 - accuracy: 1.0000 - val_loss: 0.0209 - val_accuracy: 1.0000\n",
      "Epoch 28/200\n",
      "15/15 [==============================] - 0s 10ms/step - loss: 3.0161e-05 - accuracy: 1.0000 - val_loss: 0.0204 - val_accuracy: 1.0000\n",
      "Epoch 29/200\n",
      "15/15 [==============================] - 0s 10ms/step - loss: 2.8344e-05 - accuracy: 1.0000 - val_loss: 0.0203 - val_accuracy: 1.0000\n",
      "Epoch 30/200\n",
      "15/15 [==============================] - 0s 10ms/step - loss: 2.6749e-05 - accuracy: 1.0000 - val_loss: 0.0204 - val_accuracy: 1.0000\n",
      "Epoch 31/200\n",
      "15/15 [==============================] - 0s 11ms/step - loss: 2.4937e-05 - accuracy: 1.0000 - val_loss: 0.0201 - val_accuracy: 1.0000\n",
      "Epoch 32/200\n",
      "15/15 [==============================] - 0s 10ms/step - loss: 2.3539e-05 - accuracy: 1.0000 - val_loss: 0.0197 - val_accuracy: 1.0000\n",
      "Epoch 33/200\n",
      "15/15 [==============================] - 0s 10ms/step - loss: 2.1915e-05 - accuracy: 1.0000 - val_loss: 0.0191 - val_accuracy: 1.0000\n",
      "Epoch 34/200\n",
      "15/15 [==============================] - 0s 10ms/step - loss: 2.0053e-05 - accuracy: 1.0000 - val_loss: 0.0194 - val_accuracy: 1.0000\n",
      "Epoch 35/200\n",
      "15/15 [==============================] - 0s 10ms/step - loss: 1.8379e-05 - accuracy: 1.0000 - val_loss: 0.0195 - val_accuracy: 1.0000\n",
      "Epoch 36/200\n",
      "15/15 [==============================] - 0s 10ms/step - loss: 1.6434e-05 - accuracy: 1.0000 - val_loss: 0.0202 - val_accuracy: 1.0000\n",
      "Epoch 37/200\n",
      "15/15 [==============================] - 0s 10ms/step - loss: 1.4188e-05 - accuracy: 1.0000 - val_loss: 0.0217 - val_accuracy: 1.0000\n",
      "Epoch 38/200\n",
      "15/15 [==============================] - 0s 10ms/step - loss: 1.2588e-05 - accuracy: 1.0000 - val_loss: 0.0250 - val_accuracy: 1.0000\n",
      "Epoch 39/200\n",
      "15/15 [==============================] - 0s 10ms/step - loss: 9.5419e-06 - accuracy: 1.0000 - val_loss: 0.0229 - val_accuracy: 1.0000\n",
      "Epoch 40/200\n",
      "15/15 [==============================] - 0s 10ms/step - loss: 7.4809e-06 - accuracy: 1.0000 - val_loss: 0.0269 - val_accuracy: 1.0000\n",
      "Epoch 41/200\n",
      "15/15 [==============================] - 0s 10ms/step - loss: 6.4610e-06 - accuracy: 1.0000 - val_loss: 0.0345 - val_accuracy: 1.0000\n",
      "Epoch 42/200\n",
      "15/15 [==============================] - 0s 10ms/step - loss: 5.1630e-06 - accuracy: 1.0000 - val_loss: 0.0275 - val_accuracy: 1.0000\n",
      "Epoch 43/200\n",
      "15/15 [==============================] - 0s 11ms/step - loss: 4.1643e-06 - accuracy: 1.0000 - val_loss: 0.0292 - val_accuracy: 1.0000\n",
      "Epoch 44/200\n",
      "15/15 [==============================] - 0s 11ms/step - loss: 3.3961e-06 - accuracy: 1.0000 - val_loss: 0.0364 - val_accuracy: 1.0000\n",
      "Epoch 45/200\n",
      "15/15 [==============================] - 0s 10ms/step - loss: 2.9643e-06 - accuracy: 1.0000 - val_loss: 0.0394 - val_accuracy: 1.0000\n",
      "Epoch 46/200\n",
      "15/15 [==============================] - 0s 10ms/step - loss: 2.5272e-06 - accuracy: 1.0000 - val_loss: 0.0388 - val_accuracy: 1.0000\n",
      "Epoch 47/200\n",
      "15/15 [==============================] - 0s 10ms/step - loss: 2.2040e-06 - accuracy: 1.0000 - val_loss: 0.0360 - val_accuracy: 1.0000\n",
      "Epoch 48/200\n",
      "15/15 [==============================] - 0s 11ms/step - loss: 1.8994e-06 - accuracy: 1.0000 - val_loss: 0.0421 - val_accuracy: 1.0000\n",
      "Epoch 49/200\n",
      "15/15 [==============================] - 0s 10ms/step - loss: 1.6769e-06 - accuracy: 1.0000 - val_loss: 0.0449 - val_accuracy: 1.0000\n",
      "Epoch 50/200\n",
      "15/15 [==============================] - 0s 9ms/step - loss: 1.4702e-06 - accuracy: 1.0000 - val_loss: 0.0450 - val_accuracy: 1.0000\n",
      "Epoch 51/200\n",
      "15/15 [==============================] - 0s 10ms/step - loss: 1.3325e-06 - accuracy: 1.0000 - val_loss: 0.0439 - val_accuracy: 1.0000\n",
      "Epoch 52/200\n",
      "15/15 [==============================] - 0s 10ms/step - loss: 1.1841e-06 - accuracy: 1.0000 - val_loss: 0.0466 - val_accuracy: 1.0000\n",
      "Epoch 53/200\n",
      "15/15 [==============================] - 0s 10ms/step - loss: 1.0914e-06 - accuracy: 1.0000 - val_loss: 0.0451 - val_accuracy: 1.0000\n",
      "Epoch 54/200\n",
      "15/15 [==============================] - 0s 10ms/step - loss: 9.8016e-07 - accuracy: 1.0000 - val_loss: 0.0488 - val_accuracy: 0.9333\n",
      "Epoch 55/200\n",
      "15/15 [==============================] - 0s 10ms/step - loss: 9.2188e-07 - accuracy: 1.0000 - val_loss: 0.0531 - val_accuracy: 0.9333\n",
      "Epoch 56/200\n",
      "15/15 [==============================] - 0s 10ms/step - loss: 8.2917e-07 - accuracy: 1.0000 - val_loss: 0.0499 - val_accuracy: 0.9333\n",
      "Epoch 57/200\n",
      "15/15 [==============================] - 0s 9ms/step - loss: 7.4969e-07 - accuracy: 1.0000 - val_loss: 0.0516 - val_accuracy: 0.9333\n",
      "Epoch 58/200\n",
      "15/15 [==============================] - 0s 10ms/step - loss: 6.9671e-07 - accuracy: 1.0000 - val_loss: 0.0521 - val_accuracy: 0.9333\n",
      "Epoch 59/200\n",
      "15/15 [==============================] - 0s 10ms/step - loss: 6.4108e-07 - accuracy: 1.0000 - val_loss: 0.0535 - val_accuracy: 0.9333\n",
      "Epoch 60/200\n",
      "15/15 [==============================] - 0s 11ms/step - loss: 6.0134e-07 - accuracy: 1.0000 - val_loss: 0.0561 - val_accuracy: 0.9333\n",
      "Epoch 61/200\n",
      "15/15 [==============================] - 0s 10ms/step - loss: 5.6426e-07 - accuracy: 1.0000 - val_loss: 0.0564 - val_accuracy: 0.9333\n",
      "Epoch 62/200\n",
      "15/15 [==============================] - 0s 11ms/step - loss: 5.3247e-07 - accuracy: 1.0000 - val_loss: 0.0549 - val_accuracy: 0.9333\n",
      "Epoch 63/200\n",
      "15/15 [==============================] - 0s 11ms/step - loss: 4.9538e-07 - accuracy: 1.0000 - val_loss: 0.0576 - val_accuracy: 0.9333\n",
      "Epoch 64/200\n",
      "15/15 [==============================] - 0s 10ms/step - loss: 4.5564e-07 - accuracy: 1.0000 - val_loss: 0.0579 - val_accuracy: 0.9333\n",
      "Epoch 65/200\n",
      "15/15 [==============================] - 0s 10ms/step - loss: 4.2915e-07 - accuracy: 1.0000 - val_loss: 0.0592 - val_accuracy: 0.9333\n",
      "Epoch 66/200\n",
      "15/15 [==============================] - 0s 10ms/step - loss: 4.1326e-07 - accuracy: 1.0000 - val_loss: 0.0580 - val_accuracy: 0.9333\n",
      "Epoch 67/200\n",
      "15/15 [==============================] - 0s 10ms/step - loss: 3.8942e-07 - accuracy: 1.0000 - val_loss: 0.0593 - val_accuracy: 0.9333\n",
      "Epoch 68/200\n",
      "15/15 [==============================] - 0s 10ms/step - loss: 3.7617e-07 - accuracy: 1.0000 - val_loss: 0.0621 - val_accuracy: 0.9333\n",
      "Epoch 69/200\n",
      "15/15 [==============================] - 0s 10ms/step - loss: 3.4968e-07 - accuracy: 1.0000 - val_loss: 0.0627 - val_accuracy: 0.9333\n",
      "Epoch 70/200\n",
      "15/15 [==============================] - 0s 11ms/step - loss: 3.4173e-07 - accuracy: 1.0000 - val_loss: 0.0652 - val_accuracy: 0.9333\n",
      "Epoch 71/200\n",
      "15/15 [==============================] - 0s 10ms/step - loss: 3.2319e-07 - accuracy: 1.0000 - val_loss: 0.0614 - val_accuracy: 0.9333\n",
      "Epoch 72/200\n",
      "15/15 [==============================] - 0s 10ms/step - loss: 3.0465e-07 - accuracy: 1.0000 - val_loss: 0.0615 - val_accuracy: 0.9333\n",
      "Epoch 73/200\n",
      "15/15 [==============================] - 0s 10ms/step - loss: 2.9670e-07 - accuracy: 1.0000 - val_loss: 0.0646 - val_accuracy: 0.9333\n",
      "Epoch 74/200\n",
      "15/15 [==============================] - 0s 10ms/step - loss: 2.9140e-07 - accuracy: 1.0000 - val_loss: 0.0634 - val_accuracy: 0.9333\n",
      "Epoch 75/200\n",
      "15/15 [==============================] - 0s 10ms/step - loss: 2.7815e-07 - accuracy: 1.0000 - val_loss: 0.0645 - val_accuracy: 0.9333\n",
      "Epoch 76/200\n",
      "15/15 [==============================] - 0s 11ms/step - loss: 2.5696e-07 - accuracy: 1.0000 - val_loss: 0.0641 - val_accuracy: 0.9333\n",
      "Epoch 77/200\n",
      "15/15 [==============================] - 0s 10ms/step - loss: 2.4637e-07 - accuracy: 1.0000 - val_loss: 0.0657 - val_accuracy: 0.9333\n",
      "Epoch 78/200\n",
      "15/15 [==============================] - 0s 10ms/step - loss: 2.3577e-07 - accuracy: 1.0000 - val_loss: 0.0661 - val_accuracy: 0.9333\n",
      "Epoch 79/200\n",
      "15/15 [==============================] - 0s 11ms/step - loss: 2.1723e-07 - accuracy: 1.0000 - val_loss: 0.0658 - val_accuracy: 0.9333\n",
      "Epoch 80/200\n",
      "15/15 [==============================] - 0s 9ms/step - loss: 2.0663e-07 - accuracy: 1.0000 - val_loss: 0.0682 - val_accuracy: 0.9333\n",
      "Epoch 81/200\n",
      "15/15 [==============================] - 0s 10ms/step - loss: 2.0133e-07 - accuracy: 1.0000 - val_loss: 0.0684 - val_accuracy: 0.9333\n",
      "Epoch 82/200\n",
      "15/15 [==============================] - 0s 11ms/step - loss: 1.9603e-07 - accuracy: 1.0000 - val_loss: 0.0675 - val_accuracy: 0.9333\n",
      "Epoch 83/200\n",
      "15/15 [==============================] - 0s 11ms/step - loss: 1.8809e-07 - accuracy: 1.0000 - val_loss: 0.0689 - val_accuracy: 0.9333\n",
      "Epoch 84/200\n",
      "15/15 [==============================] - 0s 10ms/step - loss: 1.8544e-07 - accuracy: 1.0000 - val_loss: 0.0697 - val_accuracy: 0.9333\n",
      "Epoch 85/200\n",
      "15/15 [==============================] - 0s 11ms/step - loss: 1.7749e-07 - accuracy: 1.0000 - val_loss: 0.0711 - val_accuracy: 0.9333\n",
      "Epoch 86/200\n",
      "15/15 [==============================] - 0s 11ms/step - loss: 1.7484e-07 - accuracy: 1.0000 - val_loss: 0.0709 - val_accuracy: 0.9333\n",
      "Epoch 87/200\n",
      "15/15 [==============================] - 0s 10ms/step - loss: 1.7219e-07 - accuracy: 1.0000 - val_loss: 0.0726 - val_accuracy: 0.9333\n",
      "Epoch 88/200\n",
      "15/15 [==============================] - 0s 10ms/step - loss: 1.6424e-07 - accuracy: 1.0000 - val_loss: 0.0714 - val_accuracy: 0.9333\n",
      "Epoch 89/200\n",
      "15/15 [==============================] - 0s 9ms/step - loss: 1.6159e-07 - accuracy: 1.0000 - val_loss: 0.0714 - val_accuracy: 0.9333\n",
      "Epoch 90/200\n",
      "15/15 [==============================] - 0s 10ms/step - loss: 1.5365e-07 - accuracy: 1.0000 - val_loss: 0.0726 - val_accuracy: 0.9333\n",
      "Epoch 91/200\n",
      "15/15 [==============================] - 0s 9ms/step - loss: 1.4570e-07 - accuracy: 1.0000 - val_loss: 0.0750 - val_accuracy: 0.9333\n",
      "Epoch 92/200\n",
      "15/15 [==============================] - 0s 10ms/step - loss: 1.4835e-07 - accuracy: 1.0000 - val_loss: 0.0726 - val_accuracy: 0.9333\n",
      "Epoch 93/200\n",
      "15/15 [==============================] - 0s 10ms/step - loss: 1.3510e-07 - accuracy: 1.0000 - val_loss: 0.0740 - val_accuracy: 0.9333\n",
      "Epoch 94/200\n",
      "15/15 [==============================] - 0s 10ms/step - loss: 1.3245e-07 - accuracy: 1.0000 - val_loss: 0.0729 - val_accuracy: 0.9333\n",
      "Epoch 95/200\n",
      "15/15 [==============================] - 0s 10ms/step - loss: 1.3245e-07 - accuracy: 1.0000 - val_loss: 0.0746 - val_accuracy: 0.9333\n",
      "Epoch 96/200\n",
      "15/15 [==============================] - 0s 9ms/step - loss: 1.2981e-07 - accuracy: 1.0000 - val_loss: 0.0758 - val_accuracy: 0.9333\n",
      "Epoch 97/200\n",
      "15/15 [==============================] - 0s 10ms/step - loss: 1.2981e-07 - accuracy: 1.0000 - val_loss: 0.0755 - val_accuracy: 0.9333\n",
      "Epoch 98/200\n",
      "15/15 [==============================] - 0s 10ms/step - loss: 1.2716e-07 - accuracy: 1.0000 - val_loss: 0.0749 - val_accuracy: 0.9333\n",
      "Epoch 99/200\n",
      "15/15 [==============================] - 0s 10ms/step - loss: 1.2451e-07 - accuracy: 1.0000 - val_loss: 0.0764 - val_accuracy: 0.9333\n",
      "Epoch 100/200\n",
      "15/15 [==============================] - 0s 10ms/step - loss: 1.2186e-07 - accuracy: 1.0000 - val_loss: 0.0765 - val_accuracy: 0.9333\n",
      "Epoch 101/200\n",
      "15/15 [==============================] - 0s 10ms/step - loss: 1.1656e-07 - accuracy: 1.0000 - val_loss: 0.0780 - val_accuracy: 0.9333\n",
      "Epoch 102/200\n",
      "15/15 [==============================] - 0s 9ms/step - loss: 1.1391e-07 - accuracy: 1.0000 - val_loss: 0.0762 - val_accuracy: 0.9333\n",
      "Epoch 103/200\n",
      "15/15 [==============================] - 0s 10ms/step - loss: 1.1126e-07 - accuracy: 1.0000 - val_loss: 0.0772 - val_accuracy: 0.9333\n",
      "Epoch 104/200\n",
      "15/15 [==============================] - 0s 10ms/step - loss: 1.1126e-07 - accuracy: 1.0000 - val_loss: 0.0781 - val_accuracy: 0.9333\n",
      "Epoch 105/200\n",
      "15/15 [==============================] - 0s 9ms/step - loss: 1.0861e-07 - accuracy: 1.0000 - val_loss: 0.0765 - val_accuracy: 0.9333\n",
      "Epoch 106/200\n",
      "15/15 [==============================] - 0s 10ms/step - loss: 1.0596e-07 - accuracy: 1.0000 - val_loss: 0.0783 - val_accuracy: 0.9333\n",
      "Epoch 107/200\n",
      "15/15 [==============================] - 0s 12ms/step - loss: 1.0596e-07 - accuracy: 1.0000 - val_loss: 0.0802 - val_accuracy: 0.9333\n",
      "Epoch 108/200\n",
      "15/15 [==============================] - 0s 10ms/step - loss: 1.0067e-07 - accuracy: 1.0000 - val_loss: 0.0788 - val_accuracy: 0.9333\n",
      "Epoch 109/200\n",
      "15/15 [==============================] - 0s 9ms/step - loss: 9.5367e-08 - accuracy: 1.0000 - val_loss: 0.0786 - val_accuracy: 0.9333\n",
      "Epoch 110/200\n",
      "15/15 [==============================] - 0s 10ms/step - loss: 9.2718e-08 - accuracy: 1.0000 - val_loss: 0.0795 - val_accuracy: 0.9333\n",
      "Epoch 111/200\n",
      "15/15 [==============================] - 0s 10ms/step - loss: 9.0069e-08 - accuracy: 1.0000 - val_loss: 0.0810 - val_accuracy: 0.9333\n",
      "Epoch 112/200\n",
      "15/15 [==============================] - 0s 10ms/step - loss: 8.7420e-08 - accuracy: 1.0000 - val_loss: 0.0808 - val_accuracy: 0.9333\n",
      "Epoch 113/200\n",
      "15/15 [==============================] - 0s 13ms/step - loss: 8.4771e-08 - accuracy: 1.0000 - val_loss: 0.0818 - val_accuracy: 0.9333\n",
      "Epoch 114/200\n",
      "15/15 [==============================] - 0s 11ms/step - loss: 7.9473e-08 - accuracy: 1.0000 - val_loss: 0.0814 - val_accuracy: 0.9333\n",
      "Epoch 115/200\n",
      "15/15 [==============================] - 0s 11ms/step - loss: 8.2122e-08 - accuracy: 1.0000 - val_loss: 0.0811 - val_accuracy: 0.9333\n",
      "Epoch 116/200\n",
      "15/15 [==============================] - 0s 9ms/step - loss: 7.6824e-08 - accuracy: 1.0000 - val_loss: 0.0829 - val_accuracy: 0.9333\n",
      "Epoch 117/200\n",
      "15/15 [==============================] - 0s 10ms/step - loss: 7.6824e-08 - accuracy: 1.0000 - val_loss: 0.0826 - val_accuracy: 0.9333\n",
      "Epoch 118/200\n",
      "15/15 [==============================] - 0s 11ms/step - loss: 7.6824e-08 - accuracy: 1.0000 - val_loss: 0.0819 - val_accuracy: 0.9333\n",
      "Epoch 119/200\n",
      "15/15 [==============================] - 0s 10ms/step - loss: 7.4175e-08 - accuracy: 1.0000 - val_loss: 0.0815 - val_accuracy: 0.9333\n",
      "Epoch 120/200\n",
      "15/15 [==============================] - 0s 9ms/step - loss: 7.1526e-08 - accuracy: 1.0000 - val_loss: 0.0825 - val_accuracy: 0.9333\n",
      "Epoch 121/200\n",
      "15/15 [==============================] - 0s 10ms/step - loss: 7.1526e-08 - accuracy: 1.0000 - val_loss: 0.0839 - val_accuracy: 0.9333\n",
      "Epoch 122/200\n",
      "15/15 [==============================] - 0s 10ms/step - loss: 7.1526e-08 - accuracy: 1.0000 - val_loss: 0.0839 - val_accuracy: 0.9333\n",
      "Epoch 123/200\n",
      "15/15 [==============================] - 0s 10ms/step - loss: 7.1526e-08 - accuracy: 1.0000 - val_loss: 0.0834 - val_accuracy: 0.9333\n",
      "Epoch 124/200\n",
      "15/15 [==============================] - 0s 10ms/step - loss: 7.1526e-08 - accuracy: 1.0000 - val_loss: 0.0836 - val_accuracy: 0.9333\n",
      "Epoch 125/200\n",
      "15/15 [==============================] - 0s 10ms/step - loss: 6.8876e-08 - accuracy: 1.0000 - val_loss: 0.0836 - val_accuracy: 0.9333\n",
      "Epoch 126/200\n",
      "15/15 [==============================] - 0s 10ms/step - loss: 6.0929e-08 - accuracy: 1.0000 - val_loss: 0.0849 - val_accuracy: 0.9333\n",
      "Epoch 127/200\n",
      "15/15 [==============================] - 0s 10ms/step - loss: 5.8280e-08 - accuracy: 1.0000 - val_loss: 0.0861 - val_accuracy: 0.9333\n",
      "Epoch 128/200\n",
      "15/15 [==============================] - 0s 10ms/step - loss: 5.8280e-08 - accuracy: 1.0000 - val_loss: 0.0851 - val_accuracy: 0.9333\n",
      "Epoch 129/200\n",
      "15/15 [==============================] - 0s 10ms/step - loss: 5.8280e-08 - accuracy: 1.0000 - val_loss: 0.0870 - val_accuracy: 0.9333\n",
      "Epoch 130/200\n",
      "15/15 [==============================] - 0s 11ms/step - loss: 5.8280e-08 - accuracy: 1.0000 - val_loss: 0.0867 - val_accuracy: 0.9333\n",
      "Epoch 131/200\n",
      "15/15 [==============================] - 0s 10ms/step - loss: 5.8280e-08 - accuracy: 1.0000 - val_loss: 0.0869 - val_accuracy: 0.9333\n",
      "Epoch 132/200\n",
      "15/15 [==============================] - 0s 10ms/step - loss: 5.2982e-08 - accuracy: 1.0000 - val_loss: 0.0873 - val_accuracy: 0.9333\n",
      "Epoch 133/200\n",
      "15/15 [==============================] - 0s 10ms/step - loss: 5.2982e-08 - accuracy: 1.0000 - val_loss: 0.0875 - val_accuracy: 0.9333\n",
      "Epoch 134/200\n",
      "15/15 [==============================] - 0s 10ms/step - loss: 5.0333e-08 - accuracy: 1.0000 - val_loss: 0.0896 - val_accuracy: 0.9333\n",
      "Epoch 135/200\n",
      "15/15 [==============================] - 0s 10ms/step - loss: 4.7684e-08 - accuracy: 1.0000 - val_loss: 0.0892 - val_accuracy: 0.9333\n",
      "Epoch 136/200\n",
      "15/15 [==============================] - 0s 10ms/step - loss: 4.7684e-08 - accuracy: 1.0000 - val_loss: 0.0877 - val_accuracy: 0.9333\n",
      "Epoch 137/200\n",
      "15/15 [==============================] - 0s 10ms/step - loss: 4.7684e-08 - accuracy: 1.0000 - val_loss: 0.0875 - val_accuracy: 0.9333\n",
      "Epoch 138/200\n",
      "15/15 [==============================] - 0s 10ms/step - loss: 4.5035e-08 - accuracy: 1.0000 - val_loss: 0.0886 - val_accuracy: 0.9333\n",
      "Epoch 139/200\n",
      "15/15 [==============================] - 0s 10ms/step - loss: 4.5035e-08 - accuracy: 1.0000 - val_loss: 0.0886 - val_accuracy: 0.9333\n",
      "Epoch 140/200\n",
      "15/15 [==============================] - 0s 10ms/step - loss: 4.5035e-08 - accuracy: 1.0000 - val_loss: 0.0882 - val_accuracy: 0.9333\n",
      "Epoch 141/200\n",
      "15/15 [==============================] - 0s 10ms/step - loss: 4.5035e-08 - accuracy: 1.0000 - val_loss: 0.0895 - val_accuracy: 0.9333\n",
      "Epoch 142/200\n",
      "15/15 [==============================] - 0s 10ms/step - loss: 4.5035e-08 - accuracy: 1.0000 - val_loss: 0.0899 - val_accuracy: 0.9333\n",
      "Epoch 143/200\n",
      "15/15 [==============================] - 0s 11ms/step - loss: 4.5035e-08 - accuracy: 1.0000 - val_loss: 0.0907 - val_accuracy: 0.9333\n",
      "Epoch 144/200\n",
      "15/15 [==============================] - 0s 11ms/step - loss: 3.9736e-08 - accuracy: 1.0000 - val_loss: 0.0900 - val_accuracy: 0.9333\n",
      "Epoch 145/200\n",
      "15/15 [==============================] - 0s 11ms/step - loss: 3.9736e-08 - accuracy: 1.0000 - val_loss: 0.0896 - val_accuracy: 0.9333\n",
      "Epoch 146/200\n",
      "15/15 [==============================] - 0s 10ms/step - loss: 3.9736e-08 - accuracy: 1.0000 - val_loss: 0.0897 - val_accuracy: 0.9333\n",
      "Epoch 147/200\n",
      "15/15 [==============================] - 0s 10ms/step - loss: 3.9736e-08 - accuracy: 1.0000 - val_loss: 0.0888 - val_accuracy: 0.9333\n",
      "Epoch 148/200\n",
      "15/15 [==============================] - 0s 12ms/step - loss: 3.9736e-08 - accuracy: 1.0000 - val_loss: 0.0909 - val_accuracy: 0.9333\n",
      "Epoch 149/200\n",
      "15/15 [==============================] - 0s 12ms/step - loss: 3.9736e-08 - accuracy: 1.0000 - val_loss: 0.0906 - val_accuracy: 0.9333\n",
      "Epoch 150/200\n",
      "15/15 [==============================] - 0s 11ms/step - loss: 3.9736e-08 - accuracy: 1.0000 - val_loss: 0.0908 - val_accuracy: 0.9333\n",
      "Epoch 151/200\n",
      "15/15 [==============================] - 0s 12ms/step - loss: 3.7087e-08 - accuracy: 1.0000 - val_loss: 0.0897 - val_accuracy: 0.9333\n",
      "Epoch 152/200\n",
      "15/15 [==============================] - 0s 11ms/step - loss: 3.7087e-08 - accuracy: 1.0000 - val_loss: 0.0907 - val_accuracy: 0.9333\n",
      "Epoch 153/200\n",
      "15/15 [==============================] - 0s 10ms/step - loss: 3.7087e-08 - accuracy: 1.0000 - val_loss: 0.0921 - val_accuracy: 0.9333\n",
      "Epoch 154/200\n",
      "15/15 [==============================] - 0s 10ms/step - loss: 3.7087e-08 - accuracy: 1.0000 - val_loss: 0.0911 - val_accuracy: 0.9333\n",
      "Epoch 155/200\n",
      "15/15 [==============================] - 0s 10ms/step - loss: 3.7087e-08 - accuracy: 1.0000 - val_loss: 0.0913 - val_accuracy: 0.9333\n",
      "Epoch 156/200\n",
      "15/15 [==============================] - 0s 10ms/step - loss: 3.4438e-08 - accuracy: 1.0000 - val_loss: 0.0926 - val_accuracy: 0.9333\n",
      "Epoch 157/200\n",
      "15/15 [==============================] - 0s 10ms/step - loss: 3.1789e-08 - accuracy: 1.0000 - val_loss: 0.0925 - val_accuracy: 0.9333\n",
      "Epoch 158/200\n",
      "15/15 [==============================] - 0s 10ms/step - loss: 2.9140e-08 - accuracy: 1.0000 - val_loss: 0.0914 - val_accuracy: 0.9333\n",
      "Epoch 159/200\n",
      "15/15 [==============================] - 0s 10ms/step - loss: 2.9140e-08 - accuracy: 1.0000 - val_loss: 0.0927 - val_accuracy: 0.9333\n",
      "Epoch 160/200\n",
      "15/15 [==============================] - 0s 9ms/step - loss: 2.9140e-08 - accuracy: 1.0000 - val_loss: 0.0930 - val_accuracy: 0.9333\n",
      "Epoch 161/200\n",
      "15/15 [==============================] - 0s 10ms/step - loss: 2.9140e-08 - accuracy: 1.0000 - val_loss: 0.0937 - val_accuracy: 0.9333\n",
      "Epoch 162/200\n",
      "15/15 [==============================] - 0s 10ms/step - loss: 2.9140e-08 - accuracy: 1.0000 - val_loss: 0.0941 - val_accuracy: 0.9333\n",
      "Epoch 163/200\n",
      "15/15 [==============================] - 0s 10ms/step - loss: 2.9140e-08 - accuracy: 1.0000 - val_loss: 0.0943 - val_accuracy: 0.9333\n",
      "Epoch 164/200\n",
      "15/15 [==============================] - 0s 11ms/step - loss: 2.9140e-08 - accuracy: 1.0000 - val_loss: 0.0955 - val_accuracy: 0.9333\n",
      "Epoch 165/200\n",
      "15/15 [==============================] - 0s 9ms/step - loss: 2.9140e-08 - accuracy: 1.0000 - val_loss: 0.0946 - val_accuracy: 0.9333\n",
      "Epoch 166/200\n",
      "15/15 [==============================] - 0s 10ms/step - loss: 2.6491e-08 - accuracy: 1.0000 - val_loss: 0.0954 - val_accuracy: 0.9333\n",
      "Epoch 167/200\n",
      "15/15 [==============================] - 0s 10ms/step - loss: 2.6491e-08 - accuracy: 1.0000 - val_loss: 0.0961 - val_accuracy: 0.9333\n",
      "Epoch 168/200\n",
      "15/15 [==============================] - 0s 10ms/step - loss: 2.6491e-08 - accuracy: 1.0000 - val_loss: 0.0959 - val_accuracy: 0.9333\n",
      "Epoch 169/200\n",
      "15/15 [==============================] - 0s 10ms/step - loss: 2.6491e-08 - accuracy: 1.0000 - val_loss: 0.0956 - val_accuracy: 0.9333\n",
      "Epoch 170/200\n",
      "15/15 [==============================] - 0s 10ms/step - loss: 2.6491e-08 - accuracy: 1.0000 - val_loss: 0.0957 - val_accuracy: 0.9333\n",
      "Epoch 171/200\n",
      "15/15 [==============================] - 0s 10ms/step - loss: 2.6491e-08 - accuracy: 1.0000 - val_loss: 0.0953 - val_accuracy: 0.9333\n",
      "Epoch 172/200\n",
      "15/15 [==============================] - 0s 10ms/step - loss: 2.3842e-08 - accuracy: 1.0000 - val_loss: 0.0965 - val_accuracy: 0.9333\n",
      "Epoch 173/200\n",
      "15/15 [==============================] - 0s 10ms/step - loss: 2.1193e-08 - accuracy: 1.0000 - val_loss: 0.0971 - val_accuracy: 0.9333\n",
      "Epoch 174/200\n",
      "15/15 [==============================] - 0s 11ms/step - loss: 1.8544e-08 - accuracy: 1.0000 - val_loss: 0.0976 - val_accuracy: 0.9333\n",
      "Epoch 175/200\n",
      "15/15 [==============================] - 0s 10ms/step - loss: 1.8544e-08 - accuracy: 1.0000 - val_loss: 0.0979 - val_accuracy: 0.9333\n",
      "Epoch 176/200\n",
      "15/15 [==============================] - 0s 10ms/step - loss: 1.8544e-08 - accuracy: 1.0000 - val_loss: 0.0973 - val_accuracy: 0.9333\n",
      "Epoch 177/200\n",
      "15/15 [==============================] - 0s 10ms/step - loss: 1.8544e-08 - accuracy: 1.0000 - val_loss: 0.0967 - val_accuracy: 0.9333\n",
      "Epoch 178/200\n",
      "15/15 [==============================] - 0s 10ms/step - loss: 1.8544e-08 - accuracy: 1.0000 - val_loss: 0.0974 - val_accuracy: 0.9333\n",
      "Epoch 179/200\n",
      "15/15 [==============================] - 0s 10ms/step - loss: 1.8544e-08 - accuracy: 1.0000 - val_loss: 0.0976 - val_accuracy: 0.9333\n",
      "Epoch 180/200\n",
      "15/15 [==============================] - 0s 10ms/step - loss: 1.8544e-08 - accuracy: 1.0000 - val_loss: 0.0979 - val_accuracy: 0.9333\n",
      "Epoch 181/200\n",
      "15/15 [==============================] - 0s 10ms/step - loss: 1.8544e-08 - accuracy: 1.0000 - val_loss: 0.0984 - val_accuracy: 0.9333\n",
      "Epoch 182/200\n",
      "15/15 [==============================] - 0s 10ms/step - loss: 1.8544e-08 - accuracy: 1.0000 - val_loss: 0.0975 - val_accuracy: 0.9333\n",
      "Epoch 183/200\n",
      "15/15 [==============================] - 0s 10ms/step - loss: 2.1193e-08 - accuracy: 1.0000 - val_loss: 0.0987 - val_accuracy: 0.9333\n",
      "Epoch 184/200\n",
      "15/15 [==============================] - 0s 10ms/step - loss: 2.1193e-08 - accuracy: 1.0000 - val_loss: 0.0982 - val_accuracy: 0.9333\n",
      "Epoch 185/200\n",
      "15/15 [==============================] - 0s 10ms/step - loss: 1.8544e-08 - accuracy: 1.0000 - val_loss: 0.0985 - val_accuracy: 0.9333\n",
      "Epoch 186/200\n",
      "15/15 [==============================] - 0s 10ms/step - loss: 1.8544e-08 - accuracy: 1.0000 - val_loss: 0.0982 - val_accuracy: 0.9333\n",
      "Epoch 187/200\n",
      "15/15 [==============================] - 0s 10ms/step - loss: 1.5895e-08 - accuracy: 1.0000 - val_loss: 0.0988 - val_accuracy: 0.9333\n",
      "Epoch 188/200\n",
      "15/15 [==============================] - 0s 10ms/step - loss: 1.5895e-08 - accuracy: 1.0000 - val_loss: 0.0988 - val_accuracy: 0.9333\n",
      "Epoch 189/200\n",
      "15/15 [==============================] - 0s 10ms/step - loss: 1.5895e-08 - accuracy: 1.0000 - val_loss: 0.0995 - val_accuracy: 0.9333\n",
      "Epoch 190/200\n",
      "15/15 [==============================] - 0s 10ms/step - loss: 1.5895e-08 - accuracy: 1.0000 - val_loss: 0.0989 - val_accuracy: 0.9333\n",
      "Epoch 191/200\n",
      "15/15 [==============================] - 0s 13ms/step - loss: 1.3245e-08 - accuracy: 1.0000 - val_loss: 0.0987 - val_accuracy: 0.9333\n",
      "Epoch 192/200\n",
      "15/15 [==============================] - 0s 11ms/step - loss: 1.5895e-08 - accuracy: 1.0000 - val_loss: 0.0984 - val_accuracy: 0.9333\n",
      "Epoch 193/200\n",
      "15/15 [==============================] - 0s 10ms/step - loss: 1.5895e-08 - accuracy: 1.0000 - val_loss: 0.0980 - val_accuracy: 0.9333\n",
      "Epoch 194/200\n",
      "15/15 [==============================] - 0s 10ms/step - loss: 1.5895e-08 - accuracy: 1.0000 - val_loss: 0.0983 - val_accuracy: 0.9333\n",
      "Epoch 195/200\n",
      "15/15 [==============================] - 0s 10ms/step - loss: 1.3245e-08 - accuracy: 1.0000 - val_loss: 0.0981 - val_accuracy: 0.9333\n",
      "Epoch 196/200\n",
      "15/15 [==============================] - 0s 12ms/step - loss: 1.5895e-08 - accuracy: 1.0000 - val_loss: 0.0985 - val_accuracy: 0.9333\n",
      "Epoch 197/200\n",
      "15/15 [==============================] - 0s 10ms/step - loss: 1.5895e-08 - accuracy: 1.0000 - val_loss: 0.0980 - val_accuracy: 0.9333\n",
      "Epoch 198/200\n",
      "15/15 [==============================] - 0s 9ms/step - loss: 1.5895e-08 - accuracy: 1.0000 - val_loss: 0.0978 - val_accuracy: 0.9333\n",
      "Epoch 199/200\n",
      "15/15 [==============================] - 0s 9ms/step - loss: 1.3245e-08 - accuracy: 1.0000 - val_loss: 0.0982 - val_accuracy: 0.9333\n",
      "Epoch 200/200\n",
      "15/15 [==============================] - 0s 9ms/step - loss: 1.3245e-08 - accuracy: 1.0000 - val_loss: 0.0976 - val_accuracy: 0.9333\n"
     ]
    },
    {
     "data": {
      "text/plain": [
       "<tensorflow.python.keras.callbacks.History at 0x22f68f29310>"
      ]
     },
     "execution_count": 13,
     "metadata": {},
     "output_type": "execute_result"
    }
   ],
   "source": [
    "model.fit_generator(\r\n",
    "        train_generator,\r\n",
    "        steps_per_epoch=15,\r\n",
    "        epochs=200,\r\n",
    "        validation_data=test_generator,\r\n",
    "        validation_steps=5)"
   ]
  },
  {
   "cell_type": "markdown",
   "metadata": {},
   "source": [
    "## 모델 평가"
   ]
  },
  {
   "cell_type": "code",
   "execution_count": 14,
   "metadata": {},
   "outputs": [
    {
     "name": "stdout",
     "output_type": "stream",
     "text": [
      "WARNING:tensorflow:From <ipython-input-14-d978fec4ea97>:1: Model.evaluate_generator (from tensorflow.python.keras.engine.training) is deprecated and will be removed in a future version.\n",
      "Instructions for updating:\n",
      "Please use Model.evaluate, which supports generators.\n"
     ]
    },
    {
     "data": {
      "text/plain": [
       "[0.09764809161424637, 0.9333333373069763]"
      ]
     },
     "execution_count": 14,
     "metadata": {},
     "output_type": "execute_result"
    }
   ],
   "source": [
    "model.evaluate_generator(test_generator, steps=5)"
   ]
  },
  {
   "cell_type": "code",
   "execution_count": 17,
   "metadata": {},
   "outputs": [
    {
     "name": "stdout",
     "output_type": "stream",
     "text": [
      "5/5 [==============================] - 0s 3ms/step - loss: 0.0976 - accuracy: 0.9333\n"
     ]
    },
    {
     "data": {
      "text/plain": [
       "[0.09764809161424637, 0.9333333373069763]"
      ]
     },
     "execution_count": 17,
     "metadata": {},
     "output_type": "execute_result"
    }
   ],
   "source": [
    "model.evaluate(test_generator, steps=5)"
   ]
  }
 ],
 "metadata": {
  "interpreter": {
   "hash": "8c1eae21719a0790335dcb83aad72b63b602cfe5cdb2bda0f60bc11d4f154e4b"
  },
  "kernelspec": {
   "display_name": "Python 3.8.5 64-bit ('base': conda)",
   "name": "python3"
  },
  "language_info": {
   "codemirror_mode": {
    "name": "ipython",
    "version": 3
   },
   "file_extension": ".py",
   "mimetype": "text/x-python",
   "name": "python",
   "nbconvert_exporter": "python",
   "pygments_lexer": "ipython3",
   "version": "3.8.5"
  },
  "orig_nbformat": 4
 },
 "nbformat": 4,
 "nbformat_minor": 2
}