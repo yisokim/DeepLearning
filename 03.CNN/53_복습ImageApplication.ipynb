{
 "cells": [
  {
   "cell_type": "markdown",
   "metadata": {},
   "source": [
    "# 1. 코드\r\n",
    "backbone으로 가장 많이 사용된다.\r\n",
    "2014년에 ILSVRC에서 2등 한 모델이다. 1등은 구글에서 했지만, 더 많이 사용한다.\r\n",
    "특이한 것이 없는 일반적인 CNN이다.\r\n",
    "CNN과 동일하게 convolution layer와 max pooling later가 있다.\r\n",
    "21개의 layer를 갖고 weight 는 1억 4천 개\r\n",
    "pooling 레이어를 제외하고 모두 16개의 레이어가 있다."
   ]
  },
  {
   "cell_type": "code",
   "execution_count": 12,
   "metadata": {},
   "outputs": [],
   "source": [
    "from tensorflow.keras.applications.vgg16 import VGG16, decode_predictions\r\n",
    "from tensorflow.keras.preprocessing.image import load_img\r\n",
    "from tensorflow.keras.preprocessing.image import img_to_array\r\n",
    "from IPython.display import display  #이미지 출력 함수\r\n",
    "import numpy as np\r\n",
    "from PIL import Image"
   ]
  },
  {
   "cell_type": "markdown",
   "metadata": {},
   "source": [
    "## # 파일불러오기"
   ]
  },
  {
   "cell_type": "code",
   "execution_count": 13,
   "metadata": {},
   "outputs": [
    {
     "data": {
      "text/plain": [
       "['animals\\\\dolphin.jpg',\n",
       " 'animals\\\\eagle.jpg',\n",
       " 'animals\\\\kangaroo.jpg',\n",
       " 'animals\\\\koala.jpg',\n",
       " 'animals\\\\lion.jpg',\n",
       " 'animals\\\\monkey.jpg',\n",
       " 'animals\\\\panda.jpg',\n",
       " 'animals\\\\polarbear.jpg',\n",
       " 'animals\\\\puma.jpg',\n",
       " 'animals\\\\Red panda.jpg',\n",
       " 'animals\\\\seal.jpg',\n",
       " 'animals\\\\shark.jpg']"
      ]
     },
     "execution_count": 13,
     "metadata": {},
     "output_type": "execute_result"
    }
   ],
   "source": [
    "from glob import glob\r\n",
    "glob('animals/*')"
   ]
  },
  {
   "cell_type": "code",
   "execution_count": 14,
   "metadata": {},
   "outputs": [
    {
     "name": "stdout",
     "output_type": "stream",
     "text": [
      "['dolphin', 'eagle', 'kangaroo', 'koala', 'lion', 'monkey', 'panda', 'polarbear', 'puma', 'Red panda', 'seal', 'shark']\n"
     ]
    }
   ],
   "source": [
    "# name 리스트로 만들기\r\n",
    "name_list = []    # 빈 리스트 생성\r\n",
    "for f in glob('animals/*'):\r\n",
    "    name = f.split('\\\\')[1]\r\n",
    "    name = name.split('.')[0]\r\n",
    "    name_list.append(name)\r\n",
    "print(name_list)"
   ]
  },
  {
   "cell_type": "markdown",
   "metadata": {},
   "source": [
    "## VGG16"
   ]
  },
  {
   "cell_type": "code",
   "execution_count": 15,
   "metadata": {},
   "outputs": [],
   "source": [
    "def predict_vgg16(model, filename):\r\n",
    "    img = np.array(Image.open(filename).resize((224,224)))\r\n",
    "    # 이미지는 객체로 다양한 정보를 갖고 있음. 그런데 우리가 분석을 위해서는\r\n",
    "    # 단지 숫자로 이뤄진 array만 있으면 되기 때문에 객체를 array로 변환\r\n",
    "    # 처음 로드할 때부터 size를 바꿔서 로드한 결과를 바로 image에 담음\r\n",
    "\r\n",
    "    yhat = model.predict(img.reshape(-1,224,224,3))\r\n",
    "    # vgg16.preprocess_input()을 호출하기 위해 차원을 조정\r\n",
    "    # 보통 모델을 여러 이미지를 한번에 호출. \r\n",
    "    # 맨 앞의 1 : 이미지 갯수가 1개라는 것.\r\n",
    "    # 두번째 224 : 가로\r\n",
    "    # 세번째 224 : 세로\r\n",
    "    # 네번째 3 : R, G, B 3개\r\n",
    "    # yhat : 이미지를 모델에 적용\r\n",
    "    # 위에 적용한 vgg16모델에 predict를 img 데이터로\r\n",
    "\r\n",
    "    label = decode_predictions(yhat)\r\n",
    "    # 적용된 결과를 파싱\r\n",
    "    \r\n",
    "    return label[0][0][1]\r\n",
    "    # 확률이 가장 높은 것을 획득하려면,\r\n",
    "    # 첫 번째를 고르면 된다.(sorting 되어있기 때문이다.)"
   ]
  },
  {
   "cell_type": "code",
   "execution_count": 16,
   "metadata": {},
   "outputs": [
    {
     "name": "stdout",
     "output_type": "stream",
     "text": [
      "['saltshaker', 'bald_eagle', 'grey_fox', 'koala', 'lion', 'langur', 'giant_panda', 'ice_bear', 'cougar', 'Arctic_fox', 'ice_bear', 'snail']\n"
     ]
    }
   ],
   "source": [
    "vgg16 = VGG16()\r\n",
    "vgg16_list = []\r\n",
    "for file in glob('animals/*'):\r\n",
    "    pred = predict_vgg16(vgg16, file)\r\n",
    "    vgg16_list.append(pred)\r\n",
    "print(vgg16_list)"
   ]
  },
  {
   "cell_type": "markdown",
   "metadata": {},
   "source": [
    "# 2. 커스텀 데이터(내가 만든 데이터)로 학습"
   ]
  },
  {
   "cell_type": "code",
   "execution_count": null,
   "metadata": {},
   "outputs": [],
   "source": []
  }
 ],
 "metadata": {
  "interpreter": {
   "hash": "8c1eae21719a0790335dcb83aad72b63b602cfe5cdb2bda0f60bc11d4f154e4b"
  },
  "kernelspec": {
   "display_name": "Python 3.8.5 64-bit ('base': conda)",
   "name": "python3"
  },
  "language_info": {
   "name": "python",
   "version": ""
  },
  "orig_nbformat": 4
 },
 "nbformat": 4,
 "nbformat_minor": 2
}