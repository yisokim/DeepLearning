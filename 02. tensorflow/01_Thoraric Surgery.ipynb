{
 "cells": [
  {
   "cell_type": "markdown",
   "metadata": {},
   "source": [
    "# 폐병 환자 수술(Thoraric Surgery)"
   ]
  },
  {
   "cell_type": "code",
   "execution_count": 1,
   "metadata": {},
   "outputs": [],
   "source": [
    "import numpy as np\r\n",
    "import pandas as pd"
   ]
  },
  {
   "cell_type": "code",
   "execution_count": 5,
   "metadata": {},
   "outputs": [
    {
     "data": {
      "text/html": [
       "<div>\n",
       "<style scoped>\n",
       "    .dataframe tbody tr th:only-of-type {\n",
       "        vertical-align: middle;\n",
       "    }\n",
       "\n",
       "    .dataframe tbody tr th {\n",
       "        vertical-align: top;\n",
       "    }\n",
       "\n",
       "    .dataframe thead th {\n",
       "        text-align: right;\n",
       "    }\n",
       "</style>\n",
       "<table border=\"1\" class=\"dataframe\">\n",
       "  <thead>\n",
       "    <tr style=\"text-align: right;\">\n",
       "      <th></th>\n",
       "      <th>0</th>\n",
       "      <th>1</th>\n",
       "      <th>2</th>\n",
       "      <th>3</th>\n",
       "      <th>4</th>\n",
       "      <th>5</th>\n",
       "      <th>6</th>\n",
       "      <th>7</th>\n",
       "      <th>8</th>\n",
       "      <th>9</th>\n",
       "      <th>10</th>\n",
       "      <th>11</th>\n",
       "      <th>12</th>\n",
       "      <th>13</th>\n",
       "      <th>14</th>\n",
       "      <th>15</th>\n",
       "      <th>16</th>\n",
       "      <th>17</th>\n",
       "    </tr>\n",
       "  </thead>\n",
       "  <tbody>\n",
       "    <tr>\n",
       "      <th>0</th>\n",
       "      <td>293</td>\n",
       "      <td>1</td>\n",
       "      <td>3.80</td>\n",
       "      <td>2.80</td>\n",
       "      <td>0</td>\n",
       "      <td>0</td>\n",
       "      <td>0</td>\n",
       "      <td>0</td>\n",
       "      <td>0</td>\n",
       "      <td>0</td>\n",
       "      <td>12</td>\n",
       "      <td>0</td>\n",
       "      <td>0</td>\n",
       "      <td>0</td>\n",
       "      <td>1</td>\n",
       "      <td>0</td>\n",
       "      <td>62</td>\n",
       "      <td>0</td>\n",
       "    </tr>\n",
       "    <tr>\n",
       "      <th>1</th>\n",
       "      <td>1</td>\n",
       "      <td>2</td>\n",
       "      <td>2.88</td>\n",
       "      <td>2.16</td>\n",
       "      <td>1</td>\n",
       "      <td>0</td>\n",
       "      <td>0</td>\n",
       "      <td>0</td>\n",
       "      <td>1</td>\n",
       "      <td>1</td>\n",
       "      <td>14</td>\n",
       "      <td>0</td>\n",
       "      <td>0</td>\n",
       "      <td>0</td>\n",
       "      <td>1</td>\n",
       "      <td>0</td>\n",
       "      <td>60</td>\n",
       "      <td>0</td>\n",
       "    </tr>\n",
       "    <tr>\n",
       "      <th>2</th>\n",
       "      <td>8</td>\n",
       "      <td>2</td>\n",
       "      <td>3.19</td>\n",
       "      <td>2.50</td>\n",
       "      <td>1</td>\n",
       "      <td>0</td>\n",
       "      <td>0</td>\n",
       "      <td>0</td>\n",
       "      <td>1</td>\n",
       "      <td>0</td>\n",
       "      <td>11</td>\n",
       "      <td>0</td>\n",
       "      <td>0</td>\n",
       "      <td>1</td>\n",
       "      <td>1</td>\n",
       "      <td>0</td>\n",
       "      <td>66</td>\n",
       "      <td>1</td>\n",
       "    </tr>\n",
       "    <tr>\n",
       "      <th>3</th>\n",
       "      <td>14</td>\n",
       "      <td>2</td>\n",
       "      <td>3.98</td>\n",
       "      <td>3.06</td>\n",
       "      <td>2</td>\n",
       "      <td>0</td>\n",
       "      <td>0</td>\n",
       "      <td>0</td>\n",
       "      <td>1</td>\n",
       "      <td>1</td>\n",
       "      <td>14</td>\n",
       "      <td>0</td>\n",
       "      <td>0</td>\n",
       "      <td>0</td>\n",
       "      <td>1</td>\n",
       "      <td>0</td>\n",
       "      <td>80</td>\n",
       "      <td>1</td>\n",
       "    </tr>\n",
       "    <tr>\n",
       "      <th>4</th>\n",
       "      <td>17</td>\n",
       "      <td>2</td>\n",
       "      <td>2.21</td>\n",
       "      <td>1.88</td>\n",
       "      <td>0</td>\n",
       "      <td>0</td>\n",
       "      <td>1</td>\n",
       "      <td>0</td>\n",
       "      <td>0</td>\n",
       "      <td>0</td>\n",
       "      <td>12</td>\n",
       "      <td>0</td>\n",
       "      <td>0</td>\n",
       "      <td>0</td>\n",
       "      <td>1</td>\n",
       "      <td>0</td>\n",
       "      <td>56</td>\n",
       "      <td>0</td>\n",
       "    </tr>\n",
       "  </tbody>\n",
       "</table>\n",
       "</div>"
      ],
      "text/plain": [
       "    0   1     2     3   4   5   6   7   8   9   10  11  12  13  14  15  16  17\n",
       "0  293   1  3.80  2.80   0   0   0   0   0   0  12   0   0   0   1   0  62   0\n",
       "1    1   2  2.88  2.16   1   0   0   0   1   1  14   0   0   0   1   0  60   0\n",
       "2    8   2  3.19  2.50   1   0   0   0   1   0  11   0   0   1   1   0  66   1\n",
       "3   14   2  3.98  3.06   2   0   0   0   1   1  14   0   0   0   1   0  80   1\n",
       "4   17   2  2.21  1.88   0   0   1   0   0   0  12   0   0   0   1   0  56   0"
      ]
     },
     "execution_count": 5,
     "metadata": {},
     "output_type": "execute_result"
    }
   ],
   "source": [
    "df = pd.read_csv('dataset/ThoraricSurgery.csv',header=None)\r\n",
    "df.head()"
   ]
  },
  {
   "cell_type": "code",
   "execution_count": 6,
   "metadata": {},
   "outputs": [
    {
     "data": {
      "text/plain": [
       "((352, 17), (118, 17), (352,), (118,))"
      ]
     },
     "execution_count": 6,
     "metadata": {},
     "output_type": "execute_result"
    }
   ],
   "source": [
    "from sklearn.model_selection import train_test_split\r\n",
    "X_train, X_test, y_train, y_test = train_test_split(\r\n",
    "    df.iloc[:,:-1].values, df.iloc[:,-1].values,\r\n",
    "    stratify=df.iloc[:,-1].values, random_state=2021\r\n",
    ")\r\n",
    "X_train.shape, X_test.shape, y_train.shape, y_test.shape"
   ]
  },
  {
   "cell_type": "code",
   "execution_count": 8,
   "metadata": {},
   "outputs": [],
   "source": [
    "import tensorflow as tf\r\n",
    "seed = 2021\r\n",
    "np.random.seed(seed)\r\n",
    "tf.random.set_seed(seed)"
   ]
  },
  {
   "cell_type": "code",
   "execution_count": 9,
   "metadata": {},
   "outputs": [],
   "source": [
    "from tensorflow.keras.models import Sequential\r\n",
    "from tensorflow.keras.layers import Dense "
   ]
  },
  {
   "cell_type": "code",
   "execution_count": 10,
   "metadata": {},
   "outputs": [
    {
     "name": "stdout",
     "output_type": "stream",
     "text": [
      "Model: \"sequential\"\n",
      "_________________________________________________________________\n",
      "Layer (type)                 Output Shape              Param #   \n",
      "=================================================================\n",
      "dense (Dense)                (None, 30)                540       \n",
      "_________________________________________________________________\n",
      "dense_1 (Dense)              (None, 1)                 31        \n",
      "=================================================================\n",
      "Total params: 571\n",
      "Trainable params: 571\n",
      "Non-trainable params: 0\n",
      "_________________________________________________________________\n"
     ]
    }
   ],
   "source": [
    "model = Sequential()\r\n",
    "model.add(Dense(30, input_shape=(17,),activation='relu'))    # layer에 node가 몇개있는가\r\n",
    "model.add(Dense(1,activation='sigmoid'))  # activation은 시그모이드 or 소프트플러스?\r\n",
    "model.summary()"
   ]
  },
  {
   "cell_type": "markdown",
   "metadata": {},
   "source": [
    "# 모델 컴파일 - 실행환경 설정"
   ]
  },
  {
   "cell_type": "code",
   "execution_count": 11,
   "metadata": {},
   "outputs": [],
   "source": [
    "model.compile(\r\n",
    "    loss = 'binary_crossentropy',\r\n",
    "    optimizer='adam',\r\n",
    "    metrics=['accuracy']\r\n",
    ")"
   ]
  },
  {
   "cell_type": "code",
   "execution_count": 13,
   "metadata": {},
   "outputs": [
    {
     "name": "stdout",
     "output_type": "stream",
     "text": [
      "Epoch 1/30\n",
      "10/10 [==============================] - 0s 16ms/step - loss: 6.7747 - accuracy: 0.2847 - val_loss: 2.7294 - val_accuracy: 0.6338\n",
      "Epoch 2/30\n",
      "10/10 [==============================] - 0s 2ms/step - loss: 2.2952 - accuracy: 0.6940 - val_loss: 2.9131 - val_accuracy: 0.6901\n",
      "Epoch 3/30\n",
      "10/10 [==============================] - 0s 2ms/step - loss: 1.9590 - accuracy: 0.7865 - val_loss: 2.7423 - val_accuracy: 0.7042\n",
      "Epoch 4/30\n",
      "10/10 [==============================] - 0s 2ms/step - loss: 1.7152 - accuracy: 0.8185 - val_loss: 2.1955 - val_accuracy: 0.7183\n",
      "Epoch 5/30\n",
      "10/10 [==============================] - 0s 2ms/step - loss: 1.2688 - accuracy: 0.8185 - val_loss: 1.3525 - val_accuracy: 0.7183\n",
      "Epoch 6/30\n",
      "10/10 [==============================] - 0s 2ms/step - loss: 0.7266 - accuracy: 0.8114 - val_loss: 0.7041 - val_accuracy: 0.7183\n",
      "Epoch 7/30\n",
      "10/10 [==============================] - 0s 2ms/step - loss: 0.5289 - accuracy: 0.8007 - val_loss: 0.6523 - val_accuracy: 0.7324\n",
      "Epoch 8/30\n",
      "10/10 [==============================] - 0s 2ms/step - loss: 0.4558 - accuracy: 0.8505 - val_loss: 0.6818 - val_accuracy: 0.7606\n",
      "Epoch 9/30\n",
      "10/10 [==============================] - 0s 2ms/step - loss: 0.4529 - accuracy: 0.8577 - val_loss: 0.6435 - val_accuracy: 0.7606\n",
      "Epoch 10/30\n",
      "10/10 [==============================] - 0s 2ms/step - loss: 0.4392 - accuracy: 0.8577 - val_loss: 0.6561 - val_accuracy: 0.7606\n",
      "Epoch 11/30\n",
      "10/10 [==============================] - 0s 3ms/step - loss: 0.4271 - accuracy: 0.8577 - val_loss: 0.6352 - val_accuracy: 0.7606\n",
      "Epoch 12/30\n",
      "10/10 [==============================] - 0s 3ms/step - loss: 0.4230 - accuracy: 0.8577 - val_loss: 0.6267 - val_accuracy: 0.7606\n",
      "Epoch 13/30\n",
      "10/10 [==============================] - 0s 3ms/step - loss: 0.4219 - accuracy: 0.8577 - val_loss: 0.6742 - val_accuracy: 0.7606\n",
      "Epoch 14/30\n",
      "10/10 [==============================] - 0s 3ms/step - loss: 0.4375 - accuracy: 0.8577 - val_loss: 0.6126 - val_accuracy: 0.7746\n",
      "Epoch 15/30\n",
      "10/10 [==============================] - 0s 2ms/step - loss: 0.4122 - accuracy: 0.8577 - val_loss: 0.6148 - val_accuracy: 0.7746\n",
      "Epoch 16/30\n",
      "10/10 [==============================] - 0s 3ms/step - loss: 0.4085 - accuracy: 0.8577 - val_loss: 0.6109 - val_accuracy: 0.7746\n",
      "Epoch 17/30\n",
      "10/10 [==============================] - 0s 2ms/step - loss: 0.4091 - accuracy: 0.8577 - val_loss: 0.6540 - val_accuracy: 0.7746\n",
      "Epoch 18/30\n",
      "10/10 [==============================] - 0s 2ms/step - loss: 0.4328 - accuracy: 0.8577 - val_loss: 0.5950 - val_accuracy: 0.7606\n",
      "Epoch 19/30\n",
      "10/10 [==============================] - 0s 2ms/step - loss: 0.4165 - accuracy: 0.8577 - val_loss: 0.6534 - val_accuracy: 0.7746\n",
      "Epoch 20/30\n",
      "10/10 [==============================] - 0s 2ms/step - loss: 0.4043 - accuracy: 0.8577 - val_loss: 0.5927 - val_accuracy: 0.7746\n",
      "Epoch 21/30\n",
      "10/10 [==============================] - 0s 2ms/step - loss: 0.3970 - accuracy: 0.8541 - val_loss: 0.6230 - val_accuracy: 0.7887\n",
      "Epoch 22/30\n",
      "10/10 [==============================] - 0s 2ms/step - loss: 0.4093 - accuracy: 0.8612 - val_loss: 0.5920 - val_accuracy: 0.7746\n",
      "Epoch 23/30\n",
      "10/10 [==============================] - 0s 2ms/step - loss: 0.4273 - accuracy: 0.8577 - val_loss: 0.6492 - val_accuracy: 0.7887\n",
      "Epoch 24/30\n",
      "10/10 [==============================] - 0s 2ms/step - loss: 0.3992 - accuracy: 0.8577 - val_loss: 0.6011 - val_accuracy: 0.7887\n",
      "Epoch 25/30\n",
      "10/10 [==============================] - 0s 2ms/step - loss: 0.4061 - accuracy: 0.8612 - val_loss: 0.5882 - val_accuracy: 0.7746\n",
      "Epoch 26/30\n",
      "10/10 [==============================] - 0s 2ms/step - loss: 0.4001 - accuracy: 0.8612 - val_loss: 0.5879 - val_accuracy: 0.7887\n",
      "Epoch 27/30\n",
      "10/10 [==============================] - 0s 2ms/step - loss: 0.3904 - accuracy: 0.8612 - val_loss: 0.5851 - val_accuracy: 0.7887\n",
      "Epoch 28/30\n",
      "10/10 [==============================] - 0s 2ms/step - loss: 0.3882 - accuracy: 0.8612 - val_loss: 0.6280 - val_accuracy: 0.7887\n",
      "Epoch 29/30\n",
      "10/10 [==============================] - 0s 2ms/step - loss: 0.3900 - accuracy: 0.8612 - val_loss: 0.5918 - val_accuracy: 0.7746\n",
      "Epoch 30/30\n",
      "10/10 [==============================] - 0s 2ms/step - loss: 0.3971 - accuracy: 0.8612 - val_loss: 0.6224 - val_accuracy: 0.7887\n"
     ]
    },
    {
     "data": {
      "text/plain": [
       "<tensorflow.python.keras.callbacks.History at 0x1f08653d9a0>"
      ]
     },
     "execution_count": 13,
     "metadata": {},
     "output_type": "execute_result"
    }
   ],
   "source": [
    "model.fit(\r\n",
    "    X_train, y_train,\r\n",
    "    validation_split=0.2,\r\n",
    "    epochs=30,\r\n",
    "    batch_size=30\r\n",
    ")"
   ]
  },
  {
   "cell_type": "markdown",
   "metadata": {},
   "source": [
    "# 정확도 평가"
   ]
  },
  {
   "cell_type": "code",
   "execution_count": 14,
   "metadata": {},
   "outputs": [
    {
     "name": "stdout",
     "output_type": "stream",
     "text": [
      "4/4 [==============================] - 0s 997us/step - loss: 0.4715 - accuracy: 0.8475\n"
     ]
    },
    {
     "data": {
      "text/plain": [
       "[0.47146737575531006, 0.8474576473236084]"
      ]
     },
     "execution_count": 14,
     "metadata": {},
     "output_type": "execute_result"
    }
   ],
   "source": [
    "model.evaluate(X_test, y_test)"
   ]
  },
  {
   "cell_type": "markdown",
   "metadata": {},
   "source": [
    "# Machine Learning - Logistic Regression"
   ]
  },
  {
   "cell_type": "code",
   "execution_count": 15,
   "metadata": {},
   "outputs": [],
   "source": [
    "from sklearn.preprocessing import MinMaxScaler\r\n",
    "scaler = MinMaxScaler()\r\n",
    "X = scaler.fit_transform(df.iloc[:,:-1].values)"
   ]
  },
  {
   "cell_type": "code",
   "execution_count": 16,
   "metadata": {},
   "outputs": [
    {
     "data": {
      "text/plain": [
       "((352, 17), (118, 17), (352,), (118,))"
      ]
     },
     "execution_count": 16,
     "metadata": {},
     "output_type": "execute_result"
    }
   ],
   "source": [
    "X_train, X_test, y_train, y_test = train_test_split(\r\n",
    "    df.iloc[:,:-1].values, df.iloc[:,-1].values,\r\n",
    "    stratify=df.iloc[:,-1].values, random_state=2021\r\n",
    ")\r\n",
    "X_train.shape, X_test.shape, y_train.shape, y_test.shape"
   ]
  },
  {
   "cell_type": "code",
   "execution_count": 21,
   "metadata": {},
   "outputs": [],
   "source": [
    "from sklearn.linear_model import LogisticRegression\r\n",
    "from  sklearn.metrics import accuracy_score"
   ]
  },
  {
   "cell_type": "code",
   "execution_count": 23,
   "metadata": {},
   "outputs": [
    {
     "name": "stderr",
     "output_type": "stream",
     "text": [
      "C:\\Users\\CPB06GameN\\miniconda3\\lib\\site-packages\\sklearn\\linear_model\\_logistic.py:763: ConvergenceWarning: lbfgs failed to converge (status=1):\n",
      "STOP: TOTAL NO. of ITERATIONS REACHED LIMIT.\n",
      "\n",
      "Increase the number of iterations (max_iter) or scale the data as shown in:\n",
      "    https://scikit-learn.org/stable/modules/preprocessing.html\n",
      "Please also refer to the documentation for alternative solver options:\n",
      "    https://scikit-learn.org/stable/modules/linear_model.html#logistic-regression\n",
      "  n_iter_i = _check_optimize_result(\n"
     ]
    },
    {
     "data": {
      "text/plain": [
       "0.847457627118644"
      ]
     },
     "execution_count": 23,
     "metadata": {},
     "output_type": "execute_result"
    }
   ],
   "source": [
    "lr = LogisticRegression()\r\n",
    "lr.fit(X_train, y_train)\r\n",
    "pred = lr.predict(X_test)\r\n",
    "accuracy_score(y_test, pred)"
   ]
  },
  {
   "cell_type": "markdown",
   "metadata": {},
   "source": [
    "# Scale된 데이터로 딥러닝 수행한다면?"
   ]
  },
  {
   "cell_type": "code",
   "execution_count": 24,
   "metadata": {},
   "outputs": [
    {
     "name": "stdout",
     "output_type": "stream",
     "text": [
      "Model: \"sequential_1\"\n",
      "_________________________________________________________________\n",
      "Layer (type)                 Output Shape              Param #   \n",
      "=================================================================\n",
      "dense_2 (Dense)              (None, 30)                540       \n",
      "_________________________________________________________________\n",
      "dense_3 (Dense)              (None, 1)                 31        \n",
      "=================================================================\n",
      "Total params: 571\n",
      "Trainable params: 571\n",
      "Non-trainable params: 0\n",
      "_________________________________________________________________\n"
     ]
    }
   ],
   "source": [
    "model2 = Sequential()\r\n",
    "model2.add(Dense(30, input_shape=(17,),activation='relu'))    # layer에 node가 몇개있는가\r\n",
    "model2.add(Dense(1,activation='sigmoid'))\r\n",
    "model2.summary()"
   ]
  },
  {
   "cell_type": "code",
   "execution_count": 25,
   "metadata": {},
   "outputs": [],
   "source": [
    "model2.compile(\r\n",
    "    loss = 'binary_crossentropy',\r\n",
    "    optimizer='adam',\r\n",
    "    metrics=['accuracy']\r\n",
    ")"
   ]
  },
  {
   "cell_type": "code",
   "execution_count": 26,
   "metadata": {},
   "outputs": [
    {
     "name": "stdout",
     "output_type": "stream",
     "text": [
      "Epoch 1/30\n",
      "10/10 [==============================] - 0s 13ms/step - loss: 28.4668 - accuracy: 0.1352 - val_loss: 17.5959 - val_accuracy: 0.1972\n",
      "Epoch 2/30\n",
      "10/10 [==============================] - 0s 2ms/step - loss: 13.8712 - accuracy: 0.1423 - val_loss: 4.9220 - val_accuracy: 0.3803\n",
      "Epoch 3/30\n",
      "10/10 [==============================] - 0s 2ms/step - loss: 4.4218 - accuracy: 0.4520 - val_loss: 2.8361 - val_accuracy: 0.5915\n",
      "Epoch 4/30\n",
      "10/10 [==============================] - 0s 2ms/step - loss: 2.7275 - accuracy: 0.6121 - val_loss: 2.7975 - val_accuracy: 0.6620\n",
      "Epoch 5/30\n",
      "10/10 [==============================] - 0s 3ms/step - loss: 2.3796 - accuracy: 0.6548 - val_loss: 2.7593 - val_accuracy: 0.7324\n",
      "Epoch 6/30\n",
      "10/10 [==============================] - 0s 3ms/step - loss: 2.2078 - accuracy: 0.7224 - val_loss: 2.6896 - val_accuracy: 0.7324\n",
      "Epoch 7/30\n",
      "10/10 [==============================] - 0s 2ms/step - loss: 2.0485 - accuracy: 0.7580 - val_loss: 2.5484 - val_accuracy: 0.7324\n",
      "Epoch 8/30\n",
      "10/10 [==============================] - 0s 2ms/step - loss: 1.8968 - accuracy: 0.7758 - val_loss: 2.3143 - val_accuracy: 0.7746\n",
      "Epoch 9/30\n",
      "10/10 [==============================] - 0s 2ms/step - loss: 1.7374 - accuracy: 0.7651 - val_loss: 2.0567 - val_accuracy: 0.7606\n",
      "Epoch 10/30\n",
      "10/10 [==============================] - 0s 3ms/step - loss: 1.5768 - accuracy: 0.7367 - val_loss: 1.8271 - val_accuracy: 0.7465\n",
      "Epoch 11/30\n",
      "10/10 [==============================] - 0s 3ms/step - loss: 1.4284 - accuracy: 0.7331 - val_loss: 1.6577 - val_accuracy: 0.7465\n",
      "Epoch 12/30\n",
      "10/10 [==============================] - 0s 2ms/step - loss: 1.3041 - accuracy: 0.7295 - val_loss: 1.4622 - val_accuracy: 0.7887\n",
      "Epoch 13/30\n",
      "10/10 [==============================] - 0s 2ms/step - loss: 1.1549 - accuracy: 0.7331 - val_loss: 1.2757 - val_accuracy: 0.8028\n",
      "Epoch 14/30\n",
      "10/10 [==============================] - 0s 3ms/step - loss: 0.9769 - accuracy: 0.7616 - val_loss: 1.1248 - val_accuracy: 0.7887\n",
      "Epoch 15/30\n",
      "10/10 [==============================] - 0s 2ms/step - loss: 0.8540 - accuracy: 0.8007 - val_loss: 0.9915 - val_accuracy: 0.7887\n",
      "Epoch 16/30\n",
      "10/10 [==============================] - 0s 2ms/step - loss: 0.7597 - accuracy: 0.7758 - val_loss: 0.8262 - val_accuracy: 0.7606\n",
      "Epoch 17/30\n",
      "10/10 [==============================] - 0s 2ms/step - loss: 0.7184 - accuracy: 0.7509 - val_loss: 0.7742 - val_accuracy: 0.7887\n",
      "Epoch 18/30\n",
      "10/10 [==============================] - 0s 2ms/step - loss: 0.6618 - accuracy: 0.8043 - val_loss: 0.7777 - val_accuracy: 0.8310\n",
      "Epoch 19/30\n",
      "10/10 [==============================] - 0s 2ms/step - loss: 0.6031 - accuracy: 0.7972 - val_loss: 0.6856 - val_accuracy: 0.8028\n",
      "Epoch 20/30\n",
      "10/10 [==============================] - 0s 2ms/step - loss: 0.5552 - accuracy: 0.7936 - val_loss: 0.6595 - val_accuracy: 0.8169\n",
      "Epoch 21/30\n",
      "10/10 [==============================] - 0s 2ms/step - loss: 0.5212 - accuracy: 0.8043 - val_loss: 0.6307 - val_accuracy: 0.8169\n",
      "Epoch 22/30\n",
      "10/10 [==============================] - 0s 2ms/step - loss: 0.5005 - accuracy: 0.8505 - val_loss: 0.6592 - val_accuracy: 0.8169\n",
      "Epoch 23/30\n",
      "10/10 [==============================] - 0s 2ms/step - loss: 0.4685 - accuracy: 0.8327 - val_loss: 0.6109 - val_accuracy: 0.7887\n",
      "Epoch 24/30\n",
      "10/10 [==============================] - 0s 2ms/step - loss: 0.4390 - accuracy: 0.8577 - val_loss: 0.6186 - val_accuracy: 0.8028\n",
      "Epoch 25/30\n",
      "10/10 [==============================] - 0s 2ms/step - loss: 0.4277 - accuracy: 0.8648 - val_loss: 0.6232 - val_accuracy: 0.8028\n",
      "Epoch 26/30\n",
      "10/10 [==============================] - 0s 2ms/step - loss: 0.4209 - accuracy: 0.8648 - val_loss: 0.6198 - val_accuracy: 0.8028\n",
      "Epoch 27/30\n",
      "10/10 [==============================] - 0s 2ms/step - loss: 0.4083 - accuracy: 0.8648 - val_loss: 0.6217 - val_accuracy: 0.8028\n",
      "Epoch 28/30\n",
      "10/10 [==============================] - 0s 2ms/step - loss: 0.4003 - accuracy: 0.8683 - val_loss: 0.6394 - val_accuracy: 0.8028\n",
      "Epoch 29/30\n",
      "10/10 [==============================] - 0s 2ms/step - loss: 0.4045 - accuracy: 0.8648 - val_loss: 0.6309 - val_accuracy: 0.8028\n",
      "Epoch 30/30\n",
      "10/10 [==============================] - 0s 2ms/step - loss: 0.3924 - accuracy: 0.8683 - val_loss: 0.6534 - val_accuracy: 0.8028\n"
     ]
    },
    {
     "data": {
      "text/plain": [
       "<tensorflow.python.keras.callbacks.History at 0x1f08834bf70>"
      ]
     },
     "execution_count": 26,
     "metadata": {},
     "output_type": "execute_result"
    }
   ],
   "source": [
    "model2.fit(X_train, y_train, validation_split=0.2,\r\n",
    "epochs=30, batch_size=30)"
   ]
  },
  {
   "cell_type": "code",
   "execution_count": 27,
   "metadata": {},
   "outputs": [
    {
     "name": "stdout",
     "output_type": "stream",
     "text": [
      "4/4 [==============================] - 0s 739us/step - loss: 0.4732 - accuracy: 0.8475\n"
     ]
    },
    {
     "data": {
      "text/plain": [
       "[0.4731713831424713, 0.8474576473236084]"
      ]
     },
     "execution_count": 27,
     "metadata": {},
     "output_type": "execute_result"
    }
   ],
   "source": [
    "model2.evaluate(X_test, y_test)"
   ]
  }
 ],
 "metadata": {
  "interpreter": {
   "hash": "8c1eae21719a0790335dcb83aad72b63b602cfe5cdb2bda0f60bc11d4f154e4b"
  },
  "kernelspec": {
   "display_name": "Python 3.8.5 64-bit ('base': conda)",
   "name": "python3"
  },
  "language_info": {
   "name": "python",
   "version": ""
  },
  "orig_nbformat": 4
 },
 "nbformat": 4,
 "nbformat_minor": 2
}